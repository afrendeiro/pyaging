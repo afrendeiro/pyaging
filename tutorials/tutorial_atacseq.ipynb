{
 "cells": [
  {
   "cell_type": "markdown",
   "id": "82321cbb-e1b9-49f3-b826-32c4fafd96f4",
   "metadata": {},
   "source": [
    "[![Open In Colab](https://colab.research.google.com/assets/colab-badge.svg)](https://colab.research.google.com/github/rsinghlab/pyaging/blob/main/tutorials/tutorial_atacseq.ipynb) [![Open In nbviewer](https://img.shields.io/badge/View%20in-nbviewer-orange)](https://nbviewer.jupyter.org/github/rsinghlab/pyaging/blob/main/tutorials/tutorial_atacseq.ipynb)"
   ]
  },
  {
   "cell_type": "markdown",
   "id": "cf837dcf-de19-46f7-9c81-c063a45b14b6",
   "metadata": {},
   "source": [
    "# Bulk ATAC-Seq"
   ]
  },
  {
   "cell_type": "markdown",
   "id": "133e64f6-a0d2-4a70-84a0-33a4c2bea725",
   "metadata": {},
   "source": [
    "This tutorial is a brief guide for the implementation of the two ATAC clocks developed by Morandini et al. Link to [paper](https://link.springer.com/article/10.1007/s11357-023-00986-0)."
   ]
  },
  {
   "cell_type": "markdown",
   "id": "a0469770-c9af-4d69-a055-bf3c312286db",
   "metadata": {},
   "source": [
    "We just need two packages for this tutorial."
   ]
  },
  {
   "cell_type": "code",
   "execution_count": 1,
   "id": "e64f6bb6-7c95-4b9e-b37a-4ae811dc088d",
   "metadata": {},
   "outputs": [],
   "source": [
    "import pandas as pd\n",
    "import pyaging as pya"
   ]
  },
  {
   "cell_type": "markdown",
   "id": "5c367e47-ceca-4c73-ac14-b6a9a781c66a",
   "metadata": {},
   "source": [
    "## Download and load example data"
   ]
  },
  {
   "cell_type": "markdown",
   "id": "76f0a1a6-ad70-4a40-8fd0-63de208c7ad5",
   "metadata": {},
   "source": [
    "Let's download an example of input for the ATAC clocks. For instructions on how to go from raw sequencing reads to the data table, please refer to the paper. "
   ]
  },
  {
   "cell_type": "code",
   "execution_count": 2,
   "id": "f94c6816-cb92-42e9-893b-b206def28922",
   "metadata": {},
   "outputs": [
    {
     "name": "stdout",
     "output_type": "stream",
     "text": [
      "|-----> 🏗️ Starting download_example_data function\n",
      "|-----> ⚙️ Download data started\n",
      "|-----------> Data found in pyaging_data/atac_example.pkl\n",
      "|-----> ✅ Download data finished [0.0008s]\n",
      "|-----> 🎉 Done! [0.0017s]\n"
     ]
    }
   ],
   "source": [
    "pya.data.download_example_data('atac_example')"
   ]
  },
  {
   "cell_type": "code",
   "execution_count": 3,
   "id": "078b2b96-7317-4f84-a8c4-16276fb76137",
   "metadata": {},
   "outputs": [],
   "source": [
    "df = pd.read_pickle('pyaging_data/atac_example.pkl')"
   ]
  },
  {
   "cell_type": "code",
   "execution_count": 4,
   "id": "cd1a8e9b-53a5-4cfc-ac6d-22d9ed09784a",
   "metadata": {},
   "outputs": [
    {
     "data": {
      "text/html": [
       "<div>\n",
       "<style scoped>\n",
       "    .dataframe tbody tr th:only-of-type {\n",
       "        vertical-align: middle;\n",
       "    }\n",
       "\n",
       "    .dataframe tbody tr th {\n",
       "        vertical-align: top;\n",
       "    }\n",
       "\n",
       "    .dataframe thead th {\n",
       "        text-align: right;\n",
       "    }\n",
       "</style>\n",
       "<table border=\"1\" class=\"dataframe\">\n",
       "  <thead>\n",
       "    <tr style=\"text-align: right;\">\n",
       "      <th></th>\n",
       "      <th>peak1</th>\n",
       "      <th>peak2</th>\n",
       "      <th>peak3</th>\n",
       "      <th>peak4</th>\n",
       "      <th>peak5</th>\n",
       "      <th>peak6</th>\n",
       "      <th>peak7</th>\n",
       "      <th>peak8</th>\n",
       "      <th>peak9</th>\n",
       "      <th>peak10</th>\n",
       "      <th>...</th>\n",
       "      <th>peak80391</th>\n",
       "      <th>peak80392</th>\n",
       "      <th>peak80393</th>\n",
       "      <th>peak80394</th>\n",
       "      <th>peak80395</th>\n",
       "      <th>peak80396</th>\n",
       "      <th>peak80397</th>\n",
       "      <th>peak80398</th>\n",
       "      <th>peak80399</th>\n",
       "      <th>peak80400</th>\n",
       "    </tr>\n",
       "  </thead>\n",
       "  <tbody>\n",
       "    <tr>\n",
       "      <th>Sample_1</th>\n",
       "      <td>2.506150</td>\n",
       "      <td>4.042524</td>\n",
       "      <td>1.728068</td>\n",
       "      <td>1.779619</td>\n",
       "      <td>1.903873</td>\n",
       "      <td>3.513372</td>\n",
       "      <td>1.703487</td>\n",
       "      <td>3.553081</td>\n",
       "      <td>1.385296</td>\n",
       "      <td>2.069604</td>\n",
       "      <td>...</td>\n",
       "      <td>1.356951</td>\n",
       "      <td>1.197689</td>\n",
       "      <td>0.860598</td>\n",
       "      <td>0.916377</td>\n",
       "      <td>1.791575</td>\n",
       "      <td>0.834970</td>\n",
       "      <td>0.927765</td>\n",
       "      <td>1.504159</td>\n",
       "      <td>0.256097</td>\n",
       "      <td>2.776791</td>\n",
       "    </tr>\n",
       "    <tr>\n",
       "      <th>Sample_2</th>\n",
       "      <td>3.281653</td>\n",
       "      <td>5.026707</td>\n",
       "      <td>2.903434</td>\n",
       "      <td>2.715392</td>\n",
       "      <td>2.723345</td>\n",
       "      <td>4.118045</td>\n",
       "      <td>2.952263</td>\n",
       "      <td>4.604813</td>\n",
       "      <td>3.853380</td>\n",
       "      <td>2.884414</td>\n",
       "      <td>...</td>\n",
       "      <td>2.934180</td>\n",
       "      <td>2.950956</td>\n",
       "      <td>2.696654</td>\n",
       "      <td>3.352670</td>\n",
       "      <td>1.086730</td>\n",
       "      <td>2.097016</td>\n",
       "      <td>2.440385</td>\n",
       "      <td>1.211147</td>\n",
       "      <td>2.129717</td>\n",
       "      <td>1.512977</td>\n",
       "    </tr>\n",
       "    <tr>\n",
       "      <th>Sample_3</th>\n",
       "      <td>4.720936</td>\n",
       "      <td>6.620186</td>\n",
       "      <td>3.107523</td>\n",
       "      <td>4.066536</td>\n",
       "      <td>4.247777</td>\n",
       "      <td>6.454266</td>\n",
       "      <td>2.705629</td>\n",
       "      <td>5.671079</td>\n",
       "      <td>5.065204</td>\n",
       "      <td>3.530241</td>\n",
       "      <td>...</td>\n",
       "      <td>3.928536</td>\n",
       "      <td>3.422247</td>\n",
       "      <td>3.452730</td>\n",
       "      <td>1.294518</td>\n",
       "      <td>2.794667</td>\n",
       "      <td>2.957758</td>\n",
       "      <td>2.014624</td>\n",
       "      <td>2.608965</td>\n",
       "      <td>3.319312</td>\n",
       "      <td>3.156280</td>\n",
       "    </tr>\n",
       "    <tr>\n",
       "      <th>Sample_4</th>\n",
       "      <td>4.690143</td>\n",
       "      <td>7.267509</td>\n",
       "      <td>4.832635</td>\n",
       "      <td>4.877077</td>\n",
       "      <td>5.082491</td>\n",
       "      <td>6.343680</td>\n",
       "      <td>4.185005</td>\n",
       "      <td>6.685465</td>\n",
       "      <td>6.565930</td>\n",
       "      <td>4.083189</td>\n",
       "      <td>...</td>\n",
       "      <td>2.552844</td>\n",
       "      <td>4.735987</td>\n",
       "      <td>6.339911</td>\n",
       "      <td>4.954476</td>\n",
       "      <td>2.692502</td>\n",
       "      <td>4.046954</td>\n",
       "      <td>5.168552</td>\n",
       "      <td>4.076252</td>\n",
       "      <td>3.276617</td>\n",
       "      <td>4.289285</td>\n",
       "    </tr>\n",
       "    <tr>\n",
       "      <th>Sample_5</th>\n",
       "      <td>5.939011</td>\n",
       "      <td>8.126846</td>\n",
       "      <td>5.553807</td>\n",
       "      <td>5.824309</td>\n",
       "      <td>4.677195</td>\n",
       "      <td>8.828315</td>\n",
       "      <td>5.408961</td>\n",
       "      <td>7.399883</td>\n",
       "      <td>6.964666</td>\n",
       "      <td>5.146428</td>\n",
       "      <td>...</td>\n",
       "      <td>6.011554</td>\n",
       "      <td>4.259724</td>\n",
       "      <td>5.004213</td>\n",
       "      <td>7.080201</td>\n",
       "      <td>6.204265</td>\n",
       "      <td>3.588729</td>\n",
       "      <td>6.589236</td>\n",
       "      <td>5.816404</td>\n",
       "      <td>5.514156</td>\n",
       "      <td>6.268410</td>\n",
       "    </tr>\n",
       "  </tbody>\n",
       "</table>\n",
       "<p>5 rows × 80400 columns</p>\n",
       "</div>"
      ],
      "text/plain": [
       "             peak1     peak2     peak3     peak4     peak5     peak6  \\\n",
       "Sample_1  2.506150  4.042524  1.728068  1.779619  1.903873  3.513372   \n",
       "Sample_2  3.281653  5.026707  2.903434  2.715392  2.723345  4.118045   \n",
       "Sample_3  4.720936  6.620186  3.107523  4.066536  4.247777  6.454266   \n",
       "Sample_4  4.690143  7.267509  4.832635  4.877077  5.082491  6.343680   \n",
       "Sample_5  5.939011  8.126846  5.553807  5.824309  4.677195  8.828315   \n",
       "\n",
       "             peak7     peak8     peak9    peak10  ...  peak80391  peak80392  \\\n",
       "Sample_1  1.703487  3.553081  1.385296  2.069604  ...   1.356951   1.197689   \n",
       "Sample_2  2.952263  4.604813  3.853380  2.884414  ...   2.934180   2.950956   \n",
       "Sample_3  2.705629  5.671079  5.065204  3.530241  ...   3.928536   3.422247   \n",
       "Sample_4  4.185005  6.685465  6.565930  4.083189  ...   2.552844   4.735987   \n",
       "Sample_5  5.408961  7.399883  6.964666  5.146428  ...   6.011554   4.259724   \n",
       "\n",
       "          peak80393  peak80394  peak80395  peak80396  peak80397  peak80398  \\\n",
       "Sample_1   0.860598   0.916377   1.791575   0.834970   0.927765   1.504159   \n",
       "Sample_2   2.696654   3.352670   1.086730   2.097016   2.440385   1.211147   \n",
       "Sample_3   3.452730   1.294518   2.794667   2.957758   2.014624   2.608965   \n",
       "Sample_4   6.339911   4.954476   2.692502   4.046954   5.168552   4.076252   \n",
       "Sample_5   5.004213   7.080201   6.204265   3.588729   6.589236   5.816404   \n",
       "\n",
       "          peak80399  peak80400  \n",
       "Sample_1   0.256097   2.776791  \n",
       "Sample_2   2.129717   1.512977  \n",
       "Sample_3   3.319312   3.156280  \n",
       "Sample_4   3.276617   4.289285  \n",
       "Sample_5   5.514156   6.268410  \n",
       "\n",
       "[5 rows x 80400 columns]"
      ]
     },
     "execution_count": 4,
     "metadata": {},
     "output_type": "execute_result"
    }
   ],
   "source": [
    "df.head()"
   ]
  },
  {
   "cell_type": "markdown",
   "id": "4ca435ec-3480-4167-ad55-b8a28b23a843",
   "metadata": {},
   "source": [
    "This is what the adata object looks like:"
   ]
  },
  {
   "cell_type": "markdown",
   "id": "251495e7-082f-45ae-841c-a2dd86a3cb15",
   "metadata": {},
   "source": [
    "## Convert data to AnnData object"
   ]
  },
  {
   "cell_type": "markdown",
   "id": "73ba54e0-4292-4d85-b208-e56e267d6797",
   "metadata": {},
   "source": [
    "AnnData objects are highly flexible and are thus our preferred method of organizing data for age prediction."
   ]
  },
  {
   "cell_type": "code",
   "execution_count": 5,
   "id": "b90cf1f9-1179-4e56-a797-d0faecdea2ea",
   "metadata": {},
   "outputs": [
    {
     "name": "stdout",
     "output_type": "stream",
     "text": [
      "|-----> 🏗️ Starting df_to_adata function\n",
      "|-----> ⚙️ Create anndata object started\n",
      "|-----> ✅ Create anndata object finished [0.0009s]\n",
      "|-----> ⚙️ Add metadata to anndata started\n",
      "|-----------? No metadata provided. Leaving adata.obs empty\n",
      "|-----> ⚠️ Add metadata to anndata finished [0.0021s]\n",
      "|-----> ⚙️ Log data statistics started\n",
      "|-----------> There are 10 observations\n",
      "|-----------> There are 80400 features\n",
      "|-----------> Total missing values: 0\n",
      "|-----------> Percentage of missing values: 0.00%\n",
      "|-----> ✅ Log data statistics finished [0.0011s]\n",
      "|-----> ⚙️ Impute missing values started\n",
      "|-----------> No missing values found. No imputation necessary\n",
      "|-----> ✅ Impute missing values finished [0.0022s]\n",
      "|-----> ⚙️ Add unstructured data to anndata started\n",
      "|-----> ✅ Add unstructured data to anndata finished [0.0042s]\n",
      "|-----> 🎉 Done! [0.0111s]\n"
     ]
    }
   ],
   "source": [
    "adata = pya.preprocess.df_to_adata(df)"
   ]
  },
  {
   "cell_type": "markdown",
   "id": "5042e04f-17c0-4eb2-8c5d-2c2fc5d6d2d6",
   "metadata": {},
   "source": [
    "This is what the `adata` object looks like:"
   ]
  },
  {
   "cell_type": "code",
   "execution_count": 6,
   "id": "503da312-2256-4e67-9747-107f5c4587ec",
   "metadata": {},
   "outputs": [
    {
     "data": {
      "text/plain": [
       "AnnData object with n_obs × n_vars = 10 × 80400\n",
       "    var: 'percent_na'\n",
       "    uns: 'imputer_strategy', 'data_type'"
      ]
     },
     "execution_count": 6,
     "metadata": {},
     "output_type": "execute_result"
    }
   ],
   "source": [
    "adata"
   ]
  },
  {
   "cell_type": "markdown",
   "id": "c072990d-0f54-49b3-bb7a-7bbd13301e2a",
   "metadata": {},
   "source": [
    "## Predict age"
   ]
  },
  {
   "cell_type": "markdown",
   "id": "5fe08978-f1ba-49b3-a0d8-52df4b6efb4e",
   "metadata": {},
   "source": [
    "We can either predict one clock at once or all at the same time. For convenience, let's simply input all two clocks of interest at once. The function is invariant to the capitalization of the clock name. "
   ]
  },
  {
   "cell_type": "code",
   "execution_count": 7,
   "id": "26398785-d1ea-4ce8-b1d9-7234f8f46ef6",
   "metadata": {},
   "outputs": [
    {
     "name": "stdout",
     "output_type": "stream",
     "text": [
      "|-----> 🏗️ Starting predict_age function\n",
      "|-----> ⚙️ Set PyTorch device started\n",
      "|-----------> Using device: cpu\n",
      "|-----> ✅ Set PyTorch device finished [0.0009s]\n",
      "|-----> Processing clock: OcampoATAC1\n",
      "|-----------> ⚙️ Load clock started\n",
      "|-----------> ⚙️ Download data started\n",
      "|-----------> Data found in pyaging_data/ocampoatac1.pt\n",
      "|-----------> ✅ Download data finished [0.0003s]\n",
      "|-----------> ✅ Load clock finished [0.0003s]\n",
      "|-----------> ⚙️ Check features in adata started\n",
      "|-----------> All features are present in adata.var_names.\n",
      "|-----------> ✅ Check features in adata finished [0.0030s]\n",
      "|-----------> ⚙️ Filter features and extract data matrix started\n",
      "|-----------> ✅ Filter features and extract data matrix finished [0.0012s]\n",
      "|-----------> ⚙️ Preprocess data started\n",
      "|-----------------> Preprocessing data with function log1p\n",
      "|-----------> ✅ Preprocess data finished [0.0027s]\n",
      "|-----------> ⚙️ Convert numpy array to tensor started\n",
      "|-----------> ✅ Convert numpy array to tensor finished [0.0015s]\n",
      "|-----------> ⚙️ Initialize model started\n",
      "|-----------> ✅ Initialize model finished [0.0013s]\n",
      "|-----------> ⚙️ Predict ages with model started\n",
      "|-----------> ✅ Predict ages with model finished [0.0015s]\n",
      "|-----------> ⚙️ Convert tensor to numpy array started\n",
      "|-----------> ✅ Convert tensor to numpy array finished [0.0015s]\n",
      "|-----------> ⚙️ Add predicted ages to adata started\n",
      "|-----------> ✅ Add predicted ages to adata finished [0.0013s]\n",
      "|-----------> ⚙️ Load all clock metadata started\n",
      "|-----------> ⚙️ Download data started\n",
      "|-----------> Data found in pyaging_data/all_clock_metadata.pt\n",
      "|-----------> ✅ Download data finished [0.0003s]\n",
      "|-----------> ✅ Load all clock metadata finished [0.0003s]\n",
      "|-----------> ⚙️ Add clock metadata to adata.uns started\n",
      "|-----------> ✅ Add clock metadata to adata.uns finished [0.0039s]\n",
      "|-----> Processing clock: OcampoATAC2\n",
      "|-----------> ⚙️ Load clock started\n",
      "|-----------> ⚙️ Download data started\n",
      "|-----------> Data found in pyaging_data/ocampoatac2.pt\n",
      "|-----------> ✅ Download data finished [0.0006s]\n",
      "|-----------> ✅ Load clock finished [0.0006s]\n",
      "|-----------> ⚙️ Check features in adata started\n",
      "|-----------> All features are present in adata.var_names.\n",
      "|-----------> ✅ Check features in adata finished [0.0027s]\n",
      "|-----------> ⚙️ Filter features and extract data matrix started\n",
      "|-----------> ✅ Filter features and extract data matrix finished [0.0013s]\n",
      "|-----------> ⚙️ Preprocess data started\n",
      "|-----------------> Preprocessing data with function log1p\n",
      "|-----------> ✅ Preprocess data finished [0.0016s]\n",
      "|-----------> ⚙️ Convert numpy array to tensor started\n",
      "|-----------> ✅ Convert numpy array to tensor finished [0.0009s]\n",
      "|-----------> ⚙️ Initialize model started\n",
      "|-----------> ✅ Initialize model finished [0.0007s]\n",
      "|-----------> ⚙️ Predict ages with model started\n",
      "|-----------> ✅ Predict ages with model finished [0.0012s]\n",
      "|-----------> ⚙️ Convert tensor to numpy array started\n",
      "|-----------> ✅ Convert tensor to numpy array finished [0.0013s]\n",
      "|-----------> ⚙️ Add predicted ages to adata started\n",
      "|-----------> ✅ Add predicted ages to adata finished [0.0011s]\n",
      "|-----------> ⚙️ Load all clock metadata started\n",
      "|-----------> ⚙️ Download data started\n",
      "|-----------> Data found in pyaging_data/all_clock_metadata.pt\n",
      "|-----------> ✅ Download data finished [0.0003s]\n",
      "|-----------> ✅ Load all clock metadata finished [0.0003s]\n",
      "|-----------> ⚙️ Add clock metadata to adata.uns started\n",
      "|-----------> ✅ Add clock metadata to adata.uns finished [0.0023s]\n",
      "|-----> 🎉 Done! [0.0396s]\n"
     ]
    }
   ],
   "source": [
    "adata = pya.pred.predict_age(adata, ['OcampoATAC1', 'OcampoATAC2'])"
   ]
  },
  {
   "cell_type": "markdown",
   "id": "a2cfa1e5-a7f4-4157-8c66-4afcc2323ef7",
   "metadata": {},
   "source": [
    "Having so much information printed can be overwhelming, particularly when running several clocks at once. In such cases, just set verbose to False."
   ]
  },
  {
   "cell_type": "code",
   "execution_count": 8,
   "id": "055761d9-7e22-49f3-a1db-31c3ed3749ba",
   "metadata": {},
   "outputs": [],
   "source": [
    "pya.data.download_example_data('atac_example', verbose=False)\n",
    "df = pd.read_pickle('pyaging_data/atac_example.pkl')\n",
    "adata = pya.preprocess.df_to_adata(df, verbose=False)\n",
    "adata = pya.pred.predict_age(adata, ['OcampoATAC1', 'OcampoATAC2'], verbose=False)"
   ]
  },
  {
   "cell_type": "code",
   "execution_count": 9,
   "id": "fdd9d6c2-7f0a-4f96-a095-4a492ed73f8d",
   "metadata": {},
   "outputs": [
    {
     "data": {
      "text/html": [
       "<div>\n",
       "<style scoped>\n",
       "    .dataframe tbody tr th:only-of-type {\n",
       "        vertical-align: middle;\n",
       "    }\n",
       "\n",
       "    .dataframe tbody tr th {\n",
       "        vertical-align: top;\n",
       "    }\n",
       "\n",
       "    .dataframe thead th {\n",
       "        text-align: right;\n",
       "    }\n",
       "</style>\n",
       "<table border=\"1\" class=\"dataframe\">\n",
       "  <thead>\n",
       "    <tr style=\"text-align: right;\">\n",
       "      <th></th>\n",
       "      <th>ocampoatac1</th>\n",
       "      <th>ocampoatac2</th>\n",
       "    </tr>\n",
       "  </thead>\n",
       "  <tbody>\n",
       "    <tr>\n",
       "      <th>Sample_1</th>\n",
       "      <td>40.691948</td>\n",
       "      <td>39.464195</td>\n",
       "    </tr>\n",
       "    <tr>\n",
       "      <th>Sample_2</th>\n",
       "      <td>40.281929</td>\n",
       "      <td>36.662262</td>\n",
       "    </tr>\n",
       "    <tr>\n",
       "      <th>Sample_3</th>\n",
       "      <td>38.996227</td>\n",
       "      <td>34.257324</td>\n",
       "    </tr>\n",
       "    <tr>\n",
       "      <th>Sample_4</th>\n",
       "      <td>39.658382</td>\n",
       "      <td>34.252609</td>\n",
       "    </tr>\n",
       "    <tr>\n",
       "      <th>Sample_5</th>\n",
       "      <td>38.929848</td>\n",
       "      <td>33.717129</td>\n",
       "    </tr>\n",
       "  </tbody>\n",
       "</table>\n",
       "</div>"
      ],
      "text/plain": [
       "          ocampoatac1  ocampoatac2\n",
       "Sample_1    40.691948    39.464195\n",
       "Sample_2    40.281929    36.662262\n",
       "Sample_3    38.996227    34.257324\n",
       "Sample_4    39.658382    34.252609\n",
       "Sample_5    38.929848    33.717129"
      ]
     },
     "execution_count": 9,
     "metadata": {},
     "output_type": "execute_result"
    }
   ],
   "source": [
    "adata.obs.head()"
   ]
  },
  {
   "cell_type": "markdown",
   "id": "4bad3df8-f868-4cf5-be74-00ffd02c18f5",
   "metadata": {},
   "source": [
    "After age prediction, the clocks are added to `adata.obs`. Moreover, the percent of missing values for each clock and other metadata are included in `adata.uns`."
   ]
  },
  {
   "cell_type": "code",
   "execution_count": 10,
   "id": "0d13fb55-8a12-4d28-83e9-ec7c9fbbe30c",
   "metadata": {},
   "outputs": [
    {
     "data": {
      "text/plain": [
       "AnnData object with n_obs × n_vars = 10 × 80400\n",
       "    obs: 'ocampoatac1', 'ocampoatac2'\n",
       "    var: 'percent_na'\n",
       "    uns: 'imputer_strategy', 'data_type', 'ocampoatac1_percent_na', 'ocampoatac1_metadata', 'ocampoatac2_percent_na', 'ocampoatac2_metadata'"
      ]
     },
     "execution_count": 10,
     "metadata": {},
     "output_type": "execute_result"
    }
   ],
   "source": [
    "adata"
   ]
  },
  {
   "cell_type": "markdown",
   "id": "a4e7ad8d-44ae-4ced-a626-f9e3b2d04114",
   "metadata": {},
   "source": [
    "## Get citation"
   ]
  },
  {
   "cell_type": "markdown",
   "id": "d7d089b0-5433-47a9-b031-bc4504c6b55d",
   "metadata": {},
   "source": [
    "The doi, citation, and some metadata are automatically added to the AnnData object under `adata.uns[CLOCKNAME_metadata]`."
   ]
  },
  {
   "cell_type": "code",
   "execution_count": 11,
   "id": "6b368506-55d1-4b74-be61-817bcf575ade",
   "metadata": {},
   "outputs": [
    {
     "data": {
      "text/plain": [
       "{'species': 'Homo sapiens',\n",
       " 'data_type': 'atac',\n",
       " 'year': 2023,\n",
       " 'citation': 'Morandini, Francesco, et al. \"ATAC-clock: An aging clock based on chromatin accessibility.\" GeroScience (2023): 1-18.',\n",
       " 'doi': 'https://doi.org/10.1007/s11357-023-00986-0'}"
      ]
     },
     "execution_count": 11,
     "metadata": {},
     "output_type": "execute_result"
    }
   ],
   "source": [
    "adata.uns['ocampoatac1_metadata']"
   ]
  },
  {
   "cell_type": "code",
   "execution_count": null,
   "id": "1dae1dc5-88e0-4d2d-a7d1-d0469804d798",
   "metadata": {},
   "outputs": [],
   "source": []
  }
 ],
 "metadata": {
  "kernelspec": {
   "display_name": "Python 3",
   "language": "python",
   "name": "python3"
  },
  "language_info": {
   "codemirror_mode": {
    "name": "ipython",
    "version": 3
   },
   "file_extension": ".py",
   "mimetype": "text/x-python",
   "name": "python",
   "nbconvert_exporter": "python",
   "pygments_lexer": "ipython3",
   "version": "3.9.17"
  }
 },
 "nbformat": 4,
 "nbformat_minor": 5
}
