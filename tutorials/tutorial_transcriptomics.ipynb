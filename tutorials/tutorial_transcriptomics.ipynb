{
 "cells": [
  {
   "cell_type": "markdown",
   "id": "31cf37ce-09ee-49d7-a411-719bf65e186e",
   "metadata": {},
   "source": [
    "# Transcriptomics"
   ]
  },
  {
   "cell_type": "code",
   "execution_count": 26,
   "id": "ad192191-e44f-4994-80ad-ab16cdb7c7e8",
   "metadata": {},
   "outputs": [],
   "source": [
    "import pandas as pd\n",
    "import pyaging as pya"
   ]
  },
  {
   "cell_type": "code",
   "execution_count": 27,
   "id": "261fdc45-2b9b-407c-a49c-f045a750831d",
   "metadata": {},
   "outputs": [
    {
     "name": "stdout",
     "output_type": "stream",
     "text": [
      "|-----> 🏗️ Starting download_example_data function\n",
      "|-----------> ⚙️ Download example data started\n",
      "|-----------------> Data found in ./pyaging_data/GSE65765_CPM.pkl\n",
      "|-----------> ✅ Download example data finished [0.0075s]\n",
      "|-----> 🎉 Done! [0.0078s]\n"
     ]
    }
   ],
   "source": [
    "pya.data.download_example_data('rnaseq')"
   ]
  },
  {
   "cell_type": "code",
   "execution_count": 28,
   "id": "13aeb69a-4b0e-40f2-8094-194c9a6b42a1",
   "metadata": {},
   "outputs": [],
   "source": [
    "df = pd.read_pickle('pyaging_data/GSE65765_CPM.pkl')"
   ]
  },
  {
   "cell_type": "code",
   "execution_count": 29,
   "id": "7af12fc3-1418-49df-ba7f-e94730db706e",
   "metadata": {},
   "outputs": [
    {
     "data": {
      "text/html": [
       "<div>\n",
       "<style scoped>\n",
       "    .dataframe tbody tr th:only-of-type {\n",
       "        vertical-align: middle;\n",
       "    }\n",
       "\n",
       "    .dataframe tbody tr th {\n",
       "        vertical-align: top;\n",
       "    }\n",
       "\n",
       "    .dataframe thead th {\n",
       "        text-align: right;\n",
       "    }\n",
       "</style>\n",
       "<table border=\"1\" class=\"dataframe\">\n",
       "  <thead>\n",
       "    <tr style=\"text-align: right;\">\n",
       "      <th></th>\n",
       "      <th>WBGene00197333</th>\n",
       "      <th>WBGene00198386</th>\n",
       "      <th>WBGene00015153</th>\n",
       "      <th>WBGene00002061</th>\n",
       "      <th>WBGene00255704</th>\n",
       "      <th>WBGene00235314</th>\n",
       "      <th>WBGene00001177</th>\n",
       "      <th>WBGene00169236</th>\n",
       "      <th>WBGene00219784</th>\n",
       "      <th>WBGene00015152</th>\n",
       "      <th>...</th>\n",
       "      <th>WBGene00010964</th>\n",
       "      <th>WBGene00014467</th>\n",
       "      <th>WBGene00014468</th>\n",
       "      <th>WBGene00014469</th>\n",
       "      <th>WBGene00014470</th>\n",
       "      <th>WBGene00010965</th>\n",
       "      <th>WBGene00014471</th>\n",
       "      <th>WBGene00010966</th>\n",
       "      <th>WBGene00010967</th>\n",
       "      <th>WBGene00014473</th>\n",
       "    </tr>\n",
       "  </thead>\n",
       "  <tbody>\n",
       "    <tr>\n",
       "      <th>SRR1793993</th>\n",
       "      <td>0.0</td>\n",
       "      <td>0.0</td>\n",
       "      <td>3.780174</td>\n",
       "      <td>169.240815</td>\n",
       "      <td>1.907427</td>\n",
       "      <td>0.277444</td>\n",
       "      <td>59.320986</td>\n",
       "      <td>0.0</td>\n",
       "      <td>0.000000</td>\n",
       "      <td>1.283178</td>\n",
       "      <td>...</td>\n",
       "      <td>858.949156</td>\n",
       "      <td>0.0</td>\n",
       "      <td>0.000000</td>\n",
       "      <td>0.0</td>\n",
       "      <td>0.052021</td>\n",
       "      <td>234.526846</td>\n",
       "      <td>0.017340</td>\n",
       "      <td>54.483057</td>\n",
       "      <td>78.117815</td>\n",
       "      <td>0.000000</td>\n",
       "    </tr>\n",
       "    <tr>\n",
       "      <th>SRR1793991</th>\n",
       "      <td>0.0</td>\n",
       "      <td>0.0</td>\n",
       "      <td>0.510354</td>\n",
       "      <td>412.628597</td>\n",
       "      <td>0.061861</td>\n",
       "      <td>0.061861</td>\n",
       "      <td>22.239044</td>\n",
       "      <td>0.0</td>\n",
       "      <td>0.015465</td>\n",
       "      <td>0.201048</td>\n",
       "      <td>...</td>\n",
       "      <td>1049.982885</td>\n",
       "      <td>0.0</td>\n",
       "      <td>0.015465</td>\n",
       "      <td>0.0</td>\n",
       "      <td>0.015465</td>\n",
       "      <td>372.511713</td>\n",
       "      <td>0.000000</td>\n",
       "      <td>54.545971</td>\n",
       "      <td>59.618577</td>\n",
       "      <td>0.000000</td>\n",
       "    </tr>\n",
       "    <tr>\n",
       "      <th>SRR1793994</th>\n",
       "      <td>0.0</td>\n",
       "      <td>0.0</td>\n",
       "      <td>4.718708</td>\n",
       "      <td>274.733671</td>\n",
       "      <td>1.234644</td>\n",
       "      <td>0.118391</td>\n",
       "      <td>42.400721</td>\n",
       "      <td>0.0</td>\n",
       "      <td>0.000000</td>\n",
       "      <td>0.642691</td>\n",
       "      <td>...</td>\n",
       "      <td>664.255412</td>\n",
       "      <td>0.0</td>\n",
       "      <td>0.101478</td>\n",
       "      <td>0.0</td>\n",
       "      <td>0.000000</td>\n",
       "      <td>253.220421</td>\n",
       "      <td>0.033826</td>\n",
       "      <td>19.483698</td>\n",
       "      <td>86.492735</td>\n",
       "      <td>0.016913</td>\n",
       "    </tr>\n",
       "    <tr>\n",
       "      <th>SRR1793992</th>\n",
       "      <td>0.0</td>\n",
       "      <td>0.0</td>\n",
       "      <td>2.389905</td>\n",
       "      <td>351.612558</td>\n",
       "      <td>0.505892</td>\n",
       "      <td>0.069778</td>\n",
       "      <td>20.497358</td>\n",
       "      <td>0.0</td>\n",
       "      <td>0.017445</td>\n",
       "      <td>1.308342</td>\n",
       "      <td>...</td>\n",
       "      <td>1298.799849</td>\n",
       "      <td>0.0</td>\n",
       "      <td>0.034889</td>\n",
       "      <td>0.0</td>\n",
       "      <td>0.000000</td>\n",
       "      <td>472.206803</td>\n",
       "      <td>0.000000</td>\n",
       "      <td>89.508039</td>\n",
       "      <td>76.459508</td>\n",
       "      <td>0.000000</td>\n",
       "    </tr>\n",
       "  </tbody>\n",
       "</table>\n",
       "<p>4 rows × 46755 columns</p>\n",
       "</div>"
      ],
      "text/plain": [
       "            WBGene00197333  WBGene00198386  WBGene00015153  WBGene00002061  \\\n",
       "SRR1793993             0.0             0.0        3.780174      169.240815   \n",
       "SRR1793991             0.0             0.0        0.510354      412.628597   \n",
       "SRR1793994             0.0             0.0        4.718708      274.733671   \n",
       "SRR1793992             0.0             0.0        2.389905      351.612558   \n",
       "\n",
       "            WBGene00255704  WBGene00235314  WBGene00001177  WBGene00169236  \\\n",
       "SRR1793993        1.907427        0.277444       59.320986             0.0   \n",
       "SRR1793991        0.061861        0.061861       22.239044             0.0   \n",
       "SRR1793994        1.234644        0.118391       42.400721             0.0   \n",
       "SRR1793992        0.505892        0.069778       20.497358             0.0   \n",
       "\n",
       "            WBGene00219784  WBGene00015152  ...  WBGene00010964  \\\n",
       "SRR1793993        0.000000        1.283178  ...      858.949156   \n",
       "SRR1793991        0.015465        0.201048  ...     1049.982885   \n",
       "SRR1793994        0.000000        0.642691  ...      664.255412   \n",
       "SRR1793992        0.017445        1.308342  ...     1298.799849   \n",
       "\n",
       "            WBGene00014467  WBGene00014468  WBGene00014469  WBGene00014470  \\\n",
       "SRR1793993             0.0        0.000000             0.0        0.052021   \n",
       "SRR1793991             0.0        0.015465             0.0        0.015465   \n",
       "SRR1793994             0.0        0.101478             0.0        0.000000   \n",
       "SRR1793992             0.0        0.034889             0.0        0.000000   \n",
       "\n",
       "            WBGene00010965  WBGene00014471  WBGene00010966  WBGene00010967  \\\n",
       "SRR1793993      234.526846        0.017340       54.483057       78.117815   \n",
       "SRR1793991      372.511713        0.000000       54.545971       59.618577   \n",
       "SRR1793994      253.220421        0.033826       19.483698       86.492735   \n",
       "SRR1793992      472.206803        0.000000       89.508039       76.459508   \n",
       "\n",
       "            WBGene00014473  \n",
       "SRR1793993        0.000000  \n",
       "SRR1793991        0.000000  \n",
       "SRR1793994        0.016913  \n",
       "SRR1793992        0.000000  \n",
       "\n",
       "[4 rows x 46755 columns]"
      ]
     },
     "execution_count": 29,
     "metadata": {},
     "output_type": "execute_result"
    }
   ],
   "source": [
    "df.head()"
   ]
  },
  {
   "cell_type": "code",
   "execution_count": 30,
   "id": "23f7847f-8e33-4248-8273-6a48e9de31ac",
   "metadata": {},
   "outputs": [
    {
     "name": "stdout",
     "output_type": "stream",
     "text": [
      "|-----> 🏗️ Starting df_to_adata function\n",
      "|-----> ⚙️ Impute missing values started\n",
      "|-----------> No missing values found. No imputation necessary\n",
      "|-----> ✅ Impute missing values finished [0.0032s]\n",
      "|-----> ⚙️ Log data statistics started\n",
      "|-----------> There are 4 observations\n",
      "|-----------> There are 46755 features\n",
      "|-----------> Total missing values: 0\n",
      "|-----------> Percentage of missing values: 0.00%\n",
      "|-----> ✅ Log data statistics finished [0.0041s]\n",
      "|-----> ⚙️ Create anndata object started\n",
      "|-----> ✅ Create anndata object finished [0.0043s]\n",
      "|-----> ⚙️ Add metadata to anndata started\n",
      "|-----------? No metadata provided. Leaving adata.obs empty\n",
      "|-----> ⚠️ Add metadata to anndata finished [0.0048s]\n",
      "|-----> ⚙️ Add unstructured data to anndata started\n",
      "|-----> ✅ Add unstructured data to anndata finished [0.0019s]\n",
      "|-----> 🎉 Done! [0.0182s]\n"
     ]
    }
   ],
   "source": [
    "adata = pya.preprocess.df_to_adata(df)"
   ]
  },
  {
   "cell_type": "code",
   "execution_count": 31,
   "id": "18cde0cf-e977-4e0e-b42e-8f342728418a",
   "metadata": {},
   "outputs": [
    {
     "name": "stdout",
     "output_type": "stream",
     "text": [
      "|-----> 🏗️ Starting predict_age function\n",
      "|-----> ⚙️ Set PyTorch device started\n",
      "|-----------> Using device: cpu\n",
      "|-----> ✅ Set PyTorch device finished [0.0021s]\n",
      "|-----> Processing clock: bitage\n",
      "|-----------> ⚙️ Load clock started\n",
      "|-----------------> Downloading data to ./pyaging_data/bitage.pt\n",
      "|-----------------> in progress: 100.0000%\n",
      "|-----------> ✅ Load clock finished [0.0044s]\n",
      "|-----------> ⚙️ Check features in adata started\n",
      "|-----------> All features are present in adata.var_names.\n",
      "|-----------> ✅ Check features in adata finished [3.2299s]\n",
      "|-----------> ⚙️ Convert adata.X to torch.tensor and filter features started\n",
      "|-----------> ✅ Convert adata.X to torch.tensor and filter features finished [0.0027s]\n",
      "|-----------> ⚙️ Preprocess data started\n",
      "|-----------------> Preprocessing data with function binarize\n",
      "|-----------> ✅ Preprocess data finished [0.0069s]\n",
      "|-----------> ⚙️ Initialize model started\n",
      "|-----------> ✅ Initialize model finished [0.0184s]\n",
      "|-----------> ⚙️ Predict ages with model started\n",
      "|-----------> ✅ Predict ages with model finished [0.0105s]\n",
      "|-----------> ⚙️ Convert tensor to numpy array started\n",
      "|-----------> ✅ Convert tensor to numpy array finished [0.0012s]\n",
      "|-----------> ⚙️ Add predicted ages to adata started\n",
      "|-----------> ✅ Add predicted ages to adata finished [0.0010s]\n",
      "|-----> ⚙️ Load all clock metadata started\n",
      "|-----------> Data found in ./pyaging_data/all_clock_metadata.pt\n",
      "|-----> ✅ Load all clock metadata finished [0.0015s]\n",
      "|-----------> ⚙️ Add clock metadata to adata.uns started\n",
      "|-----------> ✅ Add clock metadata to adata.uns finished [0.0027s]\n",
      "|-----> 🎉 Done! [3.2821s]\n"
     ]
    }
   ],
   "source": [
    "adata = pya.pred.predict_age(adata, ['bitage'])"
   ]
  },
  {
   "cell_type": "code",
   "execution_count": 32,
   "id": "032382f5-7d98-465e-a3cb-51165eeb7025",
   "metadata": {},
   "outputs": [
    {
     "data": {
      "text/html": [
       "<div>\n",
       "<style scoped>\n",
       "    .dataframe tbody tr th:only-of-type {\n",
       "        vertical-align: middle;\n",
       "    }\n",
       "\n",
       "    .dataframe tbody tr th {\n",
       "        vertical-align: top;\n",
       "    }\n",
       "\n",
       "    .dataframe thead th {\n",
       "        text-align: right;\n",
       "    }\n",
       "</style>\n",
       "<table border=\"1\" class=\"dataframe\">\n",
       "  <thead>\n",
       "    <tr style=\"text-align: right;\">\n",
       "      <th></th>\n",
       "      <th>bitage</th>\n",
       "    </tr>\n",
       "  </thead>\n",
       "  <tbody>\n",
       "    <tr>\n",
       "      <th>SRR1793993</th>\n",
       "      <td>182.353638</td>\n",
       "    </tr>\n",
       "    <tr>\n",
       "      <th>SRR1793991</th>\n",
       "      <td>27.337227</td>\n",
       "    </tr>\n",
       "    <tr>\n",
       "      <th>SRR1793994</th>\n",
       "      <td>241.629547</td>\n",
       "    </tr>\n",
       "    <tr>\n",
       "      <th>SRR1793992</th>\n",
       "      <td>32.177971</td>\n",
       "    </tr>\n",
       "  </tbody>\n",
       "</table>\n",
       "</div>"
      ],
      "text/plain": [
       "                bitage\n",
       "SRR1793993  182.353638\n",
       "SRR1793991   27.337227\n",
       "SRR1793994  241.629547\n",
       "SRR1793992   32.177971"
      ]
     },
     "execution_count": 32,
     "metadata": {},
     "output_type": "execute_result"
    }
   ],
   "source": [
    "adata.obs"
   ]
  },
  {
   "cell_type": "code",
   "execution_count": 37,
   "id": "9908d25a-9639-4684-9da6-353c7eb4a555",
   "metadata": {},
   "outputs": [
    {
     "data": {
      "text/plain": [
       "{'species': 'C elegans',\n",
       " 'data_type': 'transcriptomics',\n",
       " 'year': 2021,\n",
       " 'citation': 'Meyer, David H., and Björn Schumacher. \"BiT age: A transcriptome‐based aging clock near the theoretical limit of accuracy.\" Aging cell 20.3 (2021): e13320.',\n",
       " 'doi': 'https://doi.org/10.1111/acel.13320'}"
      ]
     },
     "execution_count": 37,
     "metadata": {},
     "output_type": "execute_result"
    }
   ],
   "source": [
    "adata.uns['bitage_metadata']"
   ]
  }
 ],
 "metadata": {
  "kernelspec": {
   "display_name": "Python 3 (ipykernel)",
   "language": "python",
   "name": "python3"
  },
  "language_info": {
   "codemirror_mode": {
    "name": "ipython",
    "version": 3
   },
   "file_extension": ".py",
   "mimetype": "text/x-python",
   "name": "python",
   "nbconvert_exporter": "python",
   "pygments_lexer": "ipython3",
   "version": "3.9.17"
  }
 },
 "nbformat": 4,
 "nbformat_minor": 5
}
