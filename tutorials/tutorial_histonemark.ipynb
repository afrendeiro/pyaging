{
 "cells": [
  {
   "cell_type": "markdown",
   "id": "d444a24e-6a98-4db1-8688-7f3f80ed2876",
   "metadata": {},
   "source": [
    "# Histone marks"
   ]
  },
  {
   "cell_type": "code",
   "execution_count": 6,
   "id": "dd281360-7e16-45d9-ae2b-8f8f3fff809d",
   "metadata": {},
   "outputs": [],
   "source": [
    "import pandas as pd\n",
    "import pyaging as pya"
   ]
  },
  {
   "cell_type": "code",
   "execution_count": 7,
   "id": "7b3988dd-3e39-4e13-8ad8-a06447137c52",
   "metadata": {},
   "outputs": [
    {
     "name": "stdout",
     "output_type": "stream",
     "text": [
      "|-----> 🏗️ Starting download_example_data function\n",
      "|-----------> ⚙️ Download example data started\n",
      "|-----------------> Data found in ./pyaging_data/ENCFF386QWG.bigWig\n",
      "|-----------> ✅ Download example data finished [0.0026s]\n",
      "|-----> 🎉 Done! [0.0053s]\n"
     ]
    }
   ],
   "source": [
    "pya.data.download_example_data('histone_mark')"
   ]
  },
  {
   "cell_type": "code",
   "execution_count": 8,
   "id": "e56f4080-e968-44cb-8e31-4bd27092f4b2",
   "metadata": {},
   "outputs": [
    {
     "name": "stdout",
     "output_type": "stream",
     "text": [
      "|-----> 🏗️ Starting bigwig_to_df function\n",
      "|-----> ⚙️ Load Ensembl genome metadata started\n",
      "|-----------> Data found in ./pyaging_data/Ensembl-105-EnsDb-for-Homo-sapiens-genes.csv\n",
      "|-----> ✅ Load Ensembl genome metadata finished [0.0012s]\n",
      "|-----> ⚙️ Processing bigWig files started\n",
      "|-----------> Processing file: pyaging_data/ENCFF386QWG.bigWig\n",
      "|-----------> in progress: 100.0000%\n",
      "|-----------> Processing file: pyaging_data/ENCFF386QWG.bigWig\n",
      "|-----------> in progress: 100.0000%\n",
      "|-----> ✅ Processing bigWig files finished [0.2338s]\n",
      "|-----> 🎉 Done! [23.5367s]\n"
     ]
    }
   ],
   "source": [
    "df = pya.pp.bigwig_to_df(['pyaging_data/ENCFF386QWG.bigWig', 'pyaging_data/ENCFF386QWG.bigWig'])"
   ]
  },
  {
   "cell_type": "code",
   "execution_count": 9,
   "id": "c501ed4c-f711-44be-bda4-669fbbae88f1",
   "metadata": {},
   "outputs": [
    {
     "name": "stdout",
     "output_type": "stream",
     "text": [
      "|-----> 🏗️ Starting df_to_adata function\n",
      "|-----> ⚙️ Impute missing values started\n",
      "|-----------> No missing values found. No imputation necessary\n",
      "|-----> ✅ Impute missing values finished [0.0013s]\n",
      "|-----> ⚙️ Log data statistics started\n",
      "|-----------> There are 2 observations\n",
      "|-----------> There are 62241 features\n",
      "|-----------> Total missing values: 0\n",
      "|-----------> Percentage of missing values: 0.00%\n",
      "|-----> ✅ Log data statistics finished [0.0018s]\n",
      "|-----> ⚙️ Create anndata object started\n",
      "|-----> ✅ Create anndata object finished [0.0037s]\n",
      "|-----> ⚙️ Add metadata to anndata started\n",
      "|-----------? No metadata provided. Leaving adata.obs empty\n",
      "|-----> ⚠️ Add metadata to anndata finished [0.0072s]\n",
      "|-----> ⚙️ Add unstructured data to anndata started\n",
      "|-----> ✅ Add unstructured data to anndata finished [0.0010s]\n",
      "|-----> 🎉 Done! [0.0152s]\n"
     ]
    },
    {
     "name": "stderr",
     "output_type": "stream",
     "text": [
      "/Users/lucascamillo/mambaforge/envs/brain/lib/python3.9/site-packages/anndata/_core/anndata.py:1838: UserWarning: Observation names are not unique. To make them unique, call `.obs_names_make_unique`.\n",
      "  utils.warn_names_duplicates(\"obs\")\n"
     ]
    }
   ],
   "source": [
    "adata = pya.preprocess.df_to_adata(df)"
   ]
  },
  {
   "cell_type": "code",
   "execution_count": 10,
   "id": "13e7d357-c6d5-474b-b13f-30ec5edc0d19",
   "metadata": {},
   "outputs": [
    {
     "name": "stdout",
     "output_type": "stream",
     "text": [
      "|-----> 🏗️ Starting predict_age function\n",
      "|-----> ⚙️ Set PyTorch device started\n",
      "|-----------> Using device: cpu\n",
      "|-----> ✅ Set PyTorch device finished [0.0005s]\n",
      "|-----> Processing clock: h3k4me3\n",
      "|-----------> ⚙️ Load clock started\n",
      "|-----------------> Downloading data to ./pyaging_data/h3k4me3.pt\n",
      "|-----------------> in progress: 100.0000%\n",
      "|-----------> ✅ Load clock finished [0.0012s]\n",
      "|-----------> ⚙️ Check features in adata started\n",
      "|-----------> All features are present in adata.var_names.\n",
      "|-----------> ✅ Check features in adata finished [1.4113s]\n",
      "|-----------> ⚙️ Convert adata.X to torch.tensor and filter features started\n",
      "|-----------> ✅ Convert adata.X to torch.tensor and filter features finished [0.0021s]\n",
      "|-----------> ⚙️ Initialize model started\n",
      "|-----------> ✅ Initialize model finished [0.0036s]\n",
      "|-----------> ⚙️ Predict ages with model started\n",
      "|-----------> ✅ Predict ages with model finished [0.0044s]\n",
      "|-----------> ⚙️ Convert tensor to numpy array started\n",
      "|-----------> ✅ Convert tensor to numpy array finished [0.0040s]\n",
      "|-----------> ⚙️ Add predicted ages to adata started\n",
      "|-----------> ✅ Add predicted ages to adata finished [0.0010s]\n",
      "|-----------> ⚙️ Load all clock metadata started\n",
      "|-----------------> Data found in ./pyaging_data/all_clock_metadata.pt\n",
      "|-----------> ✅ Load all clock metadata finished [0.0014s]\n",
      "|-----------> ⚙️ Add clock metadata to adata.uns started\n",
      "|-----------> ✅ Add clock metadata to adata.uns finished [0.0022s]\n",
      "|-----> Processing clock: h3k9me3\n",
      "|-----------> ⚙️ Load clock started\n",
      "|-----------------> Downloading data to ./pyaging_data/h3k9me3.pt\n",
      "|-----------------> in progress: 100.0000%\n",
      "|-----------> ✅ Load clock finished [0.0007s]\n",
      "|-----------> ⚙️ Check features in adata started\n",
      "|-----------> All features are present in adata.var_names.\n",
      "|-----------> ✅ Check features in adata finished [0.9817s]\n",
      "|-----------> ⚙️ Convert adata.X to torch.tensor and filter features started\n",
      "|-----------> ✅ Convert adata.X to torch.tensor and filter features finished [0.0011s]\n",
      "|-----------> ⚙️ Initialize model started\n",
      "|-----------> ✅ Initialize model finished [0.0013s]\n",
      "|-----------> ⚙️ Predict ages with model started\n",
      "|-----------> ✅ Predict ages with model finished [0.0012s]\n",
      "|-----------> ⚙️ Convert tensor to numpy array started\n",
      "|-----------> ✅ Convert tensor to numpy array finished [0.0008s]\n",
      "|-----------> ⚙️ Add predicted ages to adata started\n",
      "|-----------> ✅ Add predicted ages to adata finished [0.0006s]\n",
      "|-----------> ⚙️ Load all clock metadata started\n",
      "|-----------------> Data found in ./pyaging_data/all_clock_metadata.pt\n",
      "|-----------> ✅ Load all clock metadata finished [0.0009s]\n",
      "|-----------> ⚙️ Add clock metadata to adata.uns started\n",
      "|-----------> ✅ Add clock metadata to adata.uns finished [0.0014s]\n",
      "|-----> 🎉 Done! [2.4223s]\n"
     ]
    }
   ],
   "source": [
    "adata = pya.pred.predict_age(adata, ['h3k4me3', 'h3k9me3'])"
   ]
  },
  {
   "cell_type": "code",
   "execution_count": 11,
   "id": "f64fb182-937b-4f67-b58e-5fffb0e2fad0",
   "metadata": {},
   "outputs": [
    {
     "data": {
      "text/html": [
       "<div>\n",
       "<style scoped>\n",
       "    .dataframe tbody tr th:only-of-type {\n",
       "        vertical-align: middle;\n",
       "    }\n",
       "\n",
       "    .dataframe tbody tr th {\n",
       "        vertical-align: top;\n",
       "    }\n",
       "\n",
       "    .dataframe thead th {\n",
       "        text-align: right;\n",
       "    }\n",
       "</style>\n",
       "<table border=\"1\" class=\"dataframe\">\n",
       "  <thead>\n",
       "    <tr style=\"text-align: right;\">\n",
       "      <th></th>\n",
       "      <th>h3k4me3</th>\n",
       "      <th>h3k9me3</th>\n",
       "    </tr>\n",
       "  </thead>\n",
       "  <tbody>\n",
       "    <tr>\n",
       "      <th>pyaging_data/ENCFF386QWG.bigWig</th>\n",
       "      <td>53.998566</td>\n",
       "      <td>44.322887</td>\n",
       "    </tr>\n",
       "    <tr>\n",
       "      <th>pyaging_data/ENCFF386QWG.bigWig</th>\n",
       "      <td>53.998566</td>\n",
       "      <td>44.322887</td>\n",
       "    </tr>\n",
       "  </tbody>\n",
       "</table>\n",
       "</div>"
      ],
      "text/plain": [
       "                                   h3k4me3    h3k9me3\n",
       "pyaging_data/ENCFF386QWG.bigWig  53.998566  44.322887\n",
       "pyaging_data/ENCFF386QWG.bigWig  53.998566  44.322887"
      ]
     },
     "execution_count": 11,
     "metadata": {},
     "output_type": "execute_result"
    }
   ],
   "source": [
    "adata.obs"
   ]
  },
  {
   "cell_type": "code",
   "execution_count": 12,
   "id": "2946393e-a199-46ba-a9dd-80bc8fa88787",
   "metadata": {},
   "outputs": [
    {
     "data": {
      "text/plain": [
       "{'species': 'Homo sapiens',\n",
       " 'data_type': 'histone_mark',\n",
       " 'year': 2023,\n",
       " 'citation': 'de Lima Camillo, Lucas Paulo, et al. \"Histone mark age of human tissues and cells.\" bioRxiv (2023): 2023-08.',\n",
       " 'doi': 'https://doi.org/10.1101/2023.08.21.554165'}"
      ]
     },
     "execution_count": 12,
     "metadata": {},
     "output_type": "execute_result"
    }
   ],
   "source": [
    "adata.uns['h3k4me3_metadata']"
   ]
  }
 ],
 "metadata": {
  "kernelspec": {
   "display_name": "Python 3 (ipykernel)",
   "language": "python",
   "name": "python3"
  },
  "language_info": {
   "codemirror_mode": {
    "name": "ipython",
    "version": 3
   },
   "file_extension": ".py",
   "mimetype": "text/x-python",
   "name": "python",
   "nbconvert_exporter": "python",
   "pygments_lexer": "ipython3",
   "version": "3.9.17"
  }
 },
 "nbformat": 4,
 "nbformat_minor": 5
}
