{
 "cells": [
  {
   "cell_type": "markdown",
   "id": "d444a24e-6a98-4db1-8688-7f3f80ed2876",
   "metadata": {},
   "source": [
    "# Bulk histone mark ChIP-Seq"
   ]
  },
  {
   "cell_type": "markdown",
   "id": "186154f3-1c8d-4284-a5a4-01f28d4db533",
   "metadata": {},
   "source": [
    "This tutorial is a brief guide for the implementation of the seven histone-mark-specific clocks and the pan-histone-mark clock developed ourselves. Link to [preprint](https://www.biorxiv.org/content/10.1101/2023.08.21.554165v3)."
   ]
  },
  {
   "cell_type": "markdown",
   "id": "e85ce90c-58c7-4560-bec4-0a6cf1315f25",
   "metadata": {},
   "source": [
    "## Import packages"
   ]
  },
  {
   "cell_type": "markdown",
   "id": "270379c1-9159-4677-92fa-10b08aa9f703",
   "metadata": {},
   "source": [
    "We just need two packages for this tutorial."
   ]
  },
  {
   "cell_type": "code",
   "execution_count": 1,
   "id": "dd281360-7e16-45d9-ae2b-8f8f3fff809d",
   "metadata": {},
   "outputs": [],
   "source": [
    "import pandas as pd\n",
    "import pyaging as pya"
   ]
  },
  {
   "cell_type": "markdown",
   "id": "b6893601-615e-449b-829b-c144276f402f",
   "metadata": {},
   "source": [
    "## Download and load example data"
   ]
  },
  {
   "cell_type": "markdown",
   "id": "fd3e80a9-5361-40f0-bf3e-6f6057181594",
   "metadata": {},
   "source": [
    "Let's download an example of H3K4me3 ChIP-Seq bigWig file from the ENCODE project."
   ]
  },
  {
   "cell_type": "code",
   "execution_count": 2,
   "id": "7b3988dd-3e39-4e13-8ad8-a06447137c52",
   "metadata": {},
   "outputs": [
    {
     "name": "stdout",
     "output_type": "stream",
     "text": [
      "|-----> 🏗️ Starting download_example_data function\n",
      "|-----> ⚙️ Download data started\n",
      "|-----------> Data found in ./pyaging_data/ENCFF386QWG.bigWig\n",
      "|-----> ✅ Download data finished [0.0007s]\n",
      "|-----> 🎉 Done! [0.0020s]\n"
     ]
    }
   ],
   "source": [
    "pya.data.download_example_data('histone_mark')"
   ]
  },
  {
   "cell_type": "markdown",
   "id": "3880246a-471e-4f75-bd2f-ed2623458a48",
   "metadata": {},
   "source": [
    "To exemplify that multiple bigWigs can be turned into a df object at once, let's just repeat the file path."
   ]
  },
  {
   "cell_type": "code",
   "execution_count": 3,
   "id": "e56f4080-e968-44cb-8e31-4bd27092f4b2",
   "metadata": {},
   "outputs": [
    {
     "name": "stdout",
     "output_type": "stream",
     "text": [
      "|-----> 🏗️ Starting bigwig_to_df function\n",
      "|-----> ⚙️ Load Ensembl genome metadata started\n",
      "|-----> ⚙️ Download data started\n",
      "|-----------> Data found in ./pyaging_data/Ensembl-105-EnsDb-for-Homo-sapiens-genes.csv\n",
      "|-----> ✅ Download data finished [0.0006s]\n",
      "|-----> ✅ Load Ensembl genome metadata finished [0.0006s]\n",
      "|-----> ⚙️ Processing bigWig files started\n",
      "|-----------> Processing file: pyaging_data/ENCFF386QWG.bigWig\n",
      "|-----------> in progress: 100.0000%\n",
      "|-----------> Processing file: pyaging_data/ENCFF386QWG.bigWig\n",
      "|-----------> in progress: 100.0000%\n",
      "|-----> ✅ Processing bigWig files finished [0.1994s]\n",
      "|-----> 🎉 Done! [22.8922s]\n"
     ]
    }
   ],
   "source": [
    "df = pya.pp.bigwig_to_df(['pyaging_data/ENCFF386QWG.bigWig', 'pyaging_data/ENCFF386QWG.bigWig'])"
   ]
  },
  {
   "cell_type": "code",
   "execution_count": 4,
   "id": "769858ac-9d6d-43f8-9c53-0f4a88c5484c",
   "metadata": {},
   "outputs": [
    {
     "data": {
      "text/html": [
       "<div>\n",
       "<style scoped>\n",
       "    .dataframe tbody tr th:only-of-type {\n",
       "        vertical-align: middle;\n",
       "    }\n",
       "\n",
       "    .dataframe tbody tr th {\n",
       "        vertical-align: top;\n",
       "    }\n",
       "\n",
       "    .dataframe thead th {\n",
       "        text-align: right;\n",
       "    }\n",
       "</style>\n",
       "<table border=\"1\" class=\"dataframe\">\n",
       "  <thead>\n",
       "    <tr style=\"text-align: right;\">\n",
       "      <th></th>\n",
       "      <th>ENSG00000223972</th>\n",
       "      <th>ENSG00000227232</th>\n",
       "      <th>ENSG00000278267</th>\n",
       "      <th>ENSG00000243485</th>\n",
       "      <th>ENSG00000284332</th>\n",
       "      <th>ENSG00000237613</th>\n",
       "      <th>ENSG00000268020</th>\n",
       "      <th>ENSG00000240361</th>\n",
       "      <th>ENSG00000186092</th>\n",
       "      <th>ENSG00000238009</th>\n",
       "      <th>...</th>\n",
       "      <th>ENSG00000237801</th>\n",
       "      <th>ENSG00000237040</th>\n",
       "      <th>ENSG00000124333</th>\n",
       "      <th>ENSG00000228410</th>\n",
       "      <th>ENSG00000223484</th>\n",
       "      <th>ENSG00000124334</th>\n",
       "      <th>ENSG00000270726</th>\n",
       "      <th>ENSG00000185203</th>\n",
       "      <th>ENSG00000182484</th>\n",
       "      <th>ENSG00000227159</th>\n",
       "    </tr>\n",
       "  </thead>\n",
       "  <tbody>\n",
       "    <tr>\n",
       "      <th>pyaging_data/ENCFF386QWG.bigWig</th>\n",
       "      <td>0.028616</td>\n",
       "      <td>0.030415</td>\n",
       "      <td>0.027783</td>\n",
       "      <td>0.028616</td>\n",
       "      <td>0.028616</td>\n",
       "      <td>0.028616</td>\n",
       "      <td>0.044171</td>\n",
       "      <td>0.036474</td>\n",
       "      <td>0.030784</td>\n",
       "      <td>0.03181</td>\n",
       "      <td>...</td>\n",
       "      <td>0.034435</td>\n",
       "      <td>0.006822</td>\n",
       "      <td>1.413119</td>\n",
       "      <td>0.029424</td>\n",
       "      <td>0.140005</td>\n",
       "      <td>0.049786</td>\n",
       "      <td>0.069296</td>\n",
       "      <td>0.332126</td>\n",
       "      <td>0.028596</td>\n",
       "      <td>0.028616</td>\n",
       "    </tr>\n",
       "    <tr>\n",
       "      <th>pyaging_data/ENCFF386QWG.bigWig</th>\n",
       "      <td>0.028616</td>\n",
       "      <td>0.030415</td>\n",
       "      <td>0.027783</td>\n",
       "      <td>0.028616</td>\n",
       "      <td>0.028616</td>\n",
       "      <td>0.028616</td>\n",
       "      <td>0.044171</td>\n",
       "      <td>0.036474</td>\n",
       "      <td>0.030784</td>\n",
       "      <td>0.03181</td>\n",
       "      <td>...</td>\n",
       "      <td>0.034435</td>\n",
       "      <td>0.006822</td>\n",
       "      <td>1.413119</td>\n",
       "      <td>0.029424</td>\n",
       "      <td>0.140005</td>\n",
       "      <td>0.049786</td>\n",
       "      <td>0.069296</td>\n",
       "      <td>0.332126</td>\n",
       "      <td>0.028596</td>\n",
       "      <td>0.028616</td>\n",
       "    </tr>\n",
       "  </tbody>\n",
       "</table>\n",
       "<p>2 rows × 62241 columns</p>\n",
       "</div>"
      ],
      "text/plain": [
       "                                 ENSG00000223972  ENSG00000227232  \\\n",
       "pyaging_data/ENCFF386QWG.bigWig         0.028616         0.030415   \n",
       "pyaging_data/ENCFF386QWG.bigWig         0.028616         0.030415   \n",
       "\n",
       "                                 ENSG00000278267  ENSG00000243485  \\\n",
       "pyaging_data/ENCFF386QWG.bigWig         0.027783         0.028616   \n",
       "pyaging_data/ENCFF386QWG.bigWig         0.027783         0.028616   \n",
       "\n",
       "                                 ENSG00000284332  ENSG00000237613  \\\n",
       "pyaging_data/ENCFF386QWG.bigWig         0.028616         0.028616   \n",
       "pyaging_data/ENCFF386QWG.bigWig         0.028616         0.028616   \n",
       "\n",
       "                                 ENSG00000268020  ENSG00000240361  \\\n",
       "pyaging_data/ENCFF386QWG.bigWig         0.044171         0.036474   \n",
       "pyaging_data/ENCFF386QWG.bigWig         0.044171         0.036474   \n",
       "\n",
       "                                 ENSG00000186092  ENSG00000238009  ...  \\\n",
       "pyaging_data/ENCFF386QWG.bigWig         0.030784          0.03181  ...   \n",
       "pyaging_data/ENCFF386QWG.bigWig         0.030784          0.03181  ...   \n",
       "\n",
       "                                 ENSG00000237801  ENSG00000237040  \\\n",
       "pyaging_data/ENCFF386QWG.bigWig         0.034435         0.006822   \n",
       "pyaging_data/ENCFF386QWG.bigWig         0.034435         0.006822   \n",
       "\n",
       "                                 ENSG00000124333  ENSG00000228410  \\\n",
       "pyaging_data/ENCFF386QWG.bigWig         1.413119         0.029424   \n",
       "pyaging_data/ENCFF386QWG.bigWig         1.413119         0.029424   \n",
       "\n",
       "                                 ENSG00000223484  ENSG00000124334  \\\n",
       "pyaging_data/ENCFF386QWG.bigWig         0.140005         0.049786   \n",
       "pyaging_data/ENCFF386QWG.bigWig         0.140005         0.049786   \n",
       "\n",
       "                                 ENSG00000270726  ENSG00000185203  \\\n",
       "pyaging_data/ENCFF386QWG.bigWig         0.069296         0.332126   \n",
       "pyaging_data/ENCFF386QWG.bigWig         0.069296         0.332126   \n",
       "\n",
       "                                 ENSG00000182484  ENSG00000227159  \n",
       "pyaging_data/ENCFF386QWG.bigWig         0.028596         0.028616  \n",
       "pyaging_data/ENCFF386QWG.bigWig         0.028596         0.028616  \n",
       "\n",
       "[2 rows x 62241 columns]"
      ]
     },
     "execution_count": 4,
     "metadata": {},
     "output_type": "execute_result"
    }
   ],
   "source": [
    "df.head()"
   ]
  },
  {
   "cell_type": "markdown",
   "id": "e303dc0f-9e77-4524-9c04-90540e9ee75d",
   "metadata": {},
   "source": [
    "## Convert data to AnnData object"
   ]
  },
  {
   "cell_type": "markdown",
   "id": "ae8e44bc-67fc-4508-9623-faea44301fa8",
   "metadata": {},
   "source": [
    "AnnData objects are highly flexible and are thus our preferred method of organizing data for age prediction."
   ]
  },
  {
   "cell_type": "code",
   "execution_count": 5,
   "id": "c501ed4c-f711-44be-bda4-669fbbae88f1",
   "metadata": {},
   "outputs": [
    {
     "name": "stdout",
     "output_type": "stream",
     "text": [
      "|-----> 🏗️ Starting df_to_adata function\n",
      "|-----> ⚙️ Impute missing values started\n",
      "|-----------> No missing values found. No imputation necessary\n",
      "|-----> ✅ Impute missing values finished [0.0006s]\n",
      "|-----> ⚙️ Log data statistics started\n",
      "|-----------> There are 2 observations\n",
      "|-----------> There are 62241 features\n",
      "|-----------> Total missing values: 0\n",
      "|-----------> Percentage of missing values: 0.00%\n",
      "|-----> ✅ Log data statistics finished [0.0014s]\n",
      "|-----> ⚙️ Create anndata object started\n",
      "|-----> ✅ Create anndata object finished [0.0019s]\n",
      "|-----> ⚙️ Add metadata to anndata started\n",
      "|-----------? No metadata provided. Leaving adata.obs empty\n",
      "|-----> ⚠️ Add metadata to anndata finished [0.0039s]\n",
      "|-----> ⚙️ Add unstructured data to anndata started\n",
      "|-----> ✅ Add unstructured data to anndata finished [0.0008s]\n",
      "|-----> 🎉 Done! [0.0090s]\n"
     ]
    },
    {
     "name": "stderr",
     "output_type": "stream",
     "text": [
      "/Users/lucascamillo/mambaforge/envs/brain/lib/python3.9/site-packages/anndata/_core/anndata.py:1838: UserWarning: Observation names are not unique. To make them unique, call `.obs_names_make_unique`.\n",
      "  utils.warn_names_duplicates(\"obs\")\n"
     ]
    }
   ],
   "source": [
    "adata = pya.preprocess.df_to_adata(df)"
   ]
  },
  {
   "cell_type": "markdown",
   "id": "c72aa719-efd3-4094-90f5-bffcaea76a34",
   "metadata": {},
   "source": [
    "## Predict age"
   ]
  },
  {
   "cell_type": "markdown",
   "id": "aff9395b-4954-4148-9cbb-6681e7217cf3",
   "metadata": {},
   "source": [
    "We can either predict one clock at once or all at the same time. For convenience, let's simply input a few clocks of interest at once. The function is invariant to the capitalization of the clock name. "
   ]
  },
  {
   "cell_type": "code",
   "execution_count": 6,
   "id": "13e7d357-c6d5-474b-b13f-30ec5edc0d19",
   "metadata": {},
   "outputs": [
    {
     "name": "stdout",
     "output_type": "stream",
     "text": [
      "|-----> 🏗️ Starting predict_age function\n",
      "|-----> ⚙️ Set PyTorch device started\n",
      "|-----------> Using device: cpu\n",
      "|-----> ✅ Set PyTorch device finished [0.0005s]\n",
      "|-----> Processing clock: h3k4me3\n",
      "|-----------> ⚙️ Load clock started\n",
      "|-----------> ⚙️ Download data started\n",
      "|-----------> Downloading data to ./pyaging_data/h3k4me3.pt\n",
      "|-----------> in progress: 100.0000%\n",
      "|-----------> ✅ Download data finished [0.0003s]\n",
      "|-----------> ✅ Load clock finished [0.0003s]\n",
      "|-----------> ⚙️ Check features in adata started\n",
      "|-----------> All features are present in adata.var_names.\n",
      "|-----------> ✅ Check features in adata finished [1.3708s]\n",
      "|-----------> ⚙️ Convert adata.X to torch.tensor and filter features started\n",
      "|-----------> ✅ Convert adata.X to torch.tensor and filter features finished [0.0021s]\n",
      "|-----------> ⚙️ Initialize model started\n",
      "|-----------> ✅ Initialize model finished [0.0028s]\n",
      "|-----------> ⚙️ Predict ages with model started\n",
      "|-----------> ✅ Predict ages with model finished [0.0024s]\n",
      "|-----------> ⚙️ Convert tensor to numpy array started\n",
      "|-----------> ✅ Convert tensor to numpy array finished [0.0018s]\n",
      "|-----------> ⚙️ Add predicted ages to adata started\n",
      "|-----------> ✅ Add predicted ages to adata finished [0.0007s]\n",
      "|-----------> ⚙️ Load all clock metadata started\n",
      "|-----------------> Data found in ./pyaging_data/all_clock_metadata.pt\n",
      "|-----------> ✅ Load all clock metadata finished [0.0011s]\n",
      "|-----------> ⚙️ Add clock metadata to adata.uns started\n",
      "|-----------> ✅ Add clock metadata to adata.uns finished [0.0020s]\n",
      "|-----> Processing clock: h3k9me3\n",
      "|-----------> ⚙️ Load clock started\n",
      "|-----------> ⚙️ Download data started\n",
      "|-----------> Downloading data to ./pyaging_data/h3k9me3.pt\n",
      "|-----------> in progress: 100.0000%\n",
      "|-----------> ✅ Download data finished [0.0002s]\n",
      "|-----------> ✅ Load clock finished [0.0002s]\n",
      "|-----------> ⚙️ Check features in adata started\n",
      "|-----------> All features are present in adata.var_names.\n",
      "|-----------> ✅ Check features in adata finished [1.1125s]\n",
      "|-----------> ⚙️ Convert adata.X to torch.tensor and filter features started\n",
      "|-----------> ✅ Convert adata.X to torch.tensor and filter features finished [0.0013s]\n",
      "|-----------> ⚙️ Initialize model started\n",
      "|-----------> ✅ Initialize model finished [0.0014s]\n",
      "|-----------> ⚙️ Predict ages with model started\n",
      "|-----------> ✅ Predict ages with model finished [0.0013s]\n",
      "|-----------> ⚙️ Convert tensor to numpy array started\n",
      "|-----------> ✅ Convert tensor to numpy array finished [0.0009s]\n",
      "|-----------> ⚙️ Add predicted ages to adata started\n",
      "|-----------> ✅ Add predicted ages to adata finished [0.0006s]\n",
      "|-----------> ⚙️ Load all clock metadata started\n",
      "|-----------------> Data found in ./pyaging_data/all_clock_metadata.pt\n",
      "|-----------> ✅ Load all clock metadata finished [0.0008s]\n",
      "|-----------> ⚙️ Add clock metadata to adata.uns started\n",
      "|-----------> ✅ Add clock metadata to adata.uns finished [0.0013s]\n",
      "|-----> Processing clock: panhistone\n",
      "|-----------> ⚙️ Load clock started\n",
      "|-----------> ⚙️ Download data started\n",
      "|-----------> Downloading data to ./pyaging_data/panhistone.pt\n",
      "|-----------> in progress: 100.0000%\n",
      "|-----------> ✅ Download data finished [0.0003s]\n",
      "|-----------> ✅ Load clock finished [0.0003s]\n",
      "|-----------> ⚙️ Check features in adata started\n",
      "|-----------> All features are present in adata.var_names.\n",
      "|-----------> ✅ Check features in adata finished [4.9160s]\n",
      "|-----------> ⚙️ Convert adata.X to torch.tensor and filter features started\n",
      "|-----------> ✅ Convert adata.X to torch.tensor and filter features finished [0.0065s]\n",
      "|-----------> ⚙️ Initialize model started\n",
      "|-----------> ✅ Initialize model finished [0.0031s]\n",
      "|-----------> ⚙️ Predict ages with model started\n",
      "|-----------> ✅ Predict ages with model finished [0.0123s]\n",
      "|-----------> ⚙️ Convert tensor to numpy array started\n",
      "|-----------> ✅ Convert tensor to numpy array finished [0.0038s]\n",
      "|-----------> ⚙️ Add predicted ages to adata started\n",
      "|-----------> ✅ Add predicted ages to adata finished [0.0006s]\n",
      "|-----------> ⚙️ Load all clock metadata started\n",
      "|-----------------> Data found in ./pyaging_data/all_clock_metadata.pt\n",
      "|-----------> ✅ Load all clock metadata finished [0.0011s]\n",
      "|-----------> ⚙️ Add clock metadata to adata.uns started\n",
      "|-----------> ✅ Add clock metadata to adata.uns finished [0.0029s]\n",
      "|-----> 🎉 Done! [7.4554s]\n"
     ]
    }
   ],
   "source": [
    "adata = pya.pred.predict_age(adata, ['h3k4me3', 'h3k9me3', 'panhistone'])"
   ]
  },
  {
   "cell_type": "code",
   "execution_count": 7,
   "id": "f64fb182-937b-4f67-b58e-5fffb0e2fad0",
   "metadata": {},
   "outputs": [
    {
     "data": {
      "text/html": [
       "<div>\n",
       "<style scoped>\n",
       "    .dataframe tbody tr th:only-of-type {\n",
       "        vertical-align: middle;\n",
       "    }\n",
       "\n",
       "    .dataframe tbody tr th {\n",
       "        vertical-align: top;\n",
       "    }\n",
       "\n",
       "    .dataframe thead th {\n",
       "        text-align: right;\n",
       "    }\n",
       "</style>\n",
       "<table border=\"1\" class=\"dataframe\">\n",
       "  <thead>\n",
       "    <tr style=\"text-align: right;\">\n",
       "      <th></th>\n",
       "      <th>h3k4me3</th>\n",
       "      <th>h3k9me3</th>\n",
       "      <th>panhistone</th>\n",
       "    </tr>\n",
       "  </thead>\n",
       "  <tbody>\n",
       "    <tr>\n",
       "      <th>pyaging_data/ENCFF386QWG.bigWig</th>\n",
       "      <td>53.998566</td>\n",
       "      <td>44.322887</td>\n",
       "      <td>54.021847</td>\n",
       "    </tr>\n",
       "    <tr>\n",
       "      <th>pyaging_data/ENCFF386QWG.bigWig</th>\n",
       "      <td>53.998566</td>\n",
       "      <td>44.322887</td>\n",
       "      <td>54.021847</td>\n",
       "    </tr>\n",
       "  </tbody>\n",
       "</table>\n",
       "</div>"
      ],
      "text/plain": [
       "                                   h3k4me3    h3k9me3  panhistone\n",
       "pyaging_data/ENCFF386QWG.bigWig  53.998566  44.322887   54.021847\n",
       "pyaging_data/ENCFF386QWG.bigWig  53.998566  44.322887   54.021847"
      ]
     },
     "execution_count": 7,
     "metadata": {},
     "output_type": "execute_result"
    }
   ],
   "source": [
    "adata.obs.head()"
   ]
  },
  {
   "cell_type": "markdown",
   "id": "c08ff758-675c-4136-9fb8-c19f0e05fefd",
   "metadata": {},
   "source": [
    "## Get citation"
   ]
  },
  {
   "cell_type": "markdown",
   "id": "8407c418-6251-4b08-9d29-166f9a4339d2",
   "metadata": {},
   "source": [
    "The doi, citation, and some metadata are automatically added to the AnnData object under `adata.uns[CLOCKNAME_metadata]`."
   ]
  },
  {
   "cell_type": "code",
   "execution_count": 8,
   "id": "2946393e-a199-46ba-a9dd-80bc8fa88787",
   "metadata": {},
   "outputs": [
    {
     "data": {
      "text/plain": [
       "{'species': 'Homo sapiens',\n",
       " 'data_type': 'histone_mark',\n",
       " 'year': 2023,\n",
       " 'citation': 'de Lima Camillo, Lucas Paulo, et al. \"Histone mark age of human tissues and cells.\" bioRxiv (2023): 2023-08.',\n",
       " 'doi': 'https://doi.org/10.1101/2023.08.21.554165'}"
      ]
     },
     "execution_count": 8,
     "metadata": {},
     "output_type": "execute_result"
    }
   ],
   "source": [
    "adata.uns['h3k4me3_metadata']"
   ]
  },
  {
   "cell_type": "code",
   "execution_count": 9,
   "id": "fa61ee13-c206-45de-ab73-0b70fe415664",
   "metadata": {},
   "outputs": [
    {
     "data": {
      "text/plain": [
       "{'species': 'Homo sapiens',\n",
       " 'data_type': 'histone_mark',\n",
       " 'year': 2023,\n",
       " 'citation': 'de Lima Camillo, Lucas Paulo, et al. \"Histone mark age of human tissues and cells.\" bioRxiv (2023): 2023-08.',\n",
       " 'doi': 'https://doi.org/10.1101/2023.08.21.554165'}"
      ]
     },
     "execution_count": 9,
     "metadata": {},
     "output_type": "execute_result"
    }
   ],
   "source": [
    "adata.uns['h3k9me3_metadata']"
   ]
  },
  {
   "cell_type": "code",
   "execution_count": 10,
   "id": "4d961fc8-df79-4870-81e5-381e331d2d0e",
   "metadata": {},
   "outputs": [
    {
     "data": {
      "text/plain": [
       "{'species': 'Homo sapiens',\n",
       " 'data_type': 'histone_mark',\n",
       " 'year': 2023,\n",
       " 'citation': 'de Lima Camillo, Lucas Paulo, et al. \"Histone mark age of human tissues and cells.\" bioRxiv (2023): 2023-08.',\n",
       " 'doi': 'https://doi.org/10.1101/2023.08.21.554165'}"
      ]
     },
     "execution_count": 10,
     "metadata": {},
     "output_type": "execute_result"
    }
   ],
   "source": [
    "adata.uns['panhistone_metadata']"
   ]
  }
 ],
 "metadata": {
  "kernelspec": {
   "display_name": "Python 3 (ipykernel)",
   "language": "python",
   "name": "python3"
  },
  "language_info": {
   "codemirror_mode": {
    "name": "ipython",
    "version": 3
   },
   "file_extension": ".py",
   "mimetype": "text/x-python",
   "name": "python",
   "nbconvert_exporter": "python",
   "pygments_lexer": "ipython3",
   "version": "3.9.17"
  }
 },
 "nbformat": 4,
 "nbformat_minor": 5
}
