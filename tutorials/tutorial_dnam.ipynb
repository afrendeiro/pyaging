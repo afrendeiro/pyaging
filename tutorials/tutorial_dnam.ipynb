{
 "cells": [
  {
   "cell_type": "markdown",
   "id": "4e690b3c-4dec-450e-a7f8-f63987e60cdb",
   "metadata": {},
   "source": [
    "[![Open In Colab](https://colab.research.google.com/assets/colab-badge.svg)](https://colab.research.google.com/github/rsinghlab/pyaging/blob/main/tutorials/tutorial_dnam.ipynb) [![Open In nbviewer](https://img.shields.io/badge/View%20in-nbviewer-orange)](https://nbviewer.jupyter.org/github/rsinghlab/pyaging/blob/main/tutorials/tutorial_dnam.ipynb)"
   ]
  },
  {
   "cell_type": "markdown",
   "id": "62e1ac68-927d-4ca8-a2ab-bd99a7ee52ab",
   "metadata": {},
   "source": [
    "# Bulk DNA methylation"
   ]
  },
  {
   "cell_type": "markdown",
   "id": "41699e8b-e682-4617-867c-fd0a624ae0ef",
   "metadata": {},
   "source": [
    "This tutorial is a brief guide for the implementation of an array of bulk DNA-methylation epigenetic clocks. In this notebook, we will demonstrate the breadth of epigenetic clock models available in *pyaging* by showing:\n",
    "\n",
    "- Horvath's 2013 ElasticNet-based clock ([url](https://genomebiology.biomedcentral.com/articles/10.1186/gb-2013-14-10-r115));\n",
    "  \n",
    "- AltumAge, a highly accurate deep-learning based clock ([url](https://www.nature.com/articles/s41514-022-00085-y));\n",
    "  \n",
    "- PCGrimAge, a principal-component based version of the GrimAge clock ([url](https://www.nature.com/articles/s43587-022-00248-2));"
   ]
  },
  {
   "cell_type": "markdown",
   "id": "9634c7f0-a20c-4269-b278-b3db7020e913",
   "metadata": {},
   "source": [
    "## Import packages"
   ]
  },
  {
   "cell_type": "markdown",
   "id": "d8ddf439-0b19-4a1a-9491-3a0e1ee94447",
   "metadata": {},
   "source": [
    "We just need two packages for this tutorial."
   ]
  },
  {
   "cell_type": "code",
   "execution_count": 1,
   "id": "dc347ae0-41ae-46ac-ba50-08cacd4c9241",
   "metadata": {},
   "outputs": [],
   "source": [
    "import pandas as pd\n",
    "import pyaging as pya"
   ]
  },
  {
   "cell_type": "markdown",
   "id": "f3eebcc0-d3a2-42a4-b87f-1637d0db2588",
   "metadata": {},
   "source": [
    "## Download and load example data"
   ]
  },
  {
   "cell_type": "markdown",
   "id": "096cb9c0-67d1-4a37-958e-13da15b15435",
   "metadata": {},
   "source": [
    "Let's download the publicly avaiable dataset GSE139307 with Illumina's 450k array. The CpG coverage of the 450k array should be good enough for most clocks."
   ]
  },
  {
   "cell_type": "code",
   "execution_count": 2,
   "id": "d771588a-01e1-4220-90f9-3048152a7efd",
   "metadata": {},
   "outputs": [
    {
     "name": "stdout",
     "output_type": "stream",
     "text": [
      "|-----> 🏗️ Starting download_example_data function\n",
      "|-----> ⚙️ Download data started\n",
      "|-----------> Data found in ./pyaging_data/GSE139307.pkl\n",
      "|-----> ✅ Download data finished [0.0009s]\n",
      "|-----> 🎉 Done! [0.0019s]\n"
     ]
    }
   ],
   "source": [
    "pya.data.download_example_data('methylation')"
   ]
  },
  {
   "cell_type": "code",
   "execution_count": 3,
   "id": "3192d1bd-f5d6-426c-8c65-29971e46c4b4",
   "metadata": {},
   "outputs": [],
   "source": [
    "df = pd.read_pickle('pyaging_data/GSE139307.pkl')"
   ]
  },
  {
   "cell_type": "code",
   "execution_count": 4,
   "id": "ddf9e1d5-ddb1-42e2-9dfc-9cf4441b326d",
   "metadata": {},
   "outputs": [
    {
     "data": {
      "text/html": [
       "<div>\n",
       "<style scoped>\n",
       "    .dataframe tbody tr th:only-of-type {\n",
       "        vertical-align: middle;\n",
       "    }\n",
       "\n",
       "    .dataframe tbody tr th {\n",
       "        vertical-align: top;\n",
       "    }\n",
       "\n",
       "    .dataframe thead th {\n",
       "        text-align: right;\n",
       "    }\n",
       "</style>\n",
       "<table border=\"1\" class=\"dataframe\">\n",
       "  <thead>\n",
       "    <tr style=\"text-align: right;\">\n",
       "      <th></th>\n",
       "      <th>dataset</th>\n",
       "      <th>tissue_type</th>\n",
       "      <th>age</th>\n",
       "      <th>gender</th>\n",
       "      <th>cg00000029</th>\n",
       "      <th>cg00000108</th>\n",
       "      <th>cg00000109</th>\n",
       "      <th>cg00000165</th>\n",
       "      <th>cg00000236</th>\n",
       "      <th>cg00000289</th>\n",
       "      <th>...</th>\n",
       "      <th>ch.X.93511680F</th>\n",
       "      <th>ch.X.938089F</th>\n",
       "      <th>ch.X.94051109R</th>\n",
       "      <th>ch.X.94260649R</th>\n",
       "      <th>ch.X.967194F</th>\n",
       "      <th>ch.X.97129969R</th>\n",
       "      <th>ch.X.97133160R</th>\n",
       "      <th>ch.X.97651759F</th>\n",
       "      <th>ch.X.97737721F</th>\n",
       "      <th>ch.X.98007042R</th>\n",
       "    </tr>\n",
       "  </thead>\n",
       "  <tbody>\n",
       "    <tr>\n",
       "      <th>GSM4137709</th>\n",
       "      <td>GSE139307</td>\n",
       "      <td>sperm</td>\n",
       "      <td>84.0</td>\n",
       "      <td>M</td>\n",
       "      <td>0.084811</td>\n",
       "      <td>0.920696</td>\n",
       "      <td>0.856851</td>\n",
       "      <td>0.084567</td>\n",
       "      <td>0.838699</td>\n",
       "      <td>0.247273</td>\n",
       "      <td>...</td>\n",
       "      <td>0.061751</td>\n",
       "      <td>0.045942</td>\n",
       "      <td>0.037631</td>\n",
       "      <td>0.056455</td>\n",
       "      <td>0.249872</td>\n",
       "      <td>0.049022</td>\n",
       "      <td>0.085691</td>\n",
       "      <td>0.037435</td>\n",
       "      <td>0.077820</td>\n",
       "      <td>0.106234</td>\n",
       "    </tr>\n",
       "    <tr>\n",
       "      <th>GSM4137710</th>\n",
       "      <td>GSE139307</td>\n",
       "      <td>sperm</td>\n",
       "      <td>69.0</td>\n",
       "      <td>M</td>\n",
       "      <td>0.099626</td>\n",
       "      <td>0.919073</td>\n",
       "      <td>0.890024</td>\n",
       "      <td>0.115541</td>\n",
       "      <td>0.852584</td>\n",
       "      <td>0.198103</td>\n",
       "      <td>...</td>\n",
       "      <td>0.075077</td>\n",
       "      <td>0.041849</td>\n",
       "      <td>0.032573</td>\n",
       "      <td>0.089790</td>\n",
       "      <td>0.250245</td>\n",
       "      <td>0.079095</td>\n",
       "      <td>0.079756</td>\n",
       "      <td>0.046229</td>\n",
       "      <td>0.091256</td>\n",
       "      <td>0.120241</td>\n",
       "    </tr>\n",
       "    <tr>\n",
       "      <th>GSM4137711</th>\n",
       "      <td>GSE139307</td>\n",
       "      <td>sperm</td>\n",
       "      <td>69.0</td>\n",
       "      <td>M</td>\n",
       "      <td>0.117228</td>\n",
       "      <td>0.920276</td>\n",
       "      <td>0.894317</td>\n",
       "      <td>0.117127</td>\n",
       "      <td>0.839258</td>\n",
       "      <td>0.213410</td>\n",
       "      <td>...</td>\n",
       "      <td>0.068679</td>\n",
       "      <td>0.049515</td>\n",
       "      <td>0.058097</td>\n",
       "      <td>0.079919</td>\n",
       "      <td>0.299758</td>\n",
       "      <td>0.079305</td>\n",
       "      <td>0.089815</td>\n",
       "      <td>0.065364</td>\n",
       "      <td>0.086864</td>\n",
       "      <td>0.156005</td>\n",
       "    </tr>\n",
       "    <tr>\n",
       "      <th>GSM4137712</th>\n",
       "      <td>GSE139307</td>\n",
       "      <td>sperm</td>\n",
       "      <td>69.0</td>\n",
       "      <td>M</td>\n",
       "      <td>0.077096</td>\n",
       "      <td>0.910204</td>\n",
       "      <td>0.908400</td>\n",
       "      <td>0.073885</td>\n",
       "      <td>0.861615</td>\n",
       "      <td>0.163276</td>\n",
       "      <td>...</td>\n",
       "      <td>0.070091</td>\n",
       "      <td>0.033289</td>\n",
       "      <td>0.038836</td>\n",
       "      <td>0.108213</td>\n",
       "      <td>0.295428</td>\n",
       "      <td>0.050731</td>\n",
       "      <td>0.099943</td>\n",
       "      <td>0.047597</td>\n",
       "      <td>0.078480</td>\n",
       "      <td>0.107480</td>\n",
       "    </tr>\n",
       "    <tr>\n",
       "      <th>GSM4137713</th>\n",
       "      <td>GSE139307</td>\n",
       "      <td>sperm</td>\n",
       "      <td>67.0</td>\n",
       "      <td>M</td>\n",
       "      <td>0.063524</td>\n",
       "      <td>0.911608</td>\n",
       "      <td>0.884643</td>\n",
       "      <td>0.079877</td>\n",
       "      <td>0.864654</td>\n",
       "      <td>0.176169</td>\n",
       "      <td>...</td>\n",
       "      <td>0.082368</td>\n",
       "      <td>0.038411</td>\n",
       "      <td>0.048787</td>\n",
       "      <td>0.088631</td>\n",
       "      <td>0.316694</td>\n",
       "      <td>0.041873</td>\n",
       "      <td>0.079303</td>\n",
       "      <td>0.048823</td>\n",
       "      <td>0.089010</td>\n",
       "      <td>0.117903</td>\n",
       "    </tr>\n",
       "  </tbody>\n",
       "</table>\n",
       "<p>5 rows × 485516 columns</p>\n",
       "</div>"
      ],
      "text/plain": [
       "              dataset tissue_type   age gender  cg00000029  cg00000108  \\\n",
       "GSM4137709  GSE139307       sperm  84.0      M    0.084811    0.920696   \n",
       "GSM4137710  GSE139307       sperm  69.0      M    0.099626    0.919073   \n",
       "GSM4137711  GSE139307       sperm  69.0      M    0.117228    0.920276   \n",
       "GSM4137712  GSE139307       sperm  69.0      M    0.077096    0.910204   \n",
       "GSM4137713  GSE139307       sperm  67.0      M    0.063524    0.911608   \n",
       "\n",
       "            cg00000109  cg00000165  cg00000236  cg00000289  ...  \\\n",
       "GSM4137709    0.856851    0.084567    0.838699    0.247273  ...   \n",
       "GSM4137710    0.890024    0.115541    0.852584    0.198103  ...   \n",
       "GSM4137711    0.894317    0.117127    0.839258    0.213410  ...   \n",
       "GSM4137712    0.908400    0.073885    0.861615    0.163276  ...   \n",
       "GSM4137713    0.884643    0.079877    0.864654    0.176169  ...   \n",
       "\n",
       "            ch.X.93511680F  ch.X.938089F  ch.X.94051109R  ch.X.94260649R  \\\n",
       "GSM4137709        0.061751      0.045942        0.037631        0.056455   \n",
       "GSM4137710        0.075077      0.041849        0.032573        0.089790   \n",
       "GSM4137711        0.068679      0.049515        0.058097        0.079919   \n",
       "GSM4137712        0.070091      0.033289        0.038836        0.108213   \n",
       "GSM4137713        0.082368      0.038411        0.048787        0.088631   \n",
       "\n",
       "            ch.X.967194F  ch.X.97129969R  ch.X.97133160R  ch.X.97651759F  \\\n",
       "GSM4137709      0.249872        0.049022        0.085691        0.037435   \n",
       "GSM4137710      0.250245        0.079095        0.079756        0.046229   \n",
       "GSM4137711      0.299758        0.079305        0.089815        0.065364   \n",
       "GSM4137712      0.295428        0.050731        0.099943        0.047597   \n",
       "GSM4137713      0.316694        0.041873        0.079303        0.048823   \n",
       "\n",
       "            ch.X.97737721F  ch.X.98007042R  \n",
       "GSM4137709        0.077820        0.106234  \n",
       "GSM4137710        0.091256        0.120241  \n",
       "GSM4137711        0.086864        0.156005  \n",
       "GSM4137712        0.078480        0.107480  \n",
       "GSM4137713        0.089010        0.117903  \n",
       "\n",
       "[5 rows x 485516 columns]"
      ]
     },
     "execution_count": 4,
     "metadata": {},
     "output_type": "execute_result"
    }
   ],
   "source": [
    "df.head()"
   ]
  },
  {
   "cell_type": "markdown",
   "id": "cfbebcff-687e-4199-8b8a-6712577cebc0",
   "metadata": {},
   "source": [
    "For PCGrimAge, both age and sex are features. Therefore, to get the full prediction, let's convert the column `gender` into a column called `female`, with 1 being female and 0 being male. Let's just drop the other metadata for simplicity."
   ]
  },
  {
   "cell_type": "code",
   "execution_count": 5,
   "id": "671906c4-ae7e-4808-859a-470e19757477",
   "metadata": {},
   "outputs": [],
   "source": [
    "# needs only numerical data (doesn't work with strings)\n",
    "df['female'] = (df['gender'] == 'F').astype(int)\n",
    "df = df.drop(['gender', 'tissue_type', 'dataset'], axis=1)"
   ]
  },
  {
   "cell_type": "markdown",
   "id": "798b8998-dc50-44ac-bc4e-c97c4f1ec183",
   "metadata": {},
   "source": [
    "## Convert data to AnnData object"
   ]
  },
  {
   "cell_type": "markdown",
   "id": "f8269bff-fadf-4524-801d-6294655c005b",
   "metadata": {},
   "source": [
    "AnnData objects are highly flexible and are thus our preferred method of organizing data for age prediction."
   ]
  },
  {
   "cell_type": "code",
   "execution_count": 6,
   "id": "f6f68ea1-dbbb-4a21-8b2b-f36a7df47222",
   "metadata": {},
   "outputs": [
    {
     "name": "stdout",
     "output_type": "stream",
     "text": [
      "|-----> 🏗️ Starting df_to_adata function\n",
      "|-----> ⚙️ Impute missing values started\n",
      "|-----------> Imputing missing values using mean strategy\n",
      "|-----> ✅ Impute missing values finished [0.1123s]\n",
      "|-----> ⚙️ Log data statistics started\n",
      "|-----------> There are 37 observations\n",
      "|-----------> There are 485514 features\n",
      "|-----------> Total missing values: 0\n",
      "|-----------> Percentage of missing values: 0.00%\n",
      "|-----> ✅ Log data statistics finished [0.2125s]\n",
      "|-----> ⚙️ Create anndata object started\n",
      "|-----> ✅ Create anndata object finished [0.0150s]\n",
      "|-----> ⚙️ Add metadata to anndata started\n",
      "|-----------? No metadata provided. Leaving adata.obs empty\n",
      "|-----> ⚠️ Add metadata to anndata finished [0.0320s]\n",
      "|-----> ⚙️ Add unstructured data to anndata started\n",
      "|-----> ✅ Add unstructured data to anndata finished [0.0012s]\n",
      "|-----> 🎉 Done! [0.3736s]\n"
     ]
    }
   ],
   "source": [
    "adata = pya.pp.df_to_adata(df, imputer_strategy='mean')"
   ]
  },
  {
   "cell_type": "markdown",
   "id": "bff7c621-f7b7-4fc0-9c91-6f82a9211e8b",
   "metadata": {},
   "source": [
    "## Predict age"
   ]
  },
  {
   "cell_type": "markdown",
   "id": "07f5a0ae-1901-4f49-af64-320974584231",
   "metadata": {},
   "source": [
    "We can either predict one clock at once or all at the same time. For convenience, let's simply input all three clocks of interest at once. The function is invariant to the capitalization of the clock name. "
   ]
  },
  {
   "cell_type": "code",
   "execution_count": 7,
   "id": "9e4de7a8-0898-4cbe-89e6-69d48ccd039a",
   "metadata": {},
   "outputs": [
    {
     "name": "stdout",
     "output_type": "stream",
     "text": [
      "|-----> 🏗️ Starting predict_age function\n",
      "|-----> ⚙️ Set PyTorch device started\n",
      "|-----------> Using device: cpu\n",
      "|-----> ✅ Set PyTorch device finished [0.0005s]\n",
      "|-----> Processing clock: Horvath2013\n",
      "|-----------> ⚙️ Load clock started\n",
      "|-----------> ⚙️ Download data started\n",
      "|-----------> Data found in ./pyaging_data/horvath2013.pt\n",
      "|-----------> ✅ Download data finished [0.0004s]\n",
      "|-----------> ✅ Load clock finished [0.0004s]\n",
      "|-----------> ⚙️ Check features in adata started\n",
      "|-----------> All features are present in adata.var_names.\n",
      "|-----------> ✅ Check features in adata finished [0.0036s]\n",
      "|-----------> ⚙️ Convert adata.X to torch.tensor and filter features started\n",
      "|-----------> ✅ Convert adata.X to torch.tensor and filter features finished [0.0016s]\n",
      "|-----------> ⚙️ Initialize model started\n",
      "|-----------> ✅ Initialize model finished [0.0024s]\n",
      "|-----------> ⚙️ Predict ages with model started\n",
      "|-----------> ✅ Predict ages with model finished [0.0015s]\n",
      "|-----------> ⚙️ Convert tensor to numpy array started\n",
      "|-----------> ✅ Convert tensor to numpy array finished [0.0008s]\n",
      "|-----------> ⚙️ Postprocess data started\n",
      "|-----------------> Postprocessing data with function anti_log_linear\n",
      "|-----------> ✅ Postprocess data finished [0.0007s]\n",
      "|-----------> ⚙️ Add predicted ages to adata started\n",
      "|-----------> ✅ Add predicted ages to adata finished [0.0008s]\n",
      "|-----------> ⚙️ Load all clock metadata started\n",
      "|-----------------> Data found in ./pyaging_data/all_clock_metadata.pt\n",
      "|-----------> ✅ Load all clock metadata finished [0.0008s]\n",
      "|-----------> ⚙️ Add clock metadata to adata.uns started\n",
      "|-----------> ✅ Add clock metadata to adata.uns finished [0.0017s]\n",
      "|-----> Processing clock: AltumAge\n",
      "|-----------> ⚙️ Load clock started\n",
      "|-----------> ⚙️ Download data started\n",
      "|-----------> Data found in ./pyaging_data/altumage.pt\n",
      "|-----------> ✅ Download data finished [0.0002s]\n",
      "|-----------> ✅ Load clock finished [0.0002s]\n",
      "|-----------> ⚙️ Check features in adata started\n",
      "|-----------> All features are present in adata.var_names.\n",
      "|-----------> ✅ Check features in adata finished [0.0108s]\n",
      "|-----------> ⚙️ Convert adata.X to torch.tensor and filter features started\n",
      "|-----------> ✅ Convert adata.X to torch.tensor and filter features finished [0.0139s]\n",
      "|-----------> ⚙️ Preprocess data started\n",
      "|-----------------> Preprocessing data with function scale\n",
      "|-----------> ✅ Preprocess data finished [0.0154s]\n",
      "|-----------> ⚙️ Initialize model started\n",
      "|-----------> ✅ Initialize model finished [0.0034s]\n",
      "|-----------> ⚙️ Predict ages with model started\n",
      "|-----------> ✅ Predict ages with model finished [0.0048s]\n",
      "|-----------> ⚙️ Convert tensor to numpy array started\n",
      "|-----------> ✅ Convert tensor to numpy array finished [0.0029s]\n",
      "|-----------> ⚙️ Add predicted ages to adata started\n",
      "|-----------> ✅ Add predicted ages to adata finished [0.0007s]\n",
      "|-----------> ⚙️ Load all clock metadata started\n",
      "|-----------------> Data found in ./pyaging_data/all_clock_metadata.pt\n",
      "|-----------> ✅ Load all clock metadata finished [0.0009s]\n",
      "|-----------> ⚙️ Add clock metadata to adata.uns started\n",
      "|-----------> ✅ Add clock metadata to adata.uns finished [0.0018s]\n",
      "|-----> Processing clock: PCGrimAge\n",
      "|-----------> ⚙️ Load clock started\n",
      "|-----------> ⚙️ Download data started\n",
      "|-----------> Data found in ./pyaging_data/pcgrimage.pt\n",
      "|-----------> ✅ Download data finished [0.0004s]\n",
      "|-----------> ✅ Load clock finished [0.0004s]\n",
      "|-----------> ⚙️ Check features in adata started\n",
      "|-----------> All features are present in adata.var_names.\n",
      "|-----------> ✅ Check features in adata finished [0.4372s]\n",
      "|-----------> ⚙️ Convert adata.X to torch.tensor and filter features started\n",
      "|-----------> ✅ Convert adata.X to torch.tensor and filter features finished [0.0650s]\n",
      "|-----------> ⚙️ Initialize model started\n",
      "|-----------> ✅ Initialize model finished [0.0611s]\n",
      "|-----------> ⚙️ Predict ages with model started\n",
      "|-----------> ✅ Predict ages with model finished [0.2587s]\n",
      "|-----------> ⚙️ Convert tensor to numpy array started\n",
      "|-----------> ✅ Convert tensor to numpy array finished [0.1194s]\n",
      "|-----------> ⚙️ Add predicted ages to adata started\n",
      "|-----------> ✅ Add predicted ages to adata finished [0.0008s]\n",
      "|-----------> ⚙️ Load all clock metadata started\n",
      "|-----------------> Data found in ./pyaging_data/all_clock_metadata.pt\n",
      "|-----------> ✅ Load all clock metadata finished [0.0011s]\n",
      "|-----------> ⚙️ Add clock metadata to adata.uns started\n",
      "|-----------> ✅ Add clock metadata to adata.uns finished [0.0017s]\n",
      "|-----> 🎉 Done! [1.0179s]\n"
     ]
    }
   ],
   "source": [
    "adata = pya.pred.predict_age(adata, ['Horvath2013', 'AltumAge', 'PCGrimAge',])"
   ]
  },
  {
   "cell_type": "code",
   "execution_count": 8,
   "id": "9c0c6926-2944-4274-aefa-eb099b8e6737",
   "metadata": {},
   "outputs": [
    {
     "data": {
      "text/html": [
       "<div>\n",
       "<style scoped>\n",
       "    .dataframe tbody tr th:only-of-type {\n",
       "        vertical-align: middle;\n",
       "    }\n",
       "\n",
       "    .dataframe tbody tr th {\n",
       "        vertical-align: top;\n",
       "    }\n",
       "\n",
       "    .dataframe thead th {\n",
       "        text-align: right;\n",
       "    }\n",
       "</style>\n",
       "<table border=\"1\" class=\"dataframe\">\n",
       "  <thead>\n",
       "    <tr style=\"text-align: right;\">\n",
       "      <th></th>\n",
       "      <th>horvath2013</th>\n",
       "      <th>altumage</th>\n",
       "      <th>pcgrimage</th>\n",
       "    </tr>\n",
       "  </thead>\n",
       "  <tbody>\n",
       "    <tr>\n",
       "      <th>GSM4137709</th>\n",
       "      <td>33.624774</td>\n",
       "      <td>37.007023</td>\n",
       "      <td>68.520729</td>\n",
       "    </tr>\n",
       "    <tr>\n",
       "      <th>GSM4137710</th>\n",
       "      <td>28.829343</td>\n",
       "      <td>29.426702</td>\n",
       "      <td>58.770798</td>\n",
       "    </tr>\n",
       "    <tr>\n",
       "      <th>GSM4137711</th>\n",
       "      <td>28.316548</td>\n",
       "      <td>22.805416</td>\n",
       "      <td>57.613228</td>\n",
       "    </tr>\n",
       "    <tr>\n",
       "      <th>GSM4137712</th>\n",
       "      <td>24.850635</td>\n",
       "      <td>18.060070</td>\n",
       "      <td>59.368393</td>\n",
       "    </tr>\n",
       "    <tr>\n",
       "      <th>GSM4137713</th>\n",
       "      <td>25.942114</td>\n",
       "      <td>20.071888</td>\n",
       "      <td>59.199066</td>\n",
       "    </tr>\n",
       "  </tbody>\n",
       "</table>\n",
       "</div>"
      ],
      "text/plain": [
       "            horvath2013   altumage  pcgrimage\n",
       "GSM4137709    33.624774  37.007023  68.520729\n",
       "GSM4137710    28.829343  29.426702  58.770798\n",
       "GSM4137711    28.316548  22.805416  57.613228\n",
       "GSM4137712    24.850635  18.060070  59.368393\n",
       "GSM4137713    25.942114  20.071888  59.199066"
      ]
     },
     "execution_count": 8,
     "metadata": {},
     "output_type": "execute_result"
    }
   ],
   "source": [
    "adata.obs.head()"
   ]
  },
  {
   "cell_type": "markdown",
   "id": "123ea2ce-8db1-492d-9d13-c57447030ad8",
   "metadata": {},
   "source": [
    "## Get citation"
   ]
  },
  {
   "cell_type": "markdown",
   "id": "99ad630f-a3b1-4cf7-a180-b8b56bd548e1",
   "metadata": {},
   "source": [
    "The doi, citation, and some metadata are automatically added to the AnnData object under `adata.uns[CLOCKNAME_metadata]`."
   ]
  },
  {
   "cell_type": "code",
   "execution_count": 9,
   "id": "7d2d10dc-4ffe-4940-a7f1-2041b933f7b6",
   "metadata": {},
   "outputs": [
    {
     "data": {
      "text/plain": [
       "{'species': 'Homo sapiens',\n",
       " 'data_type': 'methylation',\n",
       " 'year': 2013,\n",
       " 'citation': 'Horvath, Steve. \"DNA methylation age of human tissues and cell types.\" Genome biology 14.10 (2013): 1-20.',\n",
       " 'doi': 'https://doi.org/10.1186/gb-2013-14-10-r115'}"
      ]
     },
     "execution_count": 9,
     "metadata": {},
     "output_type": "execute_result"
    }
   ],
   "source": [
    "adata.uns['horvath2013_metadata']"
   ]
  },
  {
   "cell_type": "code",
   "execution_count": 10,
   "id": "e2a5311a-ed7d-4e1b-9fbb-b4ad676ce9da",
   "metadata": {},
   "outputs": [
    {
     "data": {
      "text/plain": [
       "{'species': 'Homo sapiens',\n",
       " 'data_type': 'methylation',\n",
       " 'year': 2022,\n",
       " 'citation': 'de Lima Camillo, Lucas Paulo, Louis R. Lapierre, and Ritambhara Singh. \"A pan-tissue DNA-methylation epigenetic clock based on deep learning.\" npj Aging 8.1 (2022): 4.',\n",
       " 'doi': 'https://doi.org/10.1038/s41514-022-00085-y'}"
      ]
     },
     "execution_count": 10,
     "metadata": {},
     "output_type": "execute_result"
    }
   ],
   "source": [
    "adata.uns['altumage_metadata']"
   ]
  },
  {
   "cell_type": "code",
   "execution_count": 11,
   "id": "0bbefc0c-acc8-47db-84dc-5ebe80d08500",
   "metadata": {},
   "outputs": [
    {
     "data": {
      "text/plain": [
       "{'species': 'Homo sapiens',\n",
       " 'data_type': 'methylation',\n",
       " 'year': 2022,\n",
       " 'citation': 'Higgins-Chen, Albert T., et al. \"A computational solution for bolstering reliability of epigenetic clocks: Implications for clinical trials and longitudinal tracking.\" Nature aging 2.7 (2022): 644-661.',\n",
       " 'doi': 'https://doi.org/10.1038/s43587-022-00248-2'}"
      ]
     },
     "execution_count": 11,
     "metadata": {},
     "output_type": "execute_result"
    }
   ],
   "source": [
    "adata.uns['pcgrimage_metadata']"
   ]
  }
 ],
 "metadata": {
  "kernelspec": {
   "display_name": "Python 3",
   "language": "python",
   "name": "python3"
  },
  "language_info": {
   "codemirror_mode": {
    "name": "ipython",
    "version": 3
   },
   "file_extension": ".py",
   "mimetype": "text/x-python",
   "name": "python",
   "nbconvert_exporter": "python",
   "pygments_lexer": "ipython3",
   "version": "3.9.17"
  }
 },
 "nbformat": 4,
 "nbformat_minor": 5
}
