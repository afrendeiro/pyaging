{
 "cells": [
  {
   "cell_type": "markdown",
   "id": "4e690b3c-4dec-450e-a7f8-f63987e60cdb",
   "metadata": {},
   "source": [
    "[![Open In Colab](https://colab.research.google.com/assets/colab-badge.svg)](https://colab.research.google.com/github/rsinghlab/pyaging/blob/main/tutorials/tutorial_dnam.ipynb) [![Open In nbviewer](https://img.shields.io/badge/View%20in-nbviewer-orange)](https://nbviewer.jupyter.org/github/rsinghlab/pyaging/blob/main/tutorials/tutorial_dnam.ipynb)"
   ]
  },
  {
   "cell_type": "markdown",
   "id": "62e1ac68-927d-4ca8-a2ab-bd99a7ee52ab",
   "metadata": {},
   "source": [
    "# Bulk DNA methylation"
   ]
  },
  {
   "cell_type": "markdown",
   "id": "41699e8b-e682-4617-867c-fd0a624ae0ef",
   "metadata": {},
   "source": [
    "This tutorial is a brief guide for the implementation of an array of bulk DNA-methylation epigenetic clocks. In this notebook, we will demonstrate the breadth of epigenetic clock models available in *pyaging* by showing:\n",
    "\n",
    "- Horvath's 2013 ElasticNet-based clock ([url](https://genomebiology.biomedcentral.com/articles/10.1186/gb-2013-14-10-r115));\n",
    "  \n",
    "- AltumAge, a highly accurate deep-learning based clock ([url](https://www.nature.com/articles/s41514-022-00085-y));\n",
    "  \n",
    "- PCGrimAge, a principal-component based version of the GrimAge clock ([url](https://www.nature.com/articles/s43587-022-00248-2));"
   ]
  },
  {
   "cell_type": "markdown",
   "id": "d8ddf439-0b19-4a1a-9491-3a0e1ee94447",
   "metadata": {},
   "source": [
    "We just need two packages for this tutorial."
   ]
  },
  {
   "cell_type": "code",
   "execution_count": 1,
   "id": "dc347ae0-41ae-46ac-ba50-08cacd4c9241",
   "metadata": {},
   "outputs": [],
   "source": [
    "import pandas as pd\n",
    "import pyaging as pya"
   ]
  },
  {
   "cell_type": "markdown",
   "id": "7c3c9b1d-e024-4d06-ab09-f4607cacbcd8",
   "metadata": {},
   "source": [
    "## Homo sapiens"
   ]
  },
  {
   "cell_type": "markdown",
   "id": "f3eebcc0-d3a2-42a4-b87f-1637d0db2588",
   "metadata": {},
   "source": [
    "### Download and load example data"
   ]
  },
  {
   "cell_type": "markdown",
   "id": "096cb9c0-67d1-4a37-958e-13da15b15435",
   "metadata": {},
   "source": [
    "Let's download the publicly avaiable dataset GSE139307 with Illumina's 450k array. The CpG coverage of the 450k array should be good enough for most clocks."
   ]
  },
  {
   "cell_type": "code",
   "execution_count": 2,
   "id": "d771588a-01e1-4220-90f9-3048152a7efd",
   "metadata": {},
   "outputs": [
    {
     "name": "stdout",
     "output_type": "stream",
     "text": [
      "|-----> 🏗️ Starting download_example_data function\n",
      "|-----------> Data found in pyaging_data/GSE139307.pkl\n",
      "|-----> 🎉 Done! [0.0007s]\n"
     ]
    }
   ],
   "source": [
    "pya.data.download_example_data('GSE139307')"
   ]
  },
  {
   "cell_type": "code",
   "execution_count": 3,
   "id": "3192d1bd-f5d6-426c-8c65-29971e46c4b4",
   "metadata": {},
   "outputs": [],
   "source": [
    "df = pd.read_pickle('pyaging_data/GSE139307.pkl')"
   ]
  },
  {
   "cell_type": "code",
   "execution_count": 4,
   "id": "ddf9e1d5-ddb1-42e2-9dfc-9cf4441b326d",
   "metadata": {},
   "outputs": [
    {
     "data": {
      "text/html": [
       "<div>\n",
       "<style scoped>\n",
       "    .dataframe tbody tr th:only-of-type {\n",
       "        vertical-align: middle;\n",
       "    }\n",
       "\n",
       "    .dataframe tbody tr th {\n",
       "        vertical-align: top;\n",
       "    }\n",
       "\n",
       "    .dataframe thead th {\n",
       "        text-align: right;\n",
       "    }\n",
       "</style>\n",
       "<table border=\"1\" class=\"dataframe\">\n",
       "  <thead>\n",
       "    <tr style=\"text-align: right;\">\n",
       "      <th></th>\n",
       "      <th>dataset</th>\n",
       "      <th>tissue_type</th>\n",
       "      <th>age</th>\n",
       "      <th>gender</th>\n",
       "      <th>cg00000029</th>\n",
       "      <th>cg00000108</th>\n",
       "      <th>cg00000109</th>\n",
       "      <th>cg00000165</th>\n",
       "      <th>cg00000236</th>\n",
       "      <th>cg00000289</th>\n",
       "      <th>...</th>\n",
       "      <th>ch.X.93511680F</th>\n",
       "      <th>ch.X.938089F</th>\n",
       "      <th>ch.X.94051109R</th>\n",
       "      <th>ch.X.94260649R</th>\n",
       "      <th>ch.X.967194F</th>\n",
       "      <th>ch.X.97129969R</th>\n",
       "      <th>ch.X.97133160R</th>\n",
       "      <th>ch.X.97651759F</th>\n",
       "      <th>ch.X.97737721F</th>\n",
       "      <th>ch.X.98007042R</th>\n",
       "    </tr>\n",
       "  </thead>\n",
       "  <tbody>\n",
       "    <tr>\n",
       "      <th>GSM4137709</th>\n",
       "      <td>GSE139307</td>\n",
       "      <td>sperm</td>\n",
       "      <td>84.0</td>\n",
       "      <td>M</td>\n",
       "      <td>0.084811</td>\n",
       "      <td>0.920696</td>\n",
       "      <td>0.856851</td>\n",
       "      <td>0.084567</td>\n",
       "      <td>0.838699</td>\n",
       "      <td>0.247273</td>\n",
       "      <td>...</td>\n",
       "      <td>0.061751</td>\n",
       "      <td>0.045942</td>\n",
       "      <td>0.037631</td>\n",
       "      <td>0.056455</td>\n",
       "      <td>0.249872</td>\n",
       "      <td>0.049022</td>\n",
       "      <td>0.085691</td>\n",
       "      <td>0.037435</td>\n",
       "      <td>0.077820</td>\n",
       "      <td>0.106234</td>\n",
       "    </tr>\n",
       "    <tr>\n",
       "      <th>GSM4137710</th>\n",
       "      <td>GSE139307</td>\n",
       "      <td>sperm</td>\n",
       "      <td>69.0</td>\n",
       "      <td>M</td>\n",
       "      <td>0.099626</td>\n",
       "      <td>0.919073</td>\n",
       "      <td>0.890024</td>\n",
       "      <td>0.115541</td>\n",
       "      <td>0.852584</td>\n",
       "      <td>0.198103</td>\n",
       "      <td>...</td>\n",
       "      <td>0.075077</td>\n",
       "      <td>0.041849</td>\n",
       "      <td>0.032573</td>\n",
       "      <td>0.089790</td>\n",
       "      <td>0.250245</td>\n",
       "      <td>0.079095</td>\n",
       "      <td>0.079756</td>\n",
       "      <td>0.046229</td>\n",
       "      <td>0.091256</td>\n",
       "      <td>0.120241</td>\n",
       "    </tr>\n",
       "    <tr>\n",
       "      <th>GSM4137711</th>\n",
       "      <td>GSE139307</td>\n",
       "      <td>sperm</td>\n",
       "      <td>69.0</td>\n",
       "      <td>M</td>\n",
       "      <td>0.117228</td>\n",
       "      <td>0.920276</td>\n",
       "      <td>0.894317</td>\n",
       "      <td>0.117127</td>\n",
       "      <td>0.839258</td>\n",
       "      <td>0.213410</td>\n",
       "      <td>...</td>\n",
       "      <td>0.068679</td>\n",
       "      <td>0.049515</td>\n",
       "      <td>0.058097</td>\n",
       "      <td>0.079919</td>\n",
       "      <td>0.299758</td>\n",
       "      <td>0.079305</td>\n",
       "      <td>0.089815</td>\n",
       "      <td>0.065364</td>\n",
       "      <td>0.086864</td>\n",
       "      <td>0.156005</td>\n",
       "    </tr>\n",
       "    <tr>\n",
       "      <th>GSM4137712</th>\n",
       "      <td>GSE139307</td>\n",
       "      <td>sperm</td>\n",
       "      <td>69.0</td>\n",
       "      <td>M</td>\n",
       "      <td>0.077096</td>\n",
       "      <td>0.910204</td>\n",
       "      <td>0.908400</td>\n",
       "      <td>0.073885</td>\n",
       "      <td>0.861615</td>\n",
       "      <td>0.163276</td>\n",
       "      <td>...</td>\n",
       "      <td>0.070091</td>\n",
       "      <td>0.033289</td>\n",
       "      <td>0.038836</td>\n",
       "      <td>0.108213</td>\n",
       "      <td>0.295428</td>\n",
       "      <td>0.050731</td>\n",
       "      <td>0.099943</td>\n",
       "      <td>0.047597</td>\n",
       "      <td>0.078480</td>\n",
       "      <td>0.107480</td>\n",
       "    </tr>\n",
       "    <tr>\n",
       "      <th>GSM4137713</th>\n",
       "      <td>GSE139307</td>\n",
       "      <td>sperm</td>\n",
       "      <td>67.0</td>\n",
       "      <td>M</td>\n",
       "      <td>0.063524</td>\n",
       "      <td>0.911608</td>\n",
       "      <td>0.884643</td>\n",
       "      <td>0.079877</td>\n",
       "      <td>0.864654</td>\n",
       "      <td>0.176169</td>\n",
       "      <td>...</td>\n",
       "      <td>0.082368</td>\n",
       "      <td>0.038411</td>\n",
       "      <td>0.048787</td>\n",
       "      <td>0.088631</td>\n",
       "      <td>0.316694</td>\n",
       "      <td>0.041873</td>\n",
       "      <td>0.079303</td>\n",
       "      <td>0.048823</td>\n",
       "      <td>0.089010</td>\n",
       "      <td>0.117903</td>\n",
       "    </tr>\n",
       "  </tbody>\n",
       "</table>\n",
       "<p>5 rows × 485516 columns</p>\n",
       "</div>"
      ],
      "text/plain": [
       "              dataset tissue_type   age gender  cg00000029  cg00000108  \\\n",
       "GSM4137709  GSE139307       sperm  84.0      M    0.084811    0.920696   \n",
       "GSM4137710  GSE139307       sperm  69.0      M    0.099626    0.919073   \n",
       "GSM4137711  GSE139307       sperm  69.0      M    0.117228    0.920276   \n",
       "GSM4137712  GSE139307       sperm  69.0      M    0.077096    0.910204   \n",
       "GSM4137713  GSE139307       sperm  67.0      M    0.063524    0.911608   \n",
       "\n",
       "            cg00000109  cg00000165  cg00000236  cg00000289  ...  \\\n",
       "GSM4137709    0.856851    0.084567    0.838699    0.247273  ...   \n",
       "GSM4137710    0.890024    0.115541    0.852584    0.198103  ...   \n",
       "GSM4137711    0.894317    0.117127    0.839258    0.213410  ...   \n",
       "GSM4137712    0.908400    0.073885    0.861615    0.163276  ...   \n",
       "GSM4137713    0.884643    0.079877    0.864654    0.176169  ...   \n",
       "\n",
       "            ch.X.93511680F  ch.X.938089F  ch.X.94051109R  ch.X.94260649R  \\\n",
       "GSM4137709        0.061751      0.045942        0.037631        0.056455   \n",
       "GSM4137710        0.075077      0.041849        0.032573        0.089790   \n",
       "GSM4137711        0.068679      0.049515        0.058097        0.079919   \n",
       "GSM4137712        0.070091      0.033289        0.038836        0.108213   \n",
       "GSM4137713        0.082368      0.038411        0.048787        0.088631   \n",
       "\n",
       "            ch.X.967194F  ch.X.97129969R  ch.X.97133160R  ch.X.97651759F  \\\n",
       "GSM4137709      0.249872        0.049022        0.085691        0.037435   \n",
       "GSM4137710      0.250245        0.079095        0.079756        0.046229   \n",
       "GSM4137711      0.299758        0.079305        0.089815        0.065364   \n",
       "GSM4137712      0.295428        0.050731        0.099943        0.047597   \n",
       "GSM4137713      0.316694        0.041873        0.079303        0.048823   \n",
       "\n",
       "            ch.X.97737721F  ch.X.98007042R  \n",
       "GSM4137709        0.077820        0.106234  \n",
       "GSM4137710        0.091256        0.120241  \n",
       "GSM4137711        0.086864        0.156005  \n",
       "GSM4137712        0.078480        0.107480  \n",
       "GSM4137713        0.089010        0.117903  \n",
       "\n",
       "[5 rows x 485516 columns]"
      ]
     },
     "execution_count": 4,
     "metadata": {},
     "output_type": "execute_result"
    }
   ],
   "source": [
    "df.head()"
   ]
  },
  {
   "cell_type": "markdown",
   "id": "cfbebcff-687e-4199-8b8a-6712577cebc0",
   "metadata": {},
   "source": [
    "For PCGrimAge, both age and sex are features. Therefore, to get the full prediction, let's convert the column `gender` into a column called `female`, with 1 being female and 0 being male. Let's just drop the other metadata for simplicity."
   ]
  },
  {
   "cell_type": "code",
   "execution_count": 5,
   "id": "671906c4-ae7e-4808-859a-470e19757477",
   "metadata": {},
   "outputs": [],
   "source": [
    "# needs only numerical data (doesn't work with strings)\n",
    "df['female'] = (df['gender'] == 'F').astype(int)"
   ]
  },
  {
   "cell_type": "markdown",
   "id": "798b8998-dc50-44ac-bc4e-c97c4f1ec183",
   "metadata": {},
   "source": [
    "### Convert data to AnnData object"
   ]
  },
  {
   "cell_type": "markdown",
   "id": "f8269bff-fadf-4524-801d-6294655c005b",
   "metadata": {},
   "source": [
    "AnnData objects are highly flexible and are thus our preferred method of organizing data for age prediction."
   ]
  },
  {
   "cell_type": "code",
   "execution_count": 6,
   "id": "f6f68ea1-dbbb-4a21-8b2b-f36a7df47222",
   "metadata": {},
   "outputs": [
    {
     "name": "stdout",
     "output_type": "stream",
     "text": [
      "|-----> 🏗️ Starting df_to_adata function\n",
      "|-----> ⚙️ Create anndata object started\n",
      "|-----> ✅ Create anndata object finished [0.0678s]\n",
      "|-----> ⚙️ Add metadata to anndata started\n",
      "|-----------> Adding provided metadata to adata.obs\n",
      "|-----> ✅ Add metadata to anndata finished [0.0008s]\n",
      "|-----> ⚙️ Log data statistics started\n",
      "|-----------> There are 37 observations\n",
      "|-----------> There are 485514 features\n",
      "|-----------> Total missing values: 526\n",
      "|-----------> Percentage of missing values: 0.00%\n",
      "|-----> ✅ Log data statistics finished [0.0245s]\n",
      "|-----> ⚙️ Impute missing values started\n",
      "|-----------> Imputing missing values using mean strategy\n",
      "|-----> ✅ Impute missing values finished [0.2300s]\n",
      "|-----> ⚙️ Add unstructured data to anndata started\n",
      "|-----> ✅ Add unstructured data to anndata finished [0.0003s]\n",
      "|-----> 🎉 Done! [0.4918s]\n"
     ]
    }
   ],
   "source": [
    "adata = pya.pp.df_to_adata(df, metadata_cols=['gender', 'tissue_type', 'dataset'], imputer_strategy='mean')"
   ]
  },
  {
   "cell_type": "markdown",
   "id": "3f4e479d-0b80-4079-9cd5-79f7d5130ba4",
   "metadata": {},
   "source": [
    "This is what the `adata` object looks like:"
   ]
  },
  {
   "cell_type": "code",
   "execution_count": 7,
   "id": "3259b596-5679-42c1-967b-5297f1612cf4",
   "metadata": {},
   "outputs": [
    {
     "data": {
      "text/plain": [
       "AnnData object with n_obs × n_vars = 37 × 485514\n",
       "    obs: 'gender', 'tissue_type', 'dataset'\n",
       "    var: 'percent_na'\n",
       "    uns: 'imputer_strategy', 'data_type'"
      ]
     },
     "execution_count": 7,
     "metadata": {},
     "output_type": "execute_result"
    }
   ],
   "source": [
    "adata"
   ]
  },
  {
   "cell_type": "markdown",
   "id": "bff7c621-f7b7-4fc0-9c91-6f82a9211e8b",
   "metadata": {},
   "source": [
    "### Predict age"
   ]
  },
  {
   "cell_type": "markdown",
   "id": "07f5a0ae-1901-4f49-af64-320974584231",
   "metadata": {},
   "source": [
    "We can either predict one clock at once or all at the same time. For convenience, let's simply input all three clocks of interest at once. The function is invariant to the capitalization of the clock name. "
   ]
  },
  {
   "cell_type": "code",
   "execution_count": 8,
   "id": "9e4de7a8-0898-4cbe-89e6-69d48ccd039a",
   "metadata": {},
   "outputs": [
    {
     "name": "stdout",
     "output_type": "stream",
     "text": [
      "|-----> 🏗️ Starting predict_age function\n",
      "|-----> ⚙️ Set PyTorch device started\n",
      "|-----------> Using device: cpu\n",
      "|-----> ✅ Set PyTorch device finished [0.0010s]\n",
      "|-----> Processing clock: Horvath2013\n",
      "|-----------> ⚙️ Load clock started\n",
      "|-----------------> Data found in pyaging_data/horvath2013.pt\n",
      "|-----------> ✅ Load clock finished [0.0033s]\n",
      "|-----------> ⚙️ Check features in adata started\n",
      "|-----------------> All features are present in adata.var_names.\n",
      "|-----------> ✅ Check features in adata finished [0.0016s]\n",
      "|-----------> ⚙️ Filter features and extract data matrix started\n",
      "|-----------> ✅ Filter features and extract data matrix finished [0.0059s]\n",
      "|-----------> ⚙️ Convert numpy array to tensor started\n",
      "|-----------> ✅ Convert numpy array to tensor finished [0.0006s]\n",
      "|-----------> ⚙️ Initialize model started\n",
      "|-----------> ✅ Initialize model finished [0.0021s]\n",
      "|-----------> ⚙️ Predict ages with model started\n",
      "|-----------> ✅ Predict ages with model finished [0.0008s]\n",
      "|-----------> ⚙️ Convert tensor to numpy array started\n",
      "|-----------> ✅ Convert tensor to numpy array finished [0.0004s]\n",
      "|-----------> ⚙️ Postprocess data started\n",
      "|-----------------> Postprocessing data with function anti_log_linear\n",
      "|-----------> ✅ Postprocess data finished [0.0011s]\n",
      "|-----------> ⚙️ Add predicted ages to adata started\n",
      "|-----------> ✅ Add predicted ages to adata finished [0.0005s]\n",
      "|-----------> ⚙️ Load all clock metadata started\n",
      "|-----------------> Data found in pyaging_data/all_clock_metadata.pt\n",
      "|-----------> ✅ Load all clock metadata finished [0.0015s]\n",
      "|-----------> ⚙️ Add clock metadata to adata.uns started\n",
      "|-----------> ✅ Add clock metadata to adata.uns finished [0.0003s]\n",
      "|-----> Processing clock: AltumAge\n",
      "|-----------> ⚙️ Load clock started\n",
      "|-----------------> Data found in pyaging_data/altumage.pt\n",
      "|-----------> ✅ Load clock finished [0.0114s]\n",
      "|-----------> ⚙️ Preprocess data started\n",
      "|-----------------> Preprocessing data with function scale\n",
      "|-----------> ✅ Preprocess data finished [0.0354s]\n",
      "|-----------> ⚙️ Check features in adata started\n",
      "|-----------------> All features are present in adata.var_names.\n",
      "|-----------> ✅ Check features in adata finished [0.0141s]\n",
      "|-----------> ⚙️ Filter features and extract data matrix started\n",
      "|-----------> ✅ Filter features and extract data matrix finished [0.0155s]\n",
      "|-----------> ⚙️ Convert numpy array to tensor started\n",
      "|-----------> ✅ Convert numpy array to tensor finished [0.0023s]\n",
      "|-----------> ⚙️ Initialize model started\n",
      "|-----------> ✅ Initialize model finished [0.0084s]\n",
      "|-----------> ⚙️ Predict ages with model started\n",
      "|-----------> ✅ Predict ages with model finished [0.0101s]\n",
      "|-----------> ⚙️ Convert tensor to numpy array started\n",
      "|-----------> ✅ Convert tensor to numpy array finished [0.0012s]\n",
      "|-----------> ⚙️ Add predicted ages to adata started\n",
      "|-----------> ✅ Add predicted ages to adata finished [0.0018s]\n",
      "|-----------> ⚙️ Load all clock metadata started\n",
      "|-----------------> Data found in pyaging_data/all_clock_metadata.pt\n",
      "|-----------> ✅ Load all clock metadata finished [0.0028s]\n",
      "|-----------> ⚙️ Add clock metadata to adata.uns started\n",
      "|-----------> ✅ Add clock metadata to adata.uns finished [0.0002s]\n",
      "|-----> Processing clock: PCGrimAge\n",
      "|-----------> ⚙️ Load clock started\n",
      "|-----------------> Data found in pyaging_data/pcgrimage.pt\n",
      "|-----------> ✅ Load clock finished [0.5140s]\n",
      "|-----------> ⚙️ Check features in adata started\n",
      "|-----------------> All features are present in adata.var_names.\n",
      "|-----------> ✅ Check features in adata finished [0.0453s]\n",
      "|-----------> ⚙️ Filter features and extract data matrix started\n",
      "|-----------> ✅ Filter features and extract data matrix finished [0.0574s]\n",
      "|-----------> ⚙️ Convert numpy array to tensor started\n",
      "|-----------> ✅ Convert numpy array to tensor finished [0.0051s]\n",
      "|-----------> ⚙️ Initialize model started\n",
      "|-----------> ✅ Initialize model finished [0.2154s]\n",
      "|-----------> ⚙️ Predict ages with model started\n",
      "|-----------> ✅ Predict ages with model finished [0.1077s]\n",
      "|-----------> ⚙️ Convert tensor to numpy array started\n",
      "|-----------> ✅ Convert tensor to numpy array finished [0.0014s]\n",
      "|-----------> ⚙️ Add predicted ages to adata started\n",
      "|-----------> ✅ Add predicted ages to adata finished [0.0012s]\n",
      "|-----------> ⚙️ Load all clock metadata started\n",
      "|-----------------> Data found in pyaging_data/all_clock_metadata.pt\n",
      "|-----------> ✅ Load all clock metadata finished [0.0018s]\n",
      "|-----------> ⚙️ Add clock metadata to adata.uns started\n",
      "|-----------> ✅ Add clock metadata to adata.uns finished [0.0004s]\n",
      "|-----> 🎉 Done! [1.4998s]\n"
     ]
    }
   ],
   "source": [
    "adata = pya.pred.predict_age(adata, ['Horvath2013', 'AltumAge', 'PCGrimAge',])"
   ]
  },
  {
   "cell_type": "code",
   "execution_count": 9,
   "id": "9c0c6926-2944-4274-aefa-eb099b8e6737",
   "metadata": {},
   "outputs": [
    {
     "data": {
      "text/html": [
       "<div>\n",
       "<style scoped>\n",
       "    .dataframe tbody tr th:only-of-type {\n",
       "        vertical-align: middle;\n",
       "    }\n",
       "\n",
       "    .dataframe tbody tr th {\n",
       "        vertical-align: top;\n",
       "    }\n",
       "\n",
       "    .dataframe thead th {\n",
       "        text-align: right;\n",
       "    }\n",
       "</style>\n",
       "<table border=\"1\" class=\"dataframe\">\n",
       "  <thead>\n",
       "    <tr style=\"text-align: right;\">\n",
       "      <th></th>\n",
       "      <th>gender</th>\n",
       "      <th>tissue_type</th>\n",
       "      <th>dataset</th>\n",
       "      <th>horvath2013</th>\n",
       "      <th>altumage</th>\n",
       "      <th>pcgrimage</th>\n",
       "    </tr>\n",
       "  </thead>\n",
       "  <tbody>\n",
       "    <tr>\n",
       "      <th>GSM4137709</th>\n",
       "      <td>M</td>\n",
       "      <td>sperm</td>\n",
       "      <td>GSE139307</td>\n",
       "      <td>33.624774</td>\n",
       "      <td>37.007030</td>\n",
       "      <td>68.520729</td>\n",
       "    </tr>\n",
       "    <tr>\n",
       "      <th>GSM4137710</th>\n",
       "      <td>M</td>\n",
       "      <td>sperm</td>\n",
       "      <td>GSE139307</td>\n",
       "      <td>28.829343</td>\n",
       "      <td>29.426702</td>\n",
       "      <td>58.770798</td>\n",
       "    </tr>\n",
       "    <tr>\n",
       "      <th>GSM4137711</th>\n",
       "      <td>M</td>\n",
       "      <td>sperm</td>\n",
       "      <td>GSE139307</td>\n",
       "      <td>28.316548</td>\n",
       "      <td>22.805408</td>\n",
       "      <td>57.613228</td>\n",
       "    </tr>\n",
       "    <tr>\n",
       "      <th>GSM4137712</th>\n",
       "      <td>M</td>\n",
       "      <td>sperm</td>\n",
       "      <td>GSE139307</td>\n",
       "      <td>24.850635</td>\n",
       "      <td>18.060072</td>\n",
       "      <td>59.368393</td>\n",
       "    </tr>\n",
       "    <tr>\n",
       "      <th>GSM4137713</th>\n",
       "      <td>M</td>\n",
       "      <td>sperm</td>\n",
       "      <td>GSE139307</td>\n",
       "      <td>25.942114</td>\n",
       "      <td>20.071892</td>\n",
       "      <td>59.199066</td>\n",
       "    </tr>\n",
       "  </tbody>\n",
       "</table>\n",
       "</div>"
      ],
      "text/plain": [
       "           gender tissue_type    dataset  horvath2013   altumage  pcgrimage\n",
       "GSM4137709      M       sperm  GSE139307    33.624774  37.007030  68.520729\n",
       "GSM4137710      M       sperm  GSE139307    28.829343  29.426702  58.770798\n",
       "GSM4137711      M       sperm  GSE139307    28.316548  22.805408  57.613228\n",
       "GSM4137712      M       sperm  GSE139307    24.850635  18.060072  59.368393\n",
       "GSM4137713      M       sperm  GSE139307    25.942114  20.071892  59.199066"
      ]
     },
     "execution_count": 9,
     "metadata": {},
     "output_type": "execute_result"
    }
   ],
   "source": [
    "adata.obs.head()"
   ]
  },
  {
   "cell_type": "markdown",
   "id": "069520e6-0ffe-43d5-a7c1-c3f726b0a1ac",
   "metadata": {},
   "source": [
    "Having so much information printed can be overwhelming, particularly when running several clocks at once. In such cases, just set verbose to False."
   ]
  },
  {
   "cell_type": "code",
   "execution_count": 10,
   "id": "70f63735-69b0-4071-8fa6-461f290a60fc",
   "metadata": {},
   "outputs": [],
   "source": [
    "pya.data.download_example_data('GSE139307', verbose=False)\n",
    "df = pd.read_pickle('pyaging_data/GSE139307.pkl')\n",
    "df['female'] = (df['gender'] == 'F').astype(int)\n",
    "adata = pya.preprocess.df_to_adata(df, metadata_cols=['gender', 'tissue_type', 'dataset'], imputer_strategy='mean', verbose=False)\n",
    "adata = pya.pred.predict_age(adata, ['Horvath2013', 'AltumAge', 'PCGrimAge',], verbose=False)"
   ]
  },
  {
   "cell_type": "code",
   "execution_count": 11,
   "id": "7009e4a4-90c6-4c4f-9bbd-bcb3e3836eee",
   "metadata": {},
   "outputs": [
    {
     "data": {
      "text/html": [
       "<div>\n",
       "<style scoped>\n",
       "    .dataframe tbody tr th:only-of-type {\n",
       "        vertical-align: middle;\n",
       "    }\n",
       "\n",
       "    .dataframe tbody tr th {\n",
       "        vertical-align: top;\n",
       "    }\n",
       "\n",
       "    .dataframe thead th {\n",
       "        text-align: right;\n",
       "    }\n",
       "</style>\n",
       "<table border=\"1\" class=\"dataframe\">\n",
       "  <thead>\n",
       "    <tr style=\"text-align: right;\">\n",
       "      <th></th>\n",
       "      <th>gender</th>\n",
       "      <th>tissue_type</th>\n",
       "      <th>dataset</th>\n",
       "      <th>horvath2013</th>\n",
       "      <th>altumage</th>\n",
       "      <th>pcgrimage</th>\n",
       "    </tr>\n",
       "  </thead>\n",
       "  <tbody>\n",
       "    <tr>\n",
       "      <th>GSM4137709</th>\n",
       "      <td>M</td>\n",
       "      <td>sperm</td>\n",
       "      <td>GSE139307</td>\n",
       "      <td>33.624774</td>\n",
       "      <td>37.007030</td>\n",
       "      <td>68.520729</td>\n",
       "    </tr>\n",
       "    <tr>\n",
       "      <th>GSM4137710</th>\n",
       "      <td>M</td>\n",
       "      <td>sperm</td>\n",
       "      <td>GSE139307</td>\n",
       "      <td>28.829343</td>\n",
       "      <td>29.426702</td>\n",
       "      <td>58.770798</td>\n",
       "    </tr>\n",
       "    <tr>\n",
       "      <th>GSM4137711</th>\n",
       "      <td>M</td>\n",
       "      <td>sperm</td>\n",
       "      <td>GSE139307</td>\n",
       "      <td>28.316548</td>\n",
       "      <td>22.805408</td>\n",
       "      <td>57.613228</td>\n",
       "    </tr>\n",
       "    <tr>\n",
       "      <th>GSM4137712</th>\n",
       "      <td>M</td>\n",
       "      <td>sperm</td>\n",
       "      <td>GSE139307</td>\n",
       "      <td>24.850635</td>\n",
       "      <td>18.060072</td>\n",
       "      <td>59.368393</td>\n",
       "    </tr>\n",
       "    <tr>\n",
       "      <th>GSM4137713</th>\n",
       "      <td>M</td>\n",
       "      <td>sperm</td>\n",
       "      <td>GSE139307</td>\n",
       "      <td>25.942114</td>\n",
       "      <td>20.071892</td>\n",
       "      <td>59.199066</td>\n",
       "    </tr>\n",
       "  </tbody>\n",
       "</table>\n",
       "</div>"
      ],
      "text/plain": [
       "           gender tissue_type    dataset  horvath2013   altumage  pcgrimage\n",
       "GSM4137709      M       sperm  GSE139307    33.624774  37.007030  68.520729\n",
       "GSM4137710      M       sperm  GSE139307    28.829343  29.426702  58.770798\n",
       "GSM4137711      M       sperm  GSE139307    28.316548  22.805408  57.613228\n",
       "GSM4137712      M       sperm  GSE139307    24.850635  18.060072  59.368393\n",
       "GSM4137713      M       sperm  GSE139307    25.942114  20.071892  59.199066"
      ]
     },
     "execution_count": 11,
     "metadata": {},
     "output_type": "execute_result"
    }
   ],
   "source": [
    "adata.obs.head()"
   ]
  },
  {
   "cell_type": "markdown",
   "id": "6f246126-0be1-47b2-86f4-c81dcc752da0",
   "metadata": {},
   "source": [
    "After age prediction, the clocks are added to `adata.obs`. Moreover, the percent of missing values for each clock and other metadata are included in `adata.uns`."
   ]
  },
  {
   "cell_type": "code",
   "execution_count": 12,
   "id": "14649c41-167e-4771-a4de-1ed2ae72eb51",
   "metadata": {},
   "outputs": [
    {
     "data": {
      "text/plain": [
       "AnnData object with n_obs × n_vars = 37 × 485514\n",
       "    obs: 'gender', 'tissue_type', 'dataset', 'horvath2013', 'altumage', 'pcgrimage'\n",
       "    var: 'percent_na'\n",
       "    uns: 'imputer_strategy', 'data_type', 'horvath2013_metadata', 'altumage_metadata', 'pcgrimage_metadata'"
      ]
     },
     "execution_count": 12,
     "metadata": {},
     "output_type": "execute_result"
    }
   ],
   "source": [
    "adata"
   ]
  },
  {
   "cell_type": "markdown",
   "id": "123ea2ce-8db1-492d-9d13-c57447030ad8",
   "metadata": {},
   "source": [
    "### Get citation"
   ]
  },
  {
   "cell_type": "markdown",
   "id": "99ad630f-a3b1-4cf7-a180-b8b56bd548e1",
   "metadata": {},
   "source": [
    "The doi, citation, and some metadata are automatically added to the AnnData object under `adata.uns[CLOCKNAME_metadata]`."
   ]
  },
  {
   "cell_type": "code",
   "execution_count": 13,
   "id": "7d2d10dc-4ffe-4940-a7f1-2041b933f7b6",
   "metadata": {},
   "outputs": [
    {
     "data": {
      "text/plain": [
       "{'species': 'Homo sapiens',\n",
       " 'data_type': 'methylation',\n",
       " 'year': 2013,\n",
       " 'citation': 'Horvath, Steve. \"DNA methylation age of human tissues and cell types.\" Genome biology 14.10 (2013): 1-20.',\n",
       " 'doi': 'https://doi.org/10.1186/gb-2013-14-10-r115'}"
      ]
     },
     "execution_count": 13,
     "metadata": {},
     "output_type": "execute_result"
    }
   ],
   "source": [
    "adata.uns['horvath2013_metadata']"
   ]
  },
  {
   "cell_type": "code",
   "execution_count": 14,
   "id": "e2a5311a-ed7d-4e1b-9fbb-b4ad676ce9da",
   "metadata": {},
   "outputs": [
    {
     "data": {
      "text/plain": [
       "{'species': 'Homo sapiens',\n",
       " 'data_type': 'methylation',\n",
       " 'year': 2022,\n",
       " 'citation': 'de Lima Camillo, Lucas Paulo, Louis R. Lapierre, and Ritambhara Singh. \"A pan-tissue DNA-methylation epigenetic clock based on deep learning.\" npj Aging 8.1 (2022): 4.',\n",
       " 'doi': 'https://doi.org/10.1038/s41514-022-00085-y'}"
      ]
     },
     "execution_count": 14,
     "metadata": {},
     "output_type": "execute_result"
    }
   ],
   "source": [
    "adata.uns['altumage_metadata']"
   ]
  },
  {
   "cell_type": "code",
   "execution_count": 15,
   "id": "0bbefc0c-acc8-47db-84dc-5ebe80d08500",
   "metadata": {},
   "outputs": [
    {
     "data": {
      "text/plain": [
       "{'species': 'Homo sapiens',\n",
       " 'data_type': 'methylation',\n",
       " 'year': 2022,\n",
       " 'citation': 'Higgins-Chen, Albert T., et al. \"A computational solution for bolstering reliability of epigenetic clocks: Implications for clinical trials and longitudinal tracking.\" Nature aging 2.7 (2022): 644-661.',\n",
       " 'doi': 'https://doi.org/10.1038/s43587-022-00248-2'}"
      ]
     },
     "execution_count": 15,
     "metadata": {},
     "output_type": "execute_result"
    }
   ],
   "source": [
    "adata.uns['pcgrimage_metadata']"
   ]
  },
  {
   "cell_type": "markdown",
   "id": "21b470d4-eef3-4825-9899-fcb0068c9c1c",
   "metadata": {},
   "source": [
    "## Mammalian"
   ]
  },
  {
   "cell_type": "markdown",
   "id": "d5e6b7de-7f34-4ee5-935a-00a0e2fb8945",
   "metadata": {},
   "source": [
    "### Download and load example data"
   ]
  },
  {
   "cell_type": "markdown",
   "id": "8c6ba751-380e-4b91-b4a2-c20e05711380",
   "metadata": {},
   "source": [
    "Let's download the publicly avaiable dataset GSE223748 with Illumina's Mammalian Methylation array. The CpG coverage of the this array (~37k) spans highly conserved CpG sequences. Let's download a subset of that data."
   ]
  },
  {
   "cell_type": "code",
   "execution_count": 16,
   "id": "5d07743e-516c-4cac-a733-a05c2ed55d53",
   "metadata": {},
   "outputs": [
    {
     "name": "stdout",
     "output_type": "stream",
     "text": [
      "|-----> 🏗️ Starting download_example_data function\n",
      "|-----------> Data found in pyaging_data/GSE223748_subset.pkl\n",
      "|-----> 🎉 Done! [0.0015s]\n"
     ]
    }
   ],
   "source": [
    "pya.data.download_example_data('GSE223748')"
   ]
  },
  {
   "cell_type": "code",
   "execution_count": 17,
   "id": "6e929219-e691-4171-911e-46143ae94898",
   "metadata": {},
   "outputs": [],
   "source": [
    "df = pd.read_pickle('pyaging_data/GSE223748_subset.pkl')"
   ]
  },
  {
   "cell_type": "code",
   "execution_count": 18,
   "id": "03141fc7-f175-4ad3-86ed-22d51db5cadd",
   "metadata": {},
   "outputs": [
    {
     "data": {
      "text/html": [
       "<div>\n",
       "<style scoped>\n",
       "    .dataframe tbody tr th:only-of-type {\n",
       "        vertical-align: middle;\n",
       "    }\n",
       "\n",
       "    .dataframe tbody tr th {\n",
       "        vertical-align: top;\n",
       "    }\n",
       "\n",
       "    .dataframe thead th {\n",
       "        text-align: right;\n",
       "    }\n",
       "</style>\n",
       "<table border=\"1\" class=\"dataframe\">\n",
       "  <thead>\n",
       "    <tr style=\"text-align: right;\">\n",
       "      <th></th>\n",
       "      <th>cg00000165</th>\n",
       "      <th>cg00001209</th>\n",
       "      <th>cg00001364</th>\n",
       "      <th>cg00001582</th>\n",
       "      <th>cg00002920</th>\n",
       "      <th>cg00003994</th>\n",
       "      <th>cg00004555</th>\n",
       "      <th>cg00005112</th>\n",
       "      <th>cg00005271</th>\n",
       "      <th>cg00006213</th>\n",
       "      <th>...</th>\n",
       "      <th>rs7746156_II_F_C_37550</th>\n",
       "      <th>rs798149_II_F_C_37528</th>\n",
       "      <th>rs845016_II_F_C_37529</th>\n",
       "      <th>rs877309_II_F_C_37552</th>\n",
       "      <th>rs9292570_I_F_C_37499</th>\n",
       "      <th>rs9363764_II_F_C_37541</th>\n",
       "      <th>rs939290_II_F_C_37535</th>\n",
       "      <th>rs951295_I_F_C_37507</th>\n",
       "      <th>rs966367_II_F_C_37551</th>\n",
       "      <th>rs9839873_II_F_C_37532</th>\n",
       "    </tr>\n",
       "  </thead>\n",
       "  <tbody>\n",
       "    <tr>\n",
       "      <th>204509080002_R01C02</th>\n",
       "      <td>0.094879</td>\n",
       "      <td>0.916154</td>\n",
       "      <td>0.890314</td>\n",
       "      <td>0.053583</td>\n",
       "      <td>0.490381</td>\n",
       "      <td>0.034852</td>\n",
       "      <td>0.159705</td>\n",
       "      <td>0.763959</td>\n",
       "      <td>0.973245</td>\n",
       "      <td>0.928975</td>\n",
       "      <td>...</td>\n",
       "      <td>0.488592</td>\n",
       "      <td>0.491361</td>\n",
       "      <td>0.480024</td>\n",
       "      <td>0.500000</td>\n",
       "      <td>0.484252</td>\n",
       "      <td>0.489448</td>\n",
       "      <td>0.505585</td>\n",
       "      <td>0.505335</td>\n",
       "      <td>0.485003</td>\n",
       "      <td>0.510081</td>\n",
       "    </tr>\n",
       "    <tr>\n",
       "      <th>202897220142_R04C02</th>\n",
       "      <td>0.497077</td>\n",
       "      <td>0.441263</td>\n",
       "      <td>0.915314</td>\n",
       "      <td>0.047339</td>\n",
       "      <td>0.651029</td>\n",
       "      <td>0.037774</td>\n",
       "      <td>0.082634</td>\n",
       "      <td>0.415800</td>\n",
       "      <td>0.702857</td>\n",
       "      <td>0.821715</td>\n",
       "      <td>...</td>\n",
       "      <td>0.508102</td>\n",
       "      <td>0.500299</td>\n",
       "      <td>0.507261</td>\n",
       "      <td>0.490684</td>\n",
       "      <td>0.499673</td>\n",
       "      <td>0.497256</td>\n",
       "      <td>0.564106</td>\n",
       "      <td>0.482151</td>\n",
       "      <td>0.486667</td>\n",
       "      <td>0.505236</td>\n",
       "    </tr>\n",
       "    <tr>\n",
       "      <th>204529320092_R01C02</th>\n",
       "      <td>0.321141</td>\n",
       "      <td>0.834158</td>\n",
       "      <td>0.881194</td>\n",
       "      <td>0.056124</td>\n",
       "      <td>0.688350</td>\n",
       "      <td>0.030225</td>\n",
       "      <td>0.086776</td>\n",
       "      <td>0.777588</td>\n",
       "      <td>0.974587</td>\n",
       "      <td>0.923934</td>\n",
       "      <td>...</td>\n",
       "      <td>0.520404</td>\n",
       "      <td>0.509568</td>\n",
       "      <td>0.507549</td>\n",
       "      <td>0.501659</td>\n",
       "      <td>0.492823</td>\n",
       "      <td>0.487243</td>\n",
       "      <td>0.516018</td>\n",
       "      <td>0.471244</td>\n",
       "      <td>0.491066</td>\n",
       "      <td>0.491759</td>\n",
       "    </tr>\n",
       "    <tr>\n",
       "      <th>202794570004_R02C01</th>\n",
       "      <td>0.495226</td>\n",
       "      <td>0.924121</td>\n",
       "      <td>0.915812</td>\n",
       "      <td>0.050866</td>\n",
       "      <td>0.688335</td>\n",
       "      <td>0.032344</td>\n",
       "      <td>0.113318</td>\n",
       "      <td>0.872094</td>\n",
       "      <td>0.969189</td>\n",
       "      <td>0.917076</td>\n",
       "      <td>...</td>\n",
       "      <td>0.499314</td>\n",
       "      <td>0.516132</td>\n",
       "      <td>0.487009</td>\n",
       "      <td>0.487146</td>\n",
       "      <td>0.469119</td>\n",
       "      <td>0.495125</td>\n",
       "      <td>0.548238</td>\n",
       "      <td>0.512283</td>\n",
       "      <td>0.514257</td>\n",
       "      <td>0.492520</td>\n",
       "    </tr>\n",
       "    <tr>\n",
       "      <th>203531420070_R05C02</th>\n",
       "      <td>0.183954</td>\n",
       "      <td>0.934332</td>\n",
       "      <td>0.924153</td>\n",
       "      <td>0.055032</td>\n",
       "      <td>0.717495</td>\n",
       "      <td>0.037108</td>\n",
       "      <td>0.098632</td>\n",
       "      <td>0.859614</td>\n",
       "      <td>0.973422</td>\n",
       "      <td>0.963446</td>\n",
       "      <td>...</td>\n",
       "      <td>0.501432</td>\n",
       "      <td>0.509412</td>\n",
       "      <td>0.485055</td>\n",
       "      <td>0.497272</td>\n",
       "      <td>0.480637</td>\n",
       "      <td>0.467502</td>\n",
       "      <td>0.494246</td>\n",
       "      <td>0.500924</td>\n",
       "      <td>0.531334</td>\n",
       "      <td>0.503709</td>\n",
       "    </tr>\n",
       "  </tbody>\n",
       "</table>\n",
       "<p>5 rows × 37554 columns</p>\n",
       "</div>"
      ],
      "text/plain": [
       "                     cg00000165  cg00001209  cg00001364  cg00001582  \\\n",
       "204509080002_R01C02    0.094879    0.916154    0.890314    0.053583   \n",
       "202897220142_R04C02    0.497077    0.441263    0.915314    0.047339   \n",
       "204529320092_R01C02    0.321141    0.834158    0.881194    0.056124   \n",
       "202794570004_R02C01    0.495226    0.924121    0.915812    0.050866   \n",
       "203531420070_R05C02    0.183954    0.934332    0.924153    0.055032   \n",
       "\n",
       "                     cg00002920  cg00003994  cg00004555  cg00005112  \\\n",
       "204509080002_R01C02    0.490381    0.034852    0.159705    0.763959   \n",
       "202897220142_R04C02    0.651029    0.037774    0.082634    0.415800   \n",
       "204529320092_R01C02    0.688350    0.030225    0.086776    0.777588   \n",
       "202794570004_R02C01    0.688335    0.032344    0.113318    0.872094   \n",
       "203531420070_R05C02    0.717495    0.037108    0.098632    0.859614   \n",
       "\n",
       "                     cg00005271  cg00006213  ...  rs7746156_II_F_C_37550  \\\n",
       "204509080002_R01C02    0.973245    0.928975  ...                0.488592   \n",
       "202897220142_R04C02    0.702857    0.821715  ...                0.508102   \n",
       "204529320092_R01C02    0.974587    0.923934  ...                0.520404   \n",
       "202794570004_R02C01    0.969189    0.917076  ...                0.499314   \n",
       "203531420070_R05C02    0.973422    0.963446  ...                0.501432   \n",
       "\n",
       "                     rs798149_II_F_C_37528  rs845016_II_F_C_37529  \\\n",
       "204509080002_R01C02               0.491361               0.480024   \n",
       "202897220142_R04C02               0.500299               0.507261   \n",
       "204529320092_R01C02               0.509568               0.507549   \n",
       "202794570004_R02C01               0.516132               0.487009   \n",
       "203531420070_R05C02               0.509412               0.485055   \n",
       "\n",
       "                     rs877309_II_F_C_37552  rs9292570_I_F_C_37499  \\\n",
       "204509080002_R01C02               0.500000               0.484252   \n",
       "202897220142_R04C02               0.490684               0.499673   \n",
       "204529320092_R01C02               0.501659               0.492823   \n",
       "202794570004_R02C01               0.487146               0.469119   \n",
       "203531420070_R05C02               0.497272               0.480637   \n",
       "\n",
       "                     rs9363764_II_F_C_37541  rs939290_II_F_C_37535  \\\n",
       "204509080002_R01C02                0.489448               0.505585   \n",
       "202897220142_R04C02                0.497256               0.564106   \n",
       "204529320092_R01C02                0.487243               0.516018   \n",
       "202794570004_R02C01                0.495125               0.548238   \n",
       "203531420070_R05C02                0.467502               0.494246   \n",
       "\n",
       "                     rs951295_I_F_C_37507  rs966367_II_F_C_37551  \\\n",
       "204509080002_R01C02              0.505335               0.485003   \n",
       "202897220142_R04C02              0.482151               0.486667   \n",
       "204529320092_R01C02              0.471244               0.491066   \n",
       "202794570004_R02C01              0.512283               0.514257   \n",
       "203531420070_R05C02              0.500924               0.531334   \n",
       "\n",
       "                     rs9839873_II_F_C_37532  \n",
       "204509080002_R01C02                0.510081  \n",
       "202897220142_R04C02                0.505236  \n",
       "204529320092_R01C02                0.491759  \n",
       "202794570004_R02C01                0.492520  \n",
       "203531420070_R05C02                0.503709  \n",
       "\n",
       "[5 rows x 37554 columns]"
      ]
     },
     "execution_count": 18,
     "metadata": {},
     "output_type": "execute_result"
    }
   ],
   "source": [
    "df.head()"
   ]
  },
  {
   "cell_type": "markdown",
   "id": "be02f82e-69b3-4534-88e2-5ee8851f9319",
   "metadata": {},
   "source": [
    "### Convert data to AnnData object"
   ]
  },
  {
   "cell_type": "markdown",
   "id": "3f7ddbab-c020-4a07-a95c-450f6f591e2f",
   "metadata": {},
   "source": [
    "AnnData objects are highly flexible and are thus our preferred method of organizing data for age prediction."
   ]
  },
  {
   "cell_type": "code",
   "execution_count": 19,
   "id": "6437e2df-a1f5-4d66-949c-e0fc706b574b",
   "metadata": {},
   "outputs": [
    {
     "name": "stdout",
     "output_type": "stream",
     "text": [
      "|-----> 🏗️ Starting df_to_adata function\n",
      "|-----> ⚙️ Create anndata object started\n",
      "|-----> ✅ Create anndata object finished [0.0014s]\n",
      "|-----> ⚙️ Add metadata to anndata started\n",
      "|-----------? No metadata provided. Leaving adata.obs empty\n",
      "|-----> ⚠️ Add metadata to anndata finished [0.0007s]\n",
      "|-----> ⚙️ Log data statistics started\n",
      "|-----------> There are 100 observations\n",
      "|-----------> There are 37554 features\n",
      "|-----------> Total missing values: 0\n",
      "|-----------> Percentage of missing values: 0.00%\n",
      "|-----> ✅ Log data statistics finished [0.0035s]\n",
      "|-----> ⚙️ Impute missing values started\n",
      "|-----------> No missing values found. No imputation necessary\n",
      "|-----> ✅ Impute missing values finished [0.0058s]\n",
      "|-----> ⚙️ Add unstructured data to anndata started\n",
      "|-----> ✅ Add unstructured data to anndata finished [0.0006s]\n",
      "|-----> 🎉 Done! [0.0157s]\n"
     ]
    }
   ],
   "source": [
    "adata = pya.pp.df_to_adata(df, imputer_strategy='mean')"
   ]
  },
  {
   "cell_type": "markdown",
   "id": "36b4dc99-1069-45da-a988-9493de817d99",
   "metadata": {},
   "source": [
    "This is what the `adata` object looks like:"
   ]
  },
  {
   "cell_type": "code",
   "execution_count": 20,
   "id": "e26459d3-276d-4cda-b3bf-a4147c397667",
   "metadata": {},
   "outputs": [
    {
     "data": {
      "text/plain": [
       "AnnData object with n_obs × n_vars = 100 × 37554\n",
       "    var: 'percent_na'\n",
       "    uns: 'imputer_strategy', 'data_type'"
      ]
     },
     "execution_count": 20,
     "metadata": {},
     "output_type": "execute_result"
    }
   ],
   "source": [
    "adata"
   ]
  },
  {
   "cell_type": "markdown",
   "id": "cc9c675d-6196-4274-b209-1487656acc9f",
   "metadata": {},
   "source": [
    "### Predict age"
   ]
  },
  {
   "cell_type": "markdown",
   "id": "90eb1122-ce2e-49ec-919b-c47bd85643dc",
   "metadata": {},
   "source": [
    "We can either predict one clock at once or all at the same time. For convenience, let's simply input all four available mammalian clocks at once. The function is invariant to the capitalization of the clock name."
   ]
  },
  {
   "cell_type": "code",
   "execution_count": 21,
   "id": "1e55a74c-4bbf-41a6-bbe3-0faf295ef33c",
   "metadata": {},
   "outputs": [
    {
     "name": "stdout",
     "output_type": "stream",
     "text": [
      "|-----> 🏗️ Starting predict_age function\n",
      "|-----> ⚙️ Set PyTorch device started\n",
      "|-----------> Using device: cpu\n",
      "|-----> ✅ Set PyTorch device finished [0.0008s]\n",
      "|-----> Processing clock: Mammalian1\n",
      "|-----------> ⚙️ Load clock started\n",
      "|-----------------> Data found in pyaging_data/mammalian1.pt\n",
      "|-----------> ✅ Load clock finished [0.0020s]\n",
      "|-----------> ⚙️ Check features in adata started\n",
      "|-----------------> All features are present in adata.var_names.\n",
      "|-----------> ✅ Check features in adata finished [0.0008s]\n",
      "|-----------> ⚙️ Filter features and extract data matrix started\n",
      "|-----------> ✅ Filter features and extract data matrix finished [0.0016s]\n",
      "|-----------> ⚙️ Convert numpy array to tensor started\n",
      "|-----------> ✅ Convert numpy array to tensor finished [0.0005s]\n",
      "|-----------> ⚙️ Initialize model started\n",
      "|-----------> ✅ Initialize model finished [0.0008s]\n",
      "|-----------> ⚙️ Predict ages with model started\n",
      "|-----------> ✅ Predict ages with model finished [0.0004s]\n",
      "|-----------> ⚙️ Convert tensor to numpy array started\n",
      "|-----------> ✅ Convert tensor to numpy array finished [0.0004s]\n",
      "|-----------> ⚙️ Postprocess data started\n",
      "|-----------------> Postprocessing data with function anti_logp2\n",
      "|-----------> ✅ Postprocess data finished [0.0007s]\n",
      "|-----------> ⚙️ Add predicted ages to adata started\n",
      "|-----------> ✅ Add predicted ages to adata finished [0.0005s]\n",
      "|-----------> ⚙️ Load all clock metadata started\n",
      "|-----------------> Data found in pyaging_data/all_clock_metadata.pt\n",
      "|-----------> ✅ Load all clock metadata finished [0.0009s]\n",
      "|-----------> ⚙️ Add clock metadata to adata.uns started\n",
      "|-----------> ✅ Add clock metadata to adata.uns finished [0.0003s]\n",
      "|-----> Processing clock: Mammalian2\n",
      "|-----------> ⚙️ Load clock started\n",
      "|-----------------> Data found in pyaging_data/mammalian2.pt\n",
      "|-----------> ✅ Load clock finished [0.0020s]\n",
      "|-----------> ⚙️ Check features in adata started\n",
      "|-----------------> All features are present in adata.var_names.\n",
      "|-----------> ✅ Check features in adata finished [0.0011s]\n",
      "|-----------> ⚙️ Filter features and extract data matrix started\n",
      "|-----------> ✅ Filter features and extract data matrix finished [0.0018s]\n",
      "|-----------> ⚙️ Convert numpy array to tensor started\n",
      "|-----------> ✅ Convert numpy array to tensor finished [0.0006s]\n",
      "|-----------> ⚙️ Initialize model started\n",
      "|-----------> ✅ Initialize model finished [0.0015s]\n",
      "|-----------> ⚙️ Predict ages with model started\n",
      "|-----------> ✅ Predict ages with model finished [0.0006s]\n",
      "|-----------> ⚙️ Convert tensor to numpy array started\n",
      "|-----------> ✅ Convert tensor to numpy array finished [0.0005s]\n",
      "|-----------> ⚙️ Postprocess data started\n",
      "|-----------------> Postprocessing data with function anti_log_log\n",
      "|-----------> ✅ Postprocess data finished [0.0008s]\n",
      "|-----------> ⚙️ Add predicted ages to adata started\n",
      "|-----------> ✅ Add predicted ages to adata finished [0.0016s]\n",
      "|-----------> ⚙️ Load all clock metadata started\n",
      "|-----------------> Data found in pyaging_data/all_clock_metadata.pt\n",
      "|-----------> ✅ Load all clock metadata finished [0.0026s]\n",
      "|-----------> ⚙️ Add clock metadata to adata.uns started\n",
      "|-----------> ✅ Add clock metadata to adata.uns finished [0.0010s]\n",
      "|-----> Processing clock: Mammalian3\n",
      "|-----------> ⚙️ Load clock started\n",
      "|-----------------> Data found in pyaging_data/mammalian3.pt\n",
      "|-----------> ✅ Load clock finished [0.0023s]\n",
      "|-----------> ⚙️ Check features in adata started\n",
      "|-----------------> All features are present in adata.var_names.\n",
      "|-----------> ✅ Check features in adata finished [0.0012s]\n",
      "|-----------> ⚙️ Filter features and extract data matrix started\n",
      "|-----------> ✅ Filter features and extract data matrix finished [0.0016s]\n",
      "|-----------> ⚙️ Convert numpy array to tensor started\n",
      "|-----------> ✅ Convert numpy array to tensor finished [0.0005s]\n",
      "|-----------> ⚙️ Initialize model started\n",
      "|-----------> ✅ Initialize model finished [0.0007s]\n",
      "|-----------> ⚙️ Predict ages with model started\n",
      "|-----------> ✅ Predict ages with model finished [0.0004s]\n",
      "|-----------> ⚙️ Convert tensor to numpy array started\n",
      "|-----------> ✅ Convert tensor to numpy array finished [0.0010s]\n",
      "|-----------> ⚙️ Add predicted ages to adata started\n",
      "|-----------> ✅ Add predicted ages to adata finished [0.0012s]\n",
      "|-----------> ⚙️ Load all clock metadata started\n",
      "|-----------------> Data found in pyaging_data/all_clock_metadata.pt\n",
      "|-----------> ✅ Load all clock metadata finished [0.0013s]\n",
      "|-----------> ⚙️ Add clock metadata to adata.uns started\n",
      "|-----------> ✅ Add clock metadata to adata.uns finished [0.0003s]\n",
      "|-----> Processing clock: MammalianLifespan\n",
      "|-----------> ⚙️ Load clock started\n",
      "|-----------------> Data found in pyaging_data/mammalianlifespan.pt\n",
      "|-----------> ✅ Load clock finished [0.0017s]\n",
      "|-----------> ⚙️ Check features in adata started\n",
      "|-----------------> All features are present in adata.var_names.\n",
      "|-----------> ✅ Check features in adata finished [0.0010s]\n",
      "|-----------> ⚙️ Filter features and extract data matrix started\n",
      "|-----------> ✅ Filter features and extract data matrix finished [0.0016s]\n",
      "|-----------> ⚙️ Convert numpy array to tensor started\n",
      "|-----------> ✅ Convert numpy array to tensor finished [0.0007s]\n",
      "|-----------> ⚙️ Initialize model started\n",
      "|-----------> ✅ Initialize model finished [0.0007s]\n",
      "|-----------> ⚙️ Predict ages with model started\n",
      "|-----------> ✅ Predict ages with model finished [0.0005s]\n",
      "|-----------> ⚙️ Convert tensor to numpy array started\n",
      "|-----------> ✅ Convert tensor to numpy array finished [0.0003s]\n",
      "|-----------> ⚙️ Postprocess data started\n",
      "|-----------------> Postprocessing data with function anti_log\n",
      "|-----------> ✅ Postprocess data finished [0.0006s]\n",
      "|-----------> ⚙️ Add predicted ages to adata started\n",
      "|-----------> ✅ Add predicted ages to adata finished [0.0006s]\n",
      "|-----------> ⚙️ Load all clock metadata started\n",
      "|-----------------> Data found in pyaging_data/all_clock_metadata.pt\n",
      "|-----------> ✅ Load all clock metadata finished [0.0012s]\n",
      "|-----------> ⚙️ Add clock metadata to adata.uns started\n",
      "|-----------> ✅ Add clock metadata to adata.uns finished [0.0005s]\n",
      "|-----> 🎉 Done! [0.0845s]\n"
     ]
    }
   ],
   "source": [
    "adata = pya.pred.predict_age(adata, ['Mammalian1', 'Mammalian2', 'Mammalian3', 'MammalianLifespan',])"
   ]
  },
  {
   "cell_type": "markdown",
   "id": "f3a3978e-06b8-4e45-8657-72eae6a555d2",
   "metadata": {},
   "source": [
    "Of note, Mammalian1 is age in units of years, Mammalian2 is the relative age (0 to 1), and Mammalian 3 is the log-linear transformed version of age (in order to get the age in years, one needs to know the \"adult_age\" of the species tested for the inverse transformation)."
   ]
  },
  {
   "cell_type": "code",
   "execution_count": 22,
   "id": "98fbdf4c-57c2-4885-bc4a-96b4771a638b",
   "metadata": {},
   "outputs": [
    {
     "data": {
      "text/html": [
       "<div>\n",
       "<style scoped>\n",
       "    .dataframe tbody tr th:only-of-type {\n",
       "        vertical-align: middle;\n",
       "    }\n",
       "\n",
       "    .dataframe tbody tr th {\n",
       "        vertical-align: top;\n",
       "    }\n",
       "\n",
       "    .dataframe thead th {\n",
       "        text-align: right;\n",
       "    }\n",
       "</style>\n",
       "<table border=\"1\" class=\"dataframe\">\n",
       "  <thead>\n",
       "    <tr style=\"text-align: right;\">\n",
       "      <th></th>\n",
       "      <th>mammalian1</th>\n",
       "      <th>mammalian2</th>\n",
       "      <th>mammalian3</th>\n",
       "      <th>mammalianlifespan</th>\n",
       "    </tr>\n",
       "  </thead>\n",
       "  <tbody>\n",
       "    <tr>\n",
       "      <th>204509080002_R01C02</th>\n",
       "      <td>26.372459</td>\n",
       "      <td>0.313471</td>\n",
       "      <td>0.250649</td>\n",
       "      <td>93.886052</td>\n",
       "    </tr>\n",
       "    <tr>\n",
       "      <th>202897220142_R04C02</th>\n",
       "      <td>1.176587</td>\n",
       "      <td>0.356768</td>\n",
       "      <td>1.384633</td>\n",
       "      <td>6.999166</td>\n",
       "    </tr>\n",
       "    <tr>\n",
       "      <th>204529320092_R01C02</th>\n",
       "      <td>18.776440</td>\n",
       "      <td>0.253814</td>\n",
       "      <td>-0.202201</td>\n",
       "      <td>73.335157</td>\n",
       "    </tr>\n",
       "    <tr>\n",
       "      <th>202794570004_R02C01</th>\n",
       "      <td>0.890974</td>\n",
       "      <td>0.320042</td>\n",
       "      <td>1.136358</td>\n",
       "      <td>5.332617</td>\n",
       "    </tr>\n",
       "    <tr>\n",
       "      <th>203531420070_R05C02</th>\n",
       "      <td>10.371320</td>\n",
       "      <td>0.142493</td>\n",
       "      <td>-0.559288</td>\n",
       "      <td>68.409359</td>\n",
       "    </tr>\n",
       "  </tbody>\n",
       "</table>\n",
       "</div>"
      ],
      "text/plain": [
       "                     mammalian1  mammalian2  mammalian3  mammalianlifespan\n",
       "204509080002_R01C02   26.372459    0.313471    0.250649          93.886052\n",
       "202897220142_R04C02    1.176587    0.356768    1.384633           6.999166\n",
       "204529320092_R01C02   18.776440    0.253814   -0.202201          73.335157\n",
       "202794570004_R02C01    0.890974    0.320042    1.136358           5.332617\n",
       "203531420070_R05C02   10.371320    0.142493   -0.559288          68.409359"
      ]
     },
     "execution_count": 22,
     "metadata": {},
     "output_type": "execute_result"
    }
   ],
   "source": [
    "adata.obs.head()"
   ]
  },
  {
   "cell_type": "markdown",
   "id": "9f6620b4-3a88-4cfd-9f4b-0cbc8047adf9",
   "metadata": {},
   "source": [
    "Having so much information printed can be overwhelming, particularly when running several clocks at once. In such cases, just set verbose to False."
   ]
  },
  {
   "cell_type": "code",
   "execution_count": 23,
   "id": "64035819-8dd0-4917-96ed-55c36ef34a66",
   "metadata": {},
   "outputs": [],
   "source": [
    "pya.data.download_example_data('GSE223748', verbose=False)\n",
    "df = pd.read_pickle('pyaging_data/GSE223748_subset.pkl')\n",
    "adata = pya.preprocess.df_to_adata(df, imputer_strategy='mean', verbose=False)\n",
    "adata = pya.pred.predict_age(adata, ['Mammalian1', 'Mammalian2', 'Mammalian3', 'MammalianLifespan',], verbose=False)"
   ]
  },
  {
   "cell_type": "code",
   "execution_count": 24,
   "id": "9414fe4c-a83a-4ac2-9dbb-a2a9d333af06",
   "metadata": {},
   "outputs": [
    {
     "data": {
      "text/html": [
       "<div>\n",
       "<style scoped>\n",
       "    .dataframe tbody tr th:only-of-type {\n",
       "        vertical-align: middle;\n",
       "    }\n",
       "\n",
       "    .dataframe tbody tr th {\n",
       "        vertical-align: top;\n",
       "    }\n",
       "\n",
       "    .dataframe thead th {\n",
       "        text-align: right;\n",
       "    }\n",
       "</style>\n",
       "<table border=\"1\" class=\"dataframe\">\n",
       "  <thead>\n",
       "    <tr style=\"text-align: right;\">\n",
       "      <th></th>\n",
       "      <th>mammalian1</th>\n",
       "      <th>mammalian2</th>\n",
       "      <th>mammalian3</th>\n",
       "      <th>mammalianlifespan</th>\n",
       "    </tr>\n",
       "  </thead>\n",
       "  <tbody>\n",
       "    <tr>\n",
       "      <th>204509080002_R01C02</th>\n",
       "      <td>26.372459</td>\n",
       "      <td>0.313471</td>\n",
       "      <td>0.250649</td>\n",
       "      <td>93.886052</td>\n",
       "    </tr>\n",
       "    <tr>\n",
       "      <th>202897220142_R04C02</th>\n",
       "      <td>1.176587</td>\n",
       "      <td>0.356768</td>\n",
       "      <td>1.384633</td>\n",
       "      <td>6.999166</td>\n",
       "    </tr>\n",
       "    <tr>\n",
       "      <th>204529320092_R01C02</th>\n",
       "      <td>18.776440</td>\n",
       "      <td>0.253814</td>\n",
       "      <td>-0.202201</td>\n",
       "      <td>73.335157</td>\n",
       "    </tr>\n",
       "    <tr>\n",
       "      <th>202794570004_R02C01</th>\n",
       "      <td>0.890974</td>\n",
       "      <td>0.320042</td>\n",
       "      <td>1.136358</td>\n",
       "      <td>5.332617</td>\n",
       "    </tr>\n",
       "    <tr>\n",
       "      <th>203531420070_R05C02</th>\n",
       "      <td>10.371320</td>\n",
       "      <td>0.142493</td>\n",
       "      <td>-0.559288</td>\n",
       "      <td>68.409359</td>\n",
       "    </tr>\n",
       "  </tbody>\n",
       "</table>\n",
       "</div>"
      ],
      "text/plain": [
       "                     mammalian1  mammalian2  mammalian3  mammalianlifespan\n",
       "204509080002_R01C02   26.372459    0.313471    0.250649          93.886052\n",
       "202897220142_R04C02    1.176587    0.356768    1.384633           6.999166\n",
       "204529320092_R01C02   18.776440    0.253814   -0.202201          73.335157\n",
       "202794570004_R02C01    0.890974    0.320042    1.136358           5.332617\n",
       "203531420070_R05C02   10.371320    0.142493   -0.559288          68.409359"
      ]
     },
     "execution_count": 24,
     "metadata": {},
     "output_type": "execute_result"
    }
   ],
   "source": [
    "adata.obs.head()"
   ]
  },
  {
   "cell_type": "markdown",
   "id": "b5d3a683-2ff4-436b-9a90-34a138a98a14",
   "metadata": {},
   "source": [
    "After age prediction, the clocks are added to `adata.obs`. Moreover, the percent of missing values for each clock and other metadata are included in `adata.uns`."
   ]
  },
  {
   "cell_type": "code",
   "execution_count": 25,
   "id": "0d069189-1750-42f6-89d9-73039dd07a00",
   "metadata": {},
   "outputs": [
    {
     "data": {
      "text/plain": [
       "AnnData object with n_obs × n_vars = 100 × 37554\n",
       "    obs: 'mammalian1', 'mammalian2', 'mammalian3', 'mammalianlifespan'\n",
       "    var: 'percent_na'\n",
       "    uns: 'imputer_strategy', 'data_type', 'mammalian1_metadata', 'mammalian2_metadata', 'mammalian3_metadata', 'mammalianlifespan_metadata'"
      ]
     },
     "execution_count": 25,
     "metadata": {},
     "output_type": "execute_result"
    }
   ],
   "source": [
    "adata"
   ]
  },
  {
   "cell_type": "markdown",
   "id": "61ad69dd-9e91-447a-80f9-95647a19a082",
   "metadata": {},
   "source": [
    "### Get citation"
   ]
  },
  {
   "cell_type": "markdown",
   "id": "f2fd36d5-c059-4680-b300-f8e9344186cd",
   "metadata": {},
   "source": [
    "The doi, citation, and some metadata are automatically added to the AnnData object under `adata.uns[CLOCKNAME_metadata]`."
   ]
  },
  {
   "cell_type": "code",
   "execution_count": 26,
   "id": "300b40ad-68e7-49b3-a7f8-66c64436c80f",
   "metadata": {},
   "outputs": [
    {
     "data": {
      "text/plain": [
       "{'species': 'multi',\n",
       " 'data_type': 'methylation',\n",
       " 'year': 2023,\n",
       " 'citation': 'Lu, A. T., et al. \"Universal DNA methylation age across mammalian tissues.\" Nature aging 3.9 (2023): 1144-1166.',\n",
       " 'doi': 'https://doi.org/10.1038/s43587-023-00462-6'}"
      ]
     },
     "execution_count": 26,
     "metadata": {},
     "output_type": "execute_result"
    }
   ],
   "source": [
    "adata.uns['mammalian1_metadata']"
   ]
  }
 ],
 "metadata": {
  "kernelspec": {
   "display_name": "Python 3",
   "language": "python",
   "name": "python3"
  },
  "language_info": {
   "codemirror_mode": {
    "name": "ipython",
    "version": 3
   },
   "file_extension": ".py",
   "mimetype": "text/x-python",
   "name": "python",
   "nbconvert_exporter": "python",
   "pygments_lexer": "ipython3",
   "version": "3.9.17"
  }
 },
 "nbformat": 4,
 "nbformat_minor": 5
}
