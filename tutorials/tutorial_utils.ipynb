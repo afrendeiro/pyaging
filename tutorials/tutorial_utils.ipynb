{
 "cells": [
  {
   "cell_type": "markdown",
   "id": "c5aac698-f7ed-4489-8c6c-f75ec3f3df73",
   "metadata": {},
   "source": [
    "# Search, cite, and get metadata"
   ]
  },
  {
   "cell_type": "markdown",
   "id": "9d132efc-15f4-4b4d-bdd7-c1aa21f7d13e",
   "metadata": {},
   "source": [
    "This tutorial shows the use of some *pyaging* helper functions."
   ]
  },
  {
   "cell_type": "code",
   "execution_count": 1,
   "id": "445d6e41-c30f-4cbc-b5b3-97dc1020f09e",
   "metadata": {},
   "outputs": [],
   "source": [
    "import pyaging as pya"
   ]
  },
  {
   "cell_type": "markdown",
   "id": "72174a28-ddef-4ab1-ad7b-7c306920df23",
   "metadata": {},
   "source": [
    "## Search"
   ]
  },
  {
   "cell_type": "markdown",
   "id": "aac87908-def9-40d9-a2cc-ffb34fae2dc5",
   "metadata": {},
   "source": [
    "There are two main ways to search for a clock in *pyaging*. The first is through the doi of the paper in which the clock was developed."
   ]
  },
  {
   "cell_type": "code",
   "execution_count": 2,
   "id": "895dcb1b-20db-4d91-aebf-bbdc4af14ab7",
   "metadata": {},
   "outputs": [
    {
     "name": "stdout",
     "output_type": "stream",
     "text": [
      "|-----> 🏗️ Starting find_clock_by_doi function\n",
      "|-----> ⚙️ Load all clock metadata started\n",
      "|-----------> Data found in ./pyaging_data/all_clock_metadata.pt\n",
      "|-----> ✅ Load all clock metadata finished [0.0009s]\n",
      "|-----> ⚙️ Searching for clock based on DOI started\n",
      "|-----------> in progress: 100.0000%\n",
      "|-----------> Clocks with DOI https://doi.org/10.1038/s43587-022-00248-2: pchorvath2013, pcphenoage, pcgrimage, pchannum, pcdnamtl, pcskinandblood\n",
      "|-----> ✅ Searching for clock based on DOI finished [0.0047s]\n",
      "|-----> 🎉 Done! [0.0209s]\n"
     ]
    }
   ],
   "source": [
    "pya.utils.find_clock_by_doi('https://doi.org/10.1038/s43587-022-00248-2')"
   ]
  },
  {
   "cell_type": "markdown",
   "id": "125e90ad-25f5-46e2-a2ad-0f87c6729ea9",
   "metadata": {},
   "source": [
    "The second way is by simply showing the names of all the clocks that are available."
   ]
  },
  {
   "cell_type": "code",
   "execution_count": 4,
   "id": "13b14cee-d51b-49f1-b7c0-4d03dd53a278",
   "metadata": {},
   "outputs": [
    {
     "name": "stdout",
     "output_type": "stream",
     "text": [
      "|-----> 🏗️ Starting show_all_clocks function\n",
      "|-----> ⚙️ Load all clock metadata started\n",
      "|-----------> Data found in ./pyaging_data/all_clock_metadata.pt\n",
      "|-----> ✅ Load all clock metadata finished [0.0017s]\n",
      "|-----> ⚙️ Showing all available clock names started\n",
      "|-----------> horvath2013\n",
      "|-----------> h3k36me3\n",
      "|-----------> panhistone\n",
      "|-----------> ocampoatac2\n",
      "|-----------> h3k4me1\n",
      "|-----------> h3k27ac\n",
      "|-----------> mammalian1\n",
      "|-----------> pchorvath2013\n",
      "|-----------> replitali\n",
      "|-----------> h3k9me3\n",
      "|-----------> pcphenoage\n",
      "|-----------> skinandblood\n",
      "|-----------> pcgrimage\n",
      "|-----------> pchannum\n",
      "|-----------> mammalianlifespan\n",
      "|-----------> pcdnamtl\n",
      "|-----------> pedbe\n",
      "|-----------> dunedinpace\n",
      "|-----------> bitage\n",
      "|-----------> dnamtl\n",
      "|-----------> ocampoatac1\n",
      "|-----------> h3k9ac\n",
      "|-----------> h3k27me3\n",
      "|-----------> mammalian2\n",
      "|-----------> altumage\n",
      "|-----------> h3k4me3\n",
      "|-----------> phenoage\n",
      "|-----------> pcskinandblood\n",
      "|-----------> mammalian3\n",
      "|-----------> hannum\n",
      "|-----> ✅ Showing all available clock names finished [0.0024s]\n",
      "|-----> 🎉 Done! [0.0120s]\n"
     ]
    }
   ],
   "source": [
    "pya.utils.show_all_clocks()"
   ]
  },
  {
   "cell_type": "markdown",
   "id": "6e579e9f-073d-4a26-9bd6-271068ac8601",
   "metadata": {},
   "source": [
    "## Cite"
   ]
  },
  {
   "cell_type": "markdown",
   "id": "fb15a3ba-4dd1-4526-ab45-732979fcd676",
   "metadata": {},
   "source": [
    "*pyaging* also provides citations for all available clocks."
   ]
  },
  {
   "cell_type": "code",
   "execution_count": 3,
   "id": "3a14445f-3f19-415c-a768-4cd9d7c193fa",
   "metadata": {},
   "outputs": [
    {
     "name": "stdout",
     "output_type": "stream",
     "text": [
      "|-----> 🏗️ Starting cite_clock function\n",
      "|-----> ⚙️ Load all clock metadata started\n",
      "|-----------> Data found in ./pyaging_data/all_clock_metadata.pt\n",
      "|-----> ✅ Load all clock metadata finished [0.0010s]\n",
      "|-----> ⚙️ Searching for citation of clock pchorvath2013 started\n",
      "|-----------> Citation for pchorvath2013:\n",
      "|-----------> Higgins-Chen, Albert T., et al. \"A computational solution for bolstering reliability of epigenetic clocks: Implications for clinical trials and longitudinal tracking.\" Nature aging 2.7 (2022): 644-661.\n",
      "|-----> ✅ Searching for citation of clock pchorvath2013 finished [0.0018s]\n",
      "|-----> 🎉 Done! [0.0040s]\n"
     ]
    }
   ],
   "source": [
    "pya.utils.cite_clock('PCHorvath2013')"
   ]
  },
  {
   "cell_type": "markdown",
   "id": "9838c1b6-47a6-44a4-8b3e-8c5e760c6172",
   "metadata": {},
   "source": [
    "## Get metadata"
   ]
  },
  {
   "cell_type": "markdown",
   "id": "99fc2253-7f33-479f-b946-97d0f77c6d19",
   "metadata": {},
   "source": [
    "To get all of the metadata for a clock, including citation and doi, just run the following."
   ]
  },
  {
   "cell_type": "code",
   "execution_count": 5,
   "id": "f822e4bb-88e7-4809-808f-701185c1e5ed",
   "metadata": {},
   "outputs": [
    {
     "name": "stdout",
     "output_type": "stream",
     "text": [
      "|-----> 🏗️ Starting get_clock_metadata function\n",
      "|-----> ⚙️ Load all clock metadata started\n",
      "|-----------> Data found in ./pyaging_data/all_clock_metadata.pt\n",
      "|-----> ✅ Load all clock metadata finished [0.0015s]\n",
      "|-----> ⚙️ Showing pchorvath2013 metadata started\n",
      "|-----------> species: Homo sapiens\n",
      "|-----------> data_type: methylation\n",
      "|-----------> year: 2022\n",
      "|-----------> citation: Higgins-Chen, Albert T., et al. \"A computational solution for bolstering reliability of epigenetic clocks: Implications for clinical trials and longitudinal tracking.\" Nature aging 2.7 (2022): 644-661.\n",
      "|-----------> doi: https://doi.org/10.1038/s43587-022-00248-2\n",
      "|-----> ✅ Showing pchorvath2013 metadata finished [0.0037s]\n",
      "|-----> 🎉 Done! [0.0101s]\n"
     ]
    }
   ],
   "source": [
    "pya.utils.get_clock_metadata('PCHorvath2013')"
   ]
  }
 ],
 "metadata": {
  "kernelspec": {
   "display_name": "Python 3 (ipykernel)",
   "language": "python",
   "name": "python3"
  },
  "language_info": {
   "codemirror_mode": {
    "name": "ipython",
    "version": 3
   },
   "file_extension": ".py",
   "mimetype": "text/x-python",
   "name": "python",
   "nbconvert_exporter": "python",
   "pygments_lexer": "ipython3",
   "version": "3.9.17"
  }
 },
 "nbformat": 4,
 "nbformat_minor": 5
}
