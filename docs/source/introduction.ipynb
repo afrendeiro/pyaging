{
 "cells": [
  {
   "cell_type": "markdown",
   "id": "020a01cb-812a-476c-896c-4857498f5561",
   "metadata": {},
   "source": [
    "# Introduction"
   ]
  },
  {
   "cell_type": "markdown",
   "id": "6e2bfb2e-2ecc-4bd6-9d82-ca7082b4fb84",
   "metadata": {},
   "source": [
    "Test"
   ]
  }
 ],
 "metadata": {
  "kernelspec": {
   "display_name": "Python 3 (ipykernel)",
   "language": "python",
   "name": "python3"
  },
  "language_info": {
   "codemirror_mode": {
    "name": "ipython",
    "version": 3
   },
   "file_extension": ".py",
   "mimetype": "text/x-python",
   "name": "python",
   "nbconvert_exporter": "python",
   "pygments_lexer": "ipython3",
   "version": "3.9.17"
  }
 },
 "nbformat": 4,
 "nbformat_minor": 5
}
