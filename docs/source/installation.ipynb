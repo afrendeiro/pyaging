{
 "cells": [
  {
   "cell_type": "markdown",
   "id": "020a01cb-812a-476c-896c-4857498f5561",
   "metadata": {},
   "source": [
    "# Installation"
   ]
  },
  {
   "cell_type": "markdown",
   "id": "6e2bfb2e-2ecc-4bd6-9d82-ca7082b4fb84",
   "metadata": {},
   "source": [
    "pyaging requires Python 3.9 or later."
   ]
  },
  {
   "cell_type": "markdown",
   "id": "b82edb32-647d-49c6-b216-018b34744453",
   "metadata": {},
   "source": [
    "pyaging now has been released to PyPi and can easily be installed via:"
   ]
  },
  {
   "cell_type": "markdown",
   "id": "92d08cb5-377e-4a6b-9ebf-2e82c983c455",
   "metadata": {},
   "source": [
    "```\n",
    "pip install pyaging\n",
    "```"
   ]
  },
  {
   "cell_type": "markdown",
   "id": "23954d4a-b918-415c-a585-d5ad8f219040",
   "metadata": {},
   "source": [
    "Alternatively, it can be installed by cloning our GitHub repository and using pip:\n",
    "\n",
    "```\n",
    "git clone https://github.com/rsinghlab/pyaging.git\n",
    "pip install pyaging/ --user\n",
    "```"
   ]
  },
  {
   "cell_type": "markdown",
   "id": "8c69fedf-f4a1-4ca2-8b2b-7bce6ddc4a66",
   "metadata": {},
   "source": [
    "Or by simply going to the cloned repository and running setup.py:\n",
    "\n",
    "```\n",
    "git clone https://github.com/rsinghlab/pyaging.git\n",
    "cd pyaging/\n",
    "python setup.py install --user\n",
    "```"
   ]
  },
  {
   "cell_type": "markdown",
   "id": "fec697c0-909c-476c-aad4-04178dc4d43a",
   "metadata": {},
   "source": [
    "Lastly, it can be installed from source:\n",
    "\n",
    "```\n",
    "pip install git+https://github.com/rsinghlab/pyaging\n",
    "```"
   ]
  }
 ],
 "metadata": {
  "kernelspec": {
   "display_name": "Python 3 (ipykernel)",
   "language": "python",
   "name": "python3"
  },
  "language_info": {
   "codemirror_mode": {
    "name": "ipython",
    "version": 3
   },
   "file_extension": ".py",
   "mimetype": "text/x-python",
   "name": "python",
   "nbconvert_exporter": "python",
   "pygments_lexer": "ipython3",
   "version": "3.9.17"
  }
 },
 "nbformat": 4,
 "nbformat_minor": 5
}
