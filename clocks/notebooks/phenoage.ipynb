{
 "cells": [
  {
   "cell_type": "code",
   "execution_count": 1,
   "id": "fb157849-5454-4a60-8548-fff633fff764",
   "metadata": {},
   "outputs": [],
   "source": [
    "import torch\n",
    "import pandas as pd\n",
    "import pyaging as pya\n",
    "import os"
   ]
  },
  {
   "cell_type": "code",
   "execution_count": 2,
   "id": "a284fe99-dc47-4f0c-b2ff-274e136e7020",
   "metadata": {},
   "outputs": [],
   "source": [
    "features = [\n",
    "    \"albumin\",\n",
    "    \"creatinine\",\n",
    "    \"glucose\",\n",
    "    \"log_crp\",\n",
    "    \"lymphocyte_percent\",\n",
    "    \"mean_cell_volume\",\n",
    "    \"red_cell_distribution_width\",\n",
    "    \"alkaline_phosphatase\",\n",
    "    \"white_blood_cell_count\",\n",
    "    \"age\"\n",
    "]\n",
    "\n",
    "coefs = [\n",
    "    -0.0336,\n",
    "    0.0095,\n",
    "    0.1953,\n",
    "    0.0954,\n",
    "    -0.0120,\n",
    "    0.0268,\n",
    "    0.3306,\n",
    "    0.0019,\n",
    "    0.0554,\n",
    "    0.0804,\n",
    "]\n",
    "\n",
    "weights = torch.tensor(coefs).unsqueeze(0)\n",
    "intercept = torch.tensor([-19.9067])"
   ]
  },
  {
   "cell_type": "code",
   "execution_count": 3,
   "id": "7b4c3f6b-72af-4e99-84c4-65b8ef58c91d",
   "metadata": {},
   "outputs": [
    {
     "data": {
      "text/plain": [
       "LinearModel(\n",
       "  (linear): Linear(in_features=10, out_features=1, bias=True)\n",
       ")"
      ]
     },
     "execution_count": 3,
     "metadata": {},
     "output_type": "execute_result"
    }
   ],
   "source": [
    "model = pya.models.LinearModel(len(features))\n",
    "\n",
    "model.linear.weight.data = weights\n",
    "model.linear.bias.data = intercept\n",
    "\n",
    "model"
   ]
  },
  {
   "cell_type": "code",
   "execution_count": 4,
   "id": "3b61b269-6dec-47ed-b2bd-da634113dba2",
   "metadata": {},
   "outputs": [],
   "source": [
    "weights_dict = {\n",
    "    'preprocessing': None, \n",
    "    'preprocessing_helper': None,\n",
    "    'postprocessing': 'mortality_to_phenoage',\n",
    "    'postprocessing_helper': None,\n",
    "    'features': features,\n",
    "    'weight_dict': model.state_dict(),\n",
    "}\n",
    "\n",
    "metadata_dict = {\n",
    "    'species': 'Homo sapiens',\n",
    "    'data_type': 'blood chemistry',\n",
    "    'year': 2018,\n",
    "    'implementation_approved_by_author(s)': '⌛',\n",
    "    'preprocessing': weights_dict['preprocessing'], \n",
    "    'postprocessing': weights_dict['postprocessing'], \n",
    "    'citation': \"Levine, Morgan E., et al. \\\"An epigenetic biomarker of aging for lifespan and healthspan.\\\" Aging (albany NY) 10.4 (2018): 573.\",\n",
    "    'doi': \"https://doi.org/10.18632%2Faging.101414\",\n",
    "    \"notes\": \"To check the units for each of the features, please go to the paper in Table 1.\",\n",
    "}"
   ]
  },
  {
   "cell_type": "code",
   "execution_count": 6,
   "id": "34136f3c-92b8-4641-a103-381d3a7dd857",
   "metadata": {},
   "outputs": [],
   "source": [
    "torch.save(weights_dict, '../weights/phenoage.pt')\n",
    "torch.save(metadata_dict, '../metadata/phenoage.pt')"
   ]
  },
  {
   "cell_type": "code",
   "execution_count": null,
   "id": "e03fd6cf-c989-4017-b759-8659ea0d0f4e",
   "metadata": {},
   "outputs": [],
   "source": []
  }
 ],
 "metadata": {
  "kernelspec": {
   "display_name": "Python 3",
   "language": "python",
   "name": "python3"
  },
  "language_info": {
   "codemirror_mode": {
    "name": "ipython",
    "version": 3
   },
   "file_extension": ".py",
   "mimetype": "text/x-python",
   "name": "python",
   "nbconvert_exporter": "python",
   "pygments_lexer": "ipython3",
   "version": "3.9.17"
  }
 },
 "nbformat": 4,
 "nbformat_minor": 5
}
