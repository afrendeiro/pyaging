{
 "cells": [
  {
   "cell_type": "code",
   "execution_count": 10,
   "id": "fb157849-5454-4a60-8548-fff633fff764",
   "metadata": {},
   "outputs": [],
   "source": [
    "import torch\n",
    "import pandas as pd\n",
    "import pyaging as pya\n",
    "import os"
   ]
  },
  {
   "cell_type": "code",
   "execution_count": 11,
   "id": "d02e0389-4ab1-484b-8337-c051dd62225b",
   "metadata": {},
   "outputs": [],
   "source": [
    "# from https://www.aging-us.com/article/100908/text supplement\n",
    "cpg_sites = [\n",
    "    \"(Intercept)\", \"cg05228408\", \"cg16352283\", \"cg05436231\", \"cg19046959\", \n",
    "    \"cg17791651\", \"cg07388493\", \"cg04036898\", \"cg07810156\", \"cg21448423\", \n",
    "    \"cg18660898\", \"cg25256723\", \"cg21870884\", \"cg25947945\", \"cg09462576\", \n",
    "    \"cg09809672\", \"cg27553955\", \"cg27320127\", \"cg15297650\", \"cg05331214\", \n",
    "    \"cg24178740\", \"cg18182399\", \"cg25431974\", \"cg24768561\", \"cg26614073\", \n",
    "    \"cg23320649\", \"cg12554573\", \"cg04474832\", \"cg17421623\", \"cg22919728\", \n",
    "    \"cg14456683\", \"cg08209133\", \"cg16744741\", \"cg00059225\", \"cg00489401\", \n",
    "    \"cg02844545\", \"cg22736354\", \"cg06493994\", \"cg03340878\", \"cg03958979\", \n",
    "    \"cg15804973\", \"cg13870866\", \"cg00503840\", \"cg25762706\", \"cg25538571\", \n",
    "    \"cg08598221\", \"cg19724470\", \"cg07211259\", \"cg13870494\", \"cg16386080\", \n",
    "    \"cg00563932\", \"cg21120249\", \"cg26581729\", \"cg17431739\", \"cg13129046\", \n",
    "    \"cg01560871\", \"cg06291867\", \"cg26610808\", \"cg07621046\", \"cg13807496\", \n",
    "    \"cg20654468\", \"cg21992250\", \"cg15538427\", \"cg08012287\", \"cg01820374\", \n",
    "    \"cg19722847\", \"cg12883767\", \"cg04123409\", \"cg22580512\", \"cg25268718\", \n",
    "    \"cg21296230\", \"cg21801378\", \"cg10917602\", \"cg15195412\", \"cg20264732\", \n",
    "    \"cg22947000\", \"cg02228185\", \"cg01739167\", \"cg14918082\", \"cg05379350\", \n",
    "    \"cg08468689\", \"cg08090640\", \"cg25809905\", \"cg05294455\", \"cg06638433\", \n",
    "    \"cg20366832\", \"cg19761273\", \"cg26927807\", \"cg17471102\", \"cg02489552\", \n",
    "    \"cg05488632\", \"cg16363586\", \"cg17861230\", \"cg24713204\", \"cg23679724\", \n",
    "    \"cg03224418\", \"cg15379633\", \"cg02994956\", \"cg23124451\", \"cg26394940\"\n",
    "]\n",
    "coefficients = [\n",
    "    12.2169841, 0.47636173, -5.3124138, 17.7305146, -13.367066, 8.72680959, -4.7759575, \n",
    "    10.162153, 15.3892025, -4.4621797, 13.2543665, -11.802998, 22.9981412, -8.2387336, \n",
    "    6.3124836, -14.950409, -0.7884001, 48.9368049, -34.306553, 9.83640629, -27.476107, \n",
    "    -4.1527608, -1.048605, -4.5917403, -11.443446, 8.70555476, 1.81880164, -26.556597, \n",
    "    2.4399993, 0.99214006, 13.1457167, 30.500322, -9.5846721, 36.8195086, 1.98682848, \n",
    "    0.38022482, 36.9317174, 66.1611861, 5.95485236, -16.016804, -15.214138, -39.104364, \n",
    "    31.2113275, 1.5340163, 10.2956593, 2.62080161, -5.5537073, -12.424324, 19.7417678, \n",
    "    -29.24993, -3.5009711, -8.6074197, -7.9914389, 8.22589722, -5.1368284, 13.5034883, \n",
    "    13.0769424, -21.374356, 13.6468199, -8.3931276, 8.14605552, 10.5216611, -19.93487, \n",
    "    -18.989957, -30.896866, -13.06341, 8.45912249, -10.767354, -0.8383178, 4.06576438, \n",
    "    28.1787443, 44.7163476, -6.0293979, 20.050343, -20.618882, -13.217155, -8.6363427, \n",
    "    33.8101434, 15.5554908, 17.340667, -16.062905, 8.31318309, -6.0974732, 2.71073045, \n",
    "    10.6229217, 2.97899616, -16.331359, 16.5195276, -18.063487, 6.09699424, -11.249025, \n",
    "    13.6452671, 17.5027126, -32.487323, 0.25793126, 8.07556639, 15.4139903, -6.4516149, \n",
    "    -13.361462, 0.89292205\n",
    "]\n"
   ]
  },
  {
   "cell_type": "code",
   "execution_count": 12,
   "id": "05780275-f013-4a52-a227-3913fe260743",
   "metadata": {},
   "outputs": [],
   "source": [
    "df = pd.DataFrame({\n",
    "    'feature': cpg_sites,\n",
    "    'coefficient': coefficients\n",
    "})"
   ]
  },
  {
   "cell_type": "code",
   "execution_count": 13,
   "id": "a284fe99-dc47-4f0c-b2ff-274e136e7020",
   "metadata": {},
   "outputs": [],
   "source": [
    "features = df['feature'][1:].tolist()\n",
    "\n",
    "weights = torch.tensor(df['coefficient'][1:].tolist()).unsqueeze(0)\n",
    "intercept = torch.tensor([df['coefficient'][0]])"
   ]
  },
  {
   "cell_type": "code",
   "execution_count": 14,
   "id": "7b4c3f6b-72af-4e99-84c4-65b8ef58c91d",
   "metadata": {},
   "outputs": [
    {
     "data": {
      "text/plain": [
       "LinearModel(\n",
       "  (linear): Linear(in_features=99, out_features=1, bias=True)\n",
       ")"
      ]
     },
     "execution_count": 14,
     "metadata": {},
     "output_type": "execute_result"
    }
   ],
   "source": [
    "model = pya.models.LinearModel(len(features))\n",
    "\n",
    "model.linear.weight.data = weights\n",
    "model.linear.bias.data = intercept\n",
    "\n",
    "model"
   ]
  },
  {
   "cell_type": "code",
   "execution_count": 15,
   "id": "b38f8af2-3d94-4a45-90b9-30b227828da1",
   "metadata": {},
   "outputs": [],
   "source": [
    "weights_dict = {\n",
    "    'preprocessing': None, \n",
    "    'preprocessing_helper': None,\n",
    "    'postprocessing': None,\n",
    "    'postprocessing_helper': None,\n",
    "    'features': features,\n",
    "    'weight_dict': model.state_dict(),\n",
    "    'model_class': 'LinearModel',\n",
    "}\n",
    "\n",
    "metadata_dict = {\n",
    "    'species': 'Homo sapiens',\n",
    "    'data_type': 'methylation',\n",
    "    'year': 2016,\n",
    "    'implementation_approved_by_author(s)': '⌛',\n",
    "    'preprocessing': weights_dict['preprocessing'], \n",
    "    'postprocessing': weights_dict['postprocessing'], \n",
    "    'citation': \"Lin, Qiong, et al. \\\"DNA methylation levels at individual age-associated CpG sites can be indicative for life expectancy.\\\" Aging (Albany NY) 8.2 (2016): 394.\",\n",
    "    'doi': \"https://doi.org/10.18632/aging.100908\",\n",
    "    \"notes\": None,\n",
    "}"
   ]
  },
  {
   "cell_type": "code",
   "execution_count": 16,
   "id": "34136f3c-92b8-4641-a103-381d3a7dd857",
   "metadata": {},
   "outputs": [],
   "source": [
    "torch.save(weights_dict, '../weights/lin.pt')\n",
    "torch.save(metadata_dict, '../metadata/lin.pt')"
   ]
  }
 ],
 "metadata": {
  "kernelspec": {
   "display_name": "Python 3",
   "language": "python",
   "name": "python3"
  },
  "language_info": {
   "codemirror_mode": {
    "name": "ipython",
    "version": 3
   },
   "file_extension": ".py",
   "mimetype": "text/x-python",
   "name": "python",
   "nbconvert_exporter": "python",
   "pygments_lexer": "ipython3",
   "version": "3.9.17"
  }
 },
 "nbformat": 4,
 "nbformat_minor": 5
}
