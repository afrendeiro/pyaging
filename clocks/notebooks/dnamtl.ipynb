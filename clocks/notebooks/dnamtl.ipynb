{
 "cells": [
  {
   "cell_type": "code",
   "execution_count": 1,
   "id": "fb157849-5454-4a60-8548-fff633fff764",
   "metadata": {},
   "outputs": [],
   "source": [
    "import torch\n",
    "import pandas as pd\n",
    "import pyaging as pya\n",
    "import os"
   ]
  },
  {
   "cell_type": "code",
   "execution_count": 2,
   "id": "46c6fc26-9a6b-4027-bd01-601b70eb401a",
   "metadata": {},
   "outputs": [
    {
     "name": "stderr",
     "output_type": "stream",
     "text": [
      "  % Total    % Received % Xferd  Average Speed   Time    Time     Time  Current\n",
      "                                 Dload  Upload   Total   Spent    Left  Speed\n",
      "100 30076  100 30076    0     0  67434      0 --:--:-- --:--:-- --:--:-- 67586\n"
     ]
    },
    {
     "data": {
      "text/plain": [
       "0"
      ]
     },
     "execution_count": 2,
     "metadata": {},
     "output_type": "execute_result"
    }
   ],
   "source": [
    "os.system(\"curl -L -o coefficients.xlsx https://www.aging-us.com/article/102173/supplementary/SD7/0/aging-v11i16-102173-supplementary-material-SD7.xlsx\")"
   ]
  },
  {
   "cell_type": "code",
   "execution_count": 3,
   "id": "b9f484b1-f501-41b7-9565-82e03bfe97dc",
   "metadata": {},
   "outputs": [],
   "source": [
    "df = pd.read_excel('coefficients.xlsx', skiprows=5)\n",
    "\n",
    "df['feature'] = df['Variable']\n",
    "df['coefficient'] = df['Coefficient']"
   ]
  },
  {
   "cell_type": "code",
   "execution_count": 4,
   "id": "a284fe99-dc47-4f0c-b2ff-274e136e7020",
   "metadata": {},
   "outputs": [],
   "source": [
    "features = df['feature'][1:].tolist()\n",
    "\n",
    "weights = torch.tensor(df['coefficient'][1:].tolist()).unsqueeze(0)\n",
    "intercept = torch.tensor([df['coefficient'][0]])"
   ]
  },
  {
   "cell_type": "code",
   "execution_count": 5,
   "id": "7b4c3f6b-72af-4e99-84c4-65b8ef58c91d",
   "metadata": {},
   "outputs": [
    {
     "data": {
      "text/plain": [
       "LinearModel(\n",
       "  (linear): Linear(in_features=140, out_features=1, bias=True)\n",
       ")"
      ]
     },
     "execution_count": 5,
     "metadata": {},
     "output_type": "execute_result"
    }
   ],
   "source": [
    "model = pya.models.LinearModel(len(features))\n",
    "\n",
    "model.linear.weight.data = weights\n",
    "model.linear.bias.data = intercept\n",
    "\n",
    "model"
   ]
  },
  {
   "cell_type": "code",
   "execution_count": 6,
   "id": "b87390e8-d3bd-489c-a6d0-75e66df1270f",
   "metadata": {},
   "outputs": [],
   "source": [
    "weights_dict = {\n",
    "    'preprocessing': None, \n",
    "    'preprocessing_helper': None,\n",
    "    'postprocessing': None,\n",
    "    'postprocessing_helper': None,\n",
    "    'features': features,\n",
    "    'weight_dict': model.state_dict(),\n",
    "}\n",
    "\n",
    "metadata_dict = {\n",
    "    'species': 'Homo sapiens',\n",
    "    'data_type': 'methylation',\n",
    "    'year': 2019,\n",
    "    'citation': \"Lu, Ake T., et al. \\\"DNA methylation-based estimator of telomere length.\\\" Aging (Albany NY) 11.16 (2019): 5895.\",\n",
    "    'doi': \"https://doi.org/10.18632/aging.102173\",\n",
    "    \"notes\": None,\n",
    "}"
   ]
  },
  {
   "cell_type": "code",
   "execution_count": 7,
   "id": "34136f3c-92b8-4641-a103-381d3a7dd857",
   "metadata": {},
   "outputs": [],
   "source": [
    "torch.save(weights_dict, '../weights/dnamtl.pt')\n",
    "torch.save(metadata_dict, '../metadata/dnamtl.pt')"
   ]
  },
  {
   "cell_type": "code",
   "execution_count": 8,
   "id": "303e9b76-993f-4691-af9d-1151b3c7638f",
   "metadata": {},
   "outputs": [
    {
     "data": {
      "text/plain": [
       "0"
      ]
     },
     "execution_count": 8,
     "metadata": {},
     "output_type": "execute_result"
    }
   ],
   "source": [
    "os.system(\"rm coefficients.xlsx\")"
   ]
  }
 ],
 "metadata": {
  "kernelspec": {
   "display_name": "Python 3",
   "language": "python",
   "name": "python3"
  },
  "language_info": {
   "codemirror_mode": {
    "name": "ipython",
    "version": 3
   },
   "file_extension": ".py",
   "mimetype": "text/x-python",
   "name": "python",
   "nbconvert_exporter": "python",
   "pygments_lexer": "ipython3",
   "version": "3.9.17"
  }
 },
 "nbformat": 4,
 "nbformat_minor": 5
}
