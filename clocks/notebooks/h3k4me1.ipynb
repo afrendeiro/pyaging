{
 "cells": [
  {
   "cell_type": "code",
   "execution_count": 1,
   "id": "0d0631fc-37db-46e6-99cf-5b647f8f08c7",
   "metadata": {},
   "outputs": [],
   "source": [
    "import torch\n",
    "import pandas as pd\n",
    "import numpy as np\n",
    "import pyaging as pya\n",
    "import joblib\n",
    "from sklearn.decomposition import TruncatedSVD\n",
    "from sklearn.linear_model import ARDRegression, ElasticNet\n",
    "import os"
   ]
  },
  {
   "cell_type": "code",
   "execution_count": 2,
   "id": "46c6fc26-9a6b-4027-bd01-601b70eb401a",
   "metadata": {},
   "outputs": [
    {
     "name": "stderr",
     "output_type": "stream",
     "text": [
      "Cloning into 'HistoneClocks'...\n"
     ]
    },
    {
     "data": {
      "text/plain": [
       "0"
      ]
     },
     "execution_count": 2,
     "metadata": {},
     "output_type": "execute_result"
    }
   ],
   "source": [
    "os.system(\"git clone https://github.com/rsinghlab/HistoneClocks.git\")"
   ]
  },
  {
   "cell_type": "code",
   "execution_count": 3,
   "id": "bfc7fe3d-3945-4dce-b14e-410bd00da96e",
   "metadata": {},
   "outputs": [],
   "source": [
    "histone = 'H3K4me1'\n",
    "\n",
    "feature_selector_path = 'HistoneClocks/results/models/' + histone + '_feature_selector.pkl'\n",
    "feature_selector = joblib.load(feature_selector_path)\n",
    "\n",
    "dim_reduction_path = 'HistoneClocks/results/models/' + histone + '_dim_reduction.pkl'\n",
    "dim_reduction = joblib.load(dim_reduction_path)\n",
    "\n",
    "ard_model_path = 'HistoneClocks/results/models/' + histone + '_model.pkl'\n",
    "ard_model = joblib.load(ard_model_path)\n",
    "\n",
    "genes = pd.read_csv('HistoneClocks/metadata/Ensembl-105-EnsDb-for-Homo-sapiens-genes.csv')\n",
    "chromosomes = ['1', '10', '11', '12', '13', '14', '15', '16', '17', '18', '19', '2', '20', '21', '22', '3', '4', '5', '6', '7', '8', '9', 'X']\n",
    "genes = genes[genes['chr'].apply(lambda x: x in chromosomes)]\n",
    "genes.index = genes.gene_id\n",
    "features = genes.gene_id[np.abs(feature_selector.coef_) > 0].tolist()"
   ]
  },
  {
   "cell_type": "code",
   "execution_count": 4,
   "id": "e6a9bbcb-818a-43ca-ac81-65f0c876fab6",
   "metadata": {},
   "outputs": [],
   "source": [
    "model_weights = torch.tensor(ard_model.coef_).float()\n",
    "intercept = torch.tensor([ard_model.intercept_]).float()\n",
    "rotation = torch.tensor(dim_reduction.components_.T).float()"
   ]
  },
  {
   "cell_type": "code",
   "execution_count": 5,
   "id": "5ffcb839-bbc1-4bb4-b74b-8e8a13c63a9d",
   "metadata": {},
   "outputs": [],
   "source": [
    "num_features = rotation.shape[0]\n",
    "num_components = rotation.shape[1]\n",
    "\n",
    "# Initialize the model\n",
    "model = pya.models.PCARDModel(input_dim=num_features, pc_dim=num_components)\n",
    "\n",
    "model.rotation.data = rotation\n",
    "model.linear.weight.data = model_weights.unsqueeze(0)\n",
    "model.linear.bias.data = intercept"
   ]
  },
  {
   "cell_type": "code",
   "execution_count": 6,
   "id": "f3e026e5-7a71-4271-9c67-ce71ae997341",
   "metadata": {},
   "outputs": [],
   "source": [
    "weights_dict = {\n",
    "    'preprocessing': None, \n",
    "    'preprocessing_helper': None,\n",
    "    'postprocessing': None,\n",
    "    'postprocessing_helper': None,\n",
    "    'features': features,\n",
    "    'weight_dict': model.state_dict(),\n",
    "}\n",
    "\n",
    "metadata_dict = {\n",
    "    'species': 'Homo sapiens',\n",
    "    'data_type': 'histone_mark',\n",
    "    'year': 2023,\n",
    "    'citation': \"de Lima Camillo, Lucas Paulo, et al. \\\"Histone mark age of human tissues and cells.\\\" bioRxiv (2023): 2023-08.\",\n",
    "    'doi': \"https://doi.org/10.1101/2023.08.21.554165\",\n",
    "    \"notes\": \"This is still a preprint, so the model might change\",\n",
    "}"
   ]
  },
  {
   "cell_type": "code",
   "execution_count": 7,
   "id": "34136f3c-92b8-4641-a103-381d3a7dd857",
   "metadata": {},
   "outputs": [],
   "source": [
    "torch.save(weights_dict, '../weights/h3k4me1.pt')\n",
    "torch.save(metadata_dict, '../metadata/h3k4me1.pt')"
   ]
  },
  {
   "cell_type": "code",
   "execution_count": 8,
   "id": "303e9b76-993f-4691-af9d-1151b3c7638f",
   "metadata": {},
   "outputs": [
    {
     "data": {
      "text/plain": [
       "0"
      ]
     },
     "execution_count": 8,
     "metadata": {},
     "output_type": "execute_result"
    }
   ],
   "source": [
    "os.system(\"rm -r HistoneClocks\")"
   ]
  },
  {
   "cell_type": "code",
   "execution_count": null,
   "id": "6eb79a16-bded-40d3-9d8c-4f30a34533ce",
   "metadata": {},
   "outputs": [],
   "source": []
  }
 ],
 "metadata": {
  "kernelspec": {
   "display_name": "Python 3",
   "language": "python",
   "name": "python3"
  },
  "language_info": {
   "codemirror_mode": {
    "name": "ipython",
    "version": 3
   },
   "file_extension": ".py",
   "mimetype": "text/x-python",
   "name": "python",
   "nbconvert_exporter": "python",
   "pygments_lexer": "ipython3",
   "version": "3.9.17"
  }
 },
 "nbformat": 4,
 "nbformat_minor": 5
}
