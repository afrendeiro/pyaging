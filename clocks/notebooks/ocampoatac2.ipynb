{
 "cells": [
  {
   "cell_type": "code",
   "execution_count": 1,
   "id": "fb157849-5454-4a60-8548-fff633fff764",
   "metadata": {},
   "outputs": [],
   "source": [
    "import torch\n",
    "import pandas as pd\n",
    "import pyaging as pya\n",
    "import os"
   ]
  },
  {
   "cell_type": "code",
   "execution_count": 2,
   "id": "46c6fc26-9a6b-4027-bd01-601b70eb401a",
   "metadata": {},
   "outputs": [
    {
     "data": {
      "text/plain": [
       "0"
      ]
     },
     "execution_count": 2,
     "metadata": {},
     "output_type": "execute_result"
    }
   ],
   "source": [
    "os.system(\"git clone https://github.com/SunScript0/ATAC-clock.git\")\n",
    "os.system(\"curl -o peaks.tsv https://static-content.springer.com/esm/art%3A10.1007%2Fs11357-023-00986-0/MediaObjects/11357_2023_986_MOESM9_ESM.tsv\")"
   ]
  },
  {
   "cell_type": "code",
   "execution_count": 3,
   "id": "24fad9f6-755f-44a8-bc73-cc9c057d5cb9",
   "metadata": {},
   "outputs": [],
   "source": [
    "df = pd.read_table('ATAC-clock/clocks/parallel/2023-03-19_10-06_tpm_all_samples/final_coefs.tsv', index_col=0)\n",
    "\n",
    "df = df[df.coef != 0]\n",
    "\n",
    "df['feature'] = df.index.tolist()\n",
    "df['coefficient'] = df['coef']"
   ]
  },
  {
   "cell_type": "code",
   "execution_count": 4,
   "id": "a284fe99-dc47-4f0c-b2ff-274e136e7020",
   "metadata": {},
   "outputs": [
    {
     "name": "stderr",
     "output_type": "stream",
     "text": [
      "<ipython-input-4-85a4b9f25d8c>:4: FutureWarning: Series.__getitem__ treating keys as positions is deprecated. In a future version, integer keys will always be treated as labels (consistent with DataFrame behavior). To access a value by position, use `ser.iloc[pos]`\n",
      "  intercept = torch.tensor([df['coefficient'][-1]])\n"
     ]
    }
   ],
   "source": [
    "features = df['feature'][0:-1].tolist()\n",
    "\n",
    "weights = torch.tensor(df['coefficient'][0:-1].tolist()).unsqueeze(0)\n",
    "intercept = torch.tensor([df['coefficient'][-1]])"
   ]
  },
  {
   "cell_type": "code",
   "execution_count": 5,
   "id": "9ca57c30-928f-4a56-ab11-4f6f2622196d",
   "metadata": {},
   "outputs": [],
   "source": [
    "peaks = pd.read_table('peaks.tsv')\n",
    "features = peaks.loc[features, 'desc'].tolist()"
   ]
  },
  {
   "cell_type": "code",
   "execution_count": 6,
   "id": "7b4c3f6b-72af-4e99-84c4-65b8ef58c91d",
   "metadata": {},
   "outputs": [
    {
     "data": {
      "text/plain": [
       "LinearModel(\n",
       "  (linear): Linear(in_features=380, out_features=1, bias=True)\n",
       ")"
      ]
     },
     "execution_count": 6,
     "metadata": {},
     "output_type": "execute_result"
    }
   ],
   "source": [
    "model = pya.models.LinearModel(len(features))\n",
    "\n",
    "model.linear.weight.data = weights\n",
    "model.linear.bias.data = intercept\n",
    "\n",
    "model"
   ]
  },
  {
   "cell_type": "code",
   "execution_count": 17,
   "id": "5250562b-8606-4b22-8f4c-85e3db63d943",
   "metadata": {},
   "outputs": [],
   "source": [
    "def parse_genomic_location(loc: str):\n",
    "    chrom, positions = loc.split(':')\n",
    "    start, end = map(int, positions.split('-'))\n",
    "    length = end - start\n",
    "    return length\n",
    "\n",
    "preprocessing_helper = [parse_genomic_location(peak) for peak in peaks['desc'].tolist()]"
   ]
  },
  {
   "cell_type": "code",
   "execution_count": 18,
   "id": "f3e026e5-7a71-4271-9c67-ce71ae997341",
   "metadata": {},
   "outputs": [],
   "source": [
    "weights_dict = {\n",
    "    'preprocessing': 'tpm_norm_log1p', \n",
    "    'preprocessing_helper': preprocessing_helper,\n",
    "    'postprocessing': None,\n",
    "    'postprocessing_helper': None,\n",
    "    'features': features,\n",
    "    'weight_dict': model.state_dict(),\n",
    "    'model_class': 'LinearModel',\n",
    "}\n",
    "\n",
    "metadata_dict = {\n",
    "    'species': 'Homo sapiens',\n",
    "    'data_type': 'atac',\n",
    "    'year': 2023,\n",
    "    'implementation_approved_by_author(s)': '⌛',\n",
    "    'preprocessing': weights_dict['preprocessing'], \n",
    "    'postprocessing': weights_dict['postprocessing'], \n",
    "    'citation': \"Morandini, Francesco, et al. \\\"ATAC-clock: An aging clock based on chromatin accessibility.\\\" GeroScience (2023): 1-18.\",\n",
    "    'doi': \"https://doi.org/10.1007/s11357-023-00986-0\",\n",
    "    \"notes\": \"This is the model trained on the ATAC data produced by the Ocampo lab plus a public dataset\",\n",
    "}"
   ]
  },
  {
   "cell_type": "code",
   "execution_count": 19,
   "id": "34136f3c-92b8-4641-a103-381d3a7dd857",
   "metadata": {},
   "outputs": [],
   "source": [
    "torch.save(weights_dict, '../weights/ocampoatac2.pt')\n",
    "torch.save(metadata_dict, '../metadata/ocampoatac2.pt')"
   ]
  },
  {
   "cell_type": "code",
   "execution_count": 9,
   "id": "303e9b76-993f-4691-af9d-1151b3c7638f",
   "metadata": {},
   "outputs": [
    {
     "data": {
      "text/plain": [
       "0"
      ]
     },
     "execution_count": 9,
     "metadata": {},
     "output_type": "execute_result"
    }
   ],
   "source": [
    "os.system(\"rm -r ATAC-clock\")\n",
    "os.system(\"rm peaks.tsv\")"
   ]
  }
 ],
 "metadata": {
  "kernelspec": {
   "display_name": "Python 3",
   "language": "python",
   "name": "python3"
  },
  "language_info": {
   "codemirror_mode": {
    "name": "ipython",
    "version": 3
   },
   "file_extension": ".py",
   "mimetype": "text/x-python",
   "name": "python",
   "nbconvert_exporter": "python",
   "pygments_lexer": "ipython3",
   "version": "3.9.17"
  }
 },
 "nbformat": 4,
 "nbformat_minor": 5
}
