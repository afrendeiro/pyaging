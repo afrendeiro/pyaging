{
 "cells": [
  {
   "cell_type": "code",
   "execution_count": 1,
   "id": "ae756043-21a3-46e9-9fd8-1e5449eba9cb",
   "metadata": {},
   "outputs": [],
   "source": [
    "import torch\n",
    "import pandas as pd\n",
    "import pyaging as pya\n",
    "import tensorflow as tf\n",
    "from tensorflow.keras.models import load_model\n",
    "import os"
   ]
  },
  {
   "cell_type": "code",
   "execution_count": 2,
   "id": "46c6fc26-9a6b-4027-bd01-601b70eb401a",
   "metadata": {},
   "outputs": [
    {
     "name": "stderr",
     "output_type": "stream",
     "text": [
      "Cloning into 'AltumAge'...\n"
     ]
    },
    {
     "data": {
      "text/plain": [
       "0"
      ]
     },
     "execution_count": 2,
     "metadata": {},
     "output_type": "execute_result"
    }
   ],
   "source": [
    "os.system(\"git clone https://github.com/rsinghlab/AltumAge\")"
   ]
  },
  {
   "cell_type": "code",
   "execution_count": 3,
   "id": "57d781f2-fe7f-467a-b625-b2ba30769260",
   "metadata": {},
   "outputs": [
    {
     "name": "stderr",
     "output_type": "stream",
     "text": [
      "2023-11-19 14:13:03.441129: I metal_plugin/src/device/metal_device.cc:1154] Metal device set to: Apple M1\n",
      "2023-11-19 14:13:03.441168: I metal_plugin/src/device/metal_device.cc:296] systemMemory: 16.00 GB\n",
      "2023-11-19 14:13:03.441178: I metal_plugin/src/device/metal_device.cc:313] maxCacheSize: 5.33 GB\n",
      "2023-11-19 14:13:03.441439: I tensorflow/core/common_runtime/pluggable_device/pluggable_device_factory.cc:306] Could not identify NUMA node of platform GPU ID 0, defaulting to 0. Your kernel may not have been built with NUMA support.\n",
      "2023-11-19 14:13:03.441845: I tensorflow/core/common_runtime/pluggable_device/pluggable_device_factory.cc:272] Created TensorFlow device (/job:localhost/replica:0/task:0/device:GPU:0 with 0 MB memory) -> physical PluggableDevice (device: 0, name: METAL, pci bus id: <undefined>)\n"
     ]
    }
   ],
   "source": [
    "AltumAge = load_model('AltumAge/example_dependencies/AltumAge.h5')  # Load your trained TensorFlow model\n",
    "\n",
    "weights = {}\n",
    "for layer in AltumAge.layers:\n",
    "    weights[layer.name] = layer.get_weights()\n",
    "\n",
    "# Instantiate your PyTorch model\n",
    "model = pya.models.AltumAge()\n",
    "\n",
    "# Function to copy weights from TensorFlow to PyTorch\n",
    "def copy_weights(torch_layer, tf_weights, bn=False):\n",
    "    with torch.no_grad():\n",
    "        if bn:\n",
    "            torch_layer.weight.data = torch.tensor(tf_weights[0]).float()\n",
    "            torch_layer.bias.data = torch.tensor(tf_weights[1]).float()\n",
    "            torch_layer.running_mean.data = torch.tensor(tf_weights[2]).float()\n",
    "            torch_layer.running_var.data = torch.tensor(tf_weights[3]).float()\n",
    "        else:\n",
    "            torch_layer.weight.data = torch.tensor(tf_weights[0]).T.float()\n",
    "            torch_layer.bias.data = torch.tensor(tf_weights[1]).float()\n",
    "\n",
    "# Now copy the weights\n",
    "# Note: Ensure the names match between TensorFlow and PyTorch layers\n",
    "copy_weights(model.bn1, weights['batch_normalization_84'], bn=True)\n",
    "copy_weights(model.linear1, weights['dense_84'])\n",
    "copy_weights(model.bn2, weights['batch_normalization_85'], bn=True)\n",
    "copy_weights(model.linear2, weights['dense_85'])\n",
    "copy_weights(model.bn3, weights['batch_normalization_86'], bn=True)\n",
    "copy_weights(model.linear3, weights['dense_86'])\n",
    "copy_weights(model.bn4, weights['batch_normalization_87'], bn=True)\n",
    "copy_weights(model.linear4, weights['dense_87'])\n",
    "copy_weights(model.bn5, weights['batch_normalization_88'], bn=True)\n",
    "copy_weights(model.linear5, weights['dense_88'])\n",
    "copy_weights(model.bn6, weights['batch_normalization_89'], bn=True)\n",
    "copy_weights(model.linear6, weights['dense_89'])"
   ]
  },
  {
   "cell_type": "code",
   "execution_count": 4,
   "id": "a284fe99-dc47-4f0c-b2ff-274e136e7020",
   "metadata": {},
   "outputs": [],
   "source": [
    "features = pd.read_pickle('AltumAge/example_dependencies/multi_platform_cpgs.pkl').tolist()"
   ]
  },
  {
   "cell_type": "code",
   "execution_count": 7,
   "id": "59633c47-65b9-4eee-92cd-dee2259268eb",
   "metadata": {},
   "outputs": [],
   "source": [
    "scaler = pd.read_pickle('AltumAge/example_dependencies/scaler.pkl')"
   ]
  },
  {
   "cell_type": "code",
   "execution_count": 8,
   "id": "e2d5c4a3-8a48-4c5d-9f2d-935d389f2f87",
   "metadata": {},
   "outputs": [],
   "source": [
    "weights_dict = {\n",
    "    'preprocessing': 'scale', \n",
    "    'preprocessing_helper': scaler,\n",
    "    'postprocessing': None,\n",
    "    'postprocessing_helper': None,\n",
    "    'features': features,\n",
    "    'weight_dict': model.state_dict(),\n",
    "}\n",
    "\n",
    "metadata_dict = {\n",
    "    'species': 'Homo sapiens',\n",
    "    'data_type': 'methylation',\n",
    "    'year': 2022,\n",
    "    'citation': \"de Lima Camillo, Lucas Paulo, Louis R. Lapierre, and Ritambhara Singh. \\\"A pan-tissue DNA-methylation epigenetic clock based on deep learning.\\\" npj Aging 8.1 (2022): 4.\",\n",
    "    'doi': \"https://doi.org/10.1038/s41514-022-00085-y\"\n",
    "    \"notes\": None,\n",
    "}"
   ]
  },
  {
   "cell_type": "code",
   "execution_count": 9,
   "id": "34136f3c-92b8-4641-a103-381d3a7dd857",
   "metadata": {},
   "outputs": [],
   "source": [
    "torch.save(weights_dict, '../weights/altumage.pt')\n",
    "torch.save(metadata_dict, '../metadata/altumage.pt')"
   ]
  },
  {
   "cell_type": "code",
   "execution_count": 10,
   "id": "d7a8c672-d9f7-487e-af1d-addc55155534",
   "metadata": {},
   "outputs": [
    {
     "data": {
      "text/plain": [
       "0"
      ]
     },
     "execution_count": 10,
     "metadata": {},
     "output_type": "execute_result"
    }
   ],
   "source": [
    "os.system(\"rm -r AltumAge\")"
   ]
  },
  {
   "cell_type": "code",
   "execution_count": null,
   "id": "08275211-980c-47db-a874-f8b204ad685c",
   "metadata": {},
   "outputs": [],
   "source": []
  }
 ],
 "metadata": {
  "kernelspec": {
   "display_name": "Python 3",
   "language": "python",
   "name": "python3"
  },
  "language_info": {
   "codemirror_mode": {
    "name": "ipython",
    "version": 3
   },
   "file_extension": ".py",
   "mimetype": "text/x-python",
   "name": "python",
   "nbconvert_exporter": "python",
   "pygments_lexer": "ipython3",
   "version": "3.9.17"
  }
 },
 "nbformat": 4,
 "nbformat_minor": 5
}
