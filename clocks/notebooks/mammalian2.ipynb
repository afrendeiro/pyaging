{
 "cells": [
  {
   "cell_type": "code",
   "execution_count": 3,
   "id": "fb157849-5454-4a60-8548-fff633fff764",
   "metadata": {},
   "outputs": [],
   "source": [
    "import torch\n",
    "import pandas as pd\n",
    "import pyaging as pya\n",
    "import os"
   ]
  },
  {
   "cell_type": "code",
   "execution_count": 1,
   "id": "46c6fc26-9a6b-4027-bd01-601b70eb401a",
   "metadata": {},
   "outputs": [
    {
     "name": "stdout",
     "output_type": "stream",
     "text": [
      "Cloning into 'MammalianMethylationConsortium'...\n",
      "remote: Enumerating objects: 727, done.\u001b[K\n",
      "remote: Counting objects: 100% (440/440), done.\u001b[K\n",
      "remote: Compressing objects: 100% (241/241), done.\u001b[K\n",
      "remote: Total 727 (delta 197), reused 408 (delta 177), pack-reused 287\u001b[K\n",
      "Receiving objects: 100% (727/727), 746.79 MiB | 8.01 MiB/s, done.\n",
      "Resolving deltas: 100% (328/328), done.\n",
      "Updating files: 100% (317/317), done.\n"
     ]
    }
   ],
   "source": [
    "os.system(\"git clone https://github.com/shorvath/MammalianMethylationConsortium.git\")"
   ]
  },
  {
   "cell_type": "code",
   "execution_count": 4,
   "id": "b9f484b1-f501-41b7-9565-82e03bfe97dc",
   "metadata": {},
   "outputs": [],
   "source": [
    "df = pd.read_csv('MammalianMethylationConsortium/UniversalPanMammalianClock/ClockParameters/clock2.csv')\n",
    "\n",
    "df['feature'] = df['var']\n",
    "df['coefficient'] = df['beta_clock2']"
   ]
  },
  {
   "cell_type": "code",
   "execution_count": 5,
   "id": "a284fe99-dc47-4f0c-b2ff-274e136e7020",
   "metadata": {},
   "outputs": [],
   "source": [
    "features = df['feature'][1:].tolist()\n",
    "\n",
    "weights = torch.tensor(df['coefficient'][1:].tolist()).unsqueeze(0)\n",
    "intercept = torch.tensor([df['coefficient'][0]])"
   ]
  },
  {
   "cell_type": "code",
   "execution_count": 6,
   "id": "7b4c3f6b-72af-4e99-84c4-65b8ef58c91d",
   "metadata": {},
   "outputs": [
    {
     "data": {
      "text/plain": [
       "LinearModel(\n",
       "  (linear): Linear(in_features=816, out_features=1, bias=True)\n",
       ")"
      ]
     },
     "execution_count": 6,
     "metadata": {},
     "output_type": "execute_result"
    }
   ],
   "source": [
    "model = pya.models.LinearModel(len(features))\n",
    "\n",
    "model.linear.weight.data = weights\n",
    "model.linear.bias.data = intercept\n",
    "\n",
    "model"
   ]
  },
  {
   "cell_type": "code",
   "execution_count": 7,
   "id": "f3e026e5-7a71-4271-9c67-ce71ae997341",
   "metadata": {},
   "outputs": [],
   "source": [
    "weights_dict = {\n",
    "    'preprocessing': None, \n",
    "    'preprocessing_helper': None,\n",
    "    'postprocessing': 'anti_log_log',\n",
    "    'postprocessing_helper': None,\n",
    "    'features': features,\n",
    "    'weight_dict': model.state_dict(),\n",
    "}\n",
    "\n",
    "metadata_dict = {\n",
    "    'species': 'multi',\n",
    "    'data_type': 'methylation',\n",
    "    'year': 2023,\n",
    "    'citation': \"Lu, A. T., et al. \\\"Universal DNA methylation age across mammalian tissues.\\\" Nature aging 3.9 (2023): 1144-1166.\",\n",
    "    'doi': \"https://doi.org/10.1038/s43587-023-00462-6\",\n",
    "    \"notes\": \"This is the relative DNAm age predictor from the paper, with min=0 and max=1\",\n",
    "}"
   ]
  },
  {
   "cell_type": "code",
   "execution_count": 8,
   "id": "34136f3c-92b8-4641-a103-381d3a7dd857",
   "metadata": {},
   "outputs": [],
   "source": [
    "torch.save(weights_dict, '../weights/mammalian2.pt')\n",
    "torch.save(metadata_dict, '../metadata/mammalian2.pt')"
   ]
  },
  {
   "cell_type": "code",
   "execution_count": 8,
   "id": "303e9b76-993f-4691-af9d-1151b3c7638f",
   "metadata": {},
   "outputs": [
    {
     "name": "stdout",
     "output_type": "stream",
     "text": [
      "override r--r--r-- lucascamillo/staff for Nature_Comm_2022/.git/objects/pack/pack-4a967da12271f3b3d67b5017cc497aec0d3db655.rev? ^C\n"
     ]
    }
   ],
   "source": [
    "os.system(\"rm -r MammalianMethylationConsortium\")"
   ]
  },
  {
   "cell_type": "code",
   "execution_count": null,
   "id": "6eb79a16-bded-40d3-9d8c-4f30a34533ce",
   "metadata": {},
   "outputs": [],
   "source": []
  }
 ],
 "metadata": {
  "kernelspec": {
   "display_name": "Python 3",
   "language": "python",
   "name": "python3"
  },
  "language_info": {
   "codemirror_mode": {
    "name": "ipython",
    "version": 3
   },
   "file_extension": ".py",
   "mimetype": "text/x-python",
   "name": "python",
   "nbconvert_exporter": "python",
   "pygments_lexer": "ipython3",
   "version": "3.9.17"
  }
 },
 "nbformat": 4,
 "nbformat_minor": 5
}
