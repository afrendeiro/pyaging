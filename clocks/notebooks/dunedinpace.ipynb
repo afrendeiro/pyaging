{
 "cells": [
  {
   "cell_type": "code",
   "execution_count": 1,
   "id": "0c301d16-23f5-47fa-9e9e-d18dd60020e6",
   "metadata": {},
   "outputs": [],
   "source": [
    "import torch\n",
    "import pandas as pd\n",
    "import pyaging as pya\n",
    "import json\n",
    "import os"
   ]
  },
  {
   "cell_type": "code",
   "execution_count": 2,
   "id": "e02674dd-8aef-44ad-89f0-589667cddebb",
   "metadata": {},
   "outputs": [
    {
     "name": "stdout",
     "output_type": "stream",
     "text": [
      "Writing dunedinpace.r\n"
     ]
    }
   ],
   "source": [
    "%%writefile dunedinpace.r\n",
    "\n",
    "devtools::install_github(\"danbelsky/DunedinPACE\", build_vignettes = FALSE)\n",
    "\n",
    "library(DunedinPACE)\n",
    "library(jsonlite)\n",
    "\n",
    "PACE_list = list(c(mPACE_Models$model_probes, mPACE_Models$model_weights, mPACE_Models$model_intercept))\n",
    "\n",
    "write_json(PACE_list, \"DunedinPACE.json\")"
   ]
  },
  {
   "cell_type": "code",
   "execution_count": 3,
   "id": "3881d33a-5846-4258-82ad-2eec8be8ab8d",
   "metadata": {},
   "outputs": [
    {
     "name": "stderr",
     "output_type": "stream",
     "text": [
      "Error in loadNamespace(x) : there is no package called ‘devtools’\n",
      "Calls: loadNamespace -> withRestarts -> withOneRestart -> doWithOneRestart\n",
      "Execution halted\n"
     ]
    },
    {
     "data": {
      "text/plain": [
       "0"
      ]
     },
     "execution_count": 3,
     "metadata": {},
     "output_type": "execute_result"
    }
   ],
   "source": [
    "os.system(\"Rscript dunedinpace.r\")\n",
    "os.system(\"rm dunedinpace.r\")"
   ]
  },
  {
   "cell_type": "code",
   "execution_count": null,
   "id": "0a889ccc-e6da-479d-b188-8cf43ef9f6f7",
   "metadata": {},
   "outputs": [],
   "source": [
    "with open('DunedinPACE.json', 'r') as f:\n",
    "    PACE_list = json.load(f)[0]"
   ]
  },
  {
   "cell_type": "code",
   "execution_count": 23,
   "id": "a284fe99-dc47-4f0c-b2ff-274e136e7020",
   "metadata": {},
   "outputs": [],
   "source": [
    "features = PACE_list['DunedinPACE']\n",
    "\n",
    "weights = torch.tensor(PACE_list['DunedinPACE.1']).unsqueeze(0)\n",
    "intercept = torch.tensor([PACE_list['DunedinPACE.2'][0]])"
   ]
  },
  {
   "cell_type": "code",
   "execution_count": 24,
   "id": "7b4c3f6b-72af-4e99-84c4-65b8ef58c91d",
   "metadata": {},
   "outputs": [
    {
     "data": {
      "text/plain": [
       "LinearModel(\n",
       "  (linear): Linear(in_features=173, out_features=1, bias=True)\n",
       ")"
      ]
     },
     "execution_count": 24,
     "metadata": {},
     "output_type": "execute_result"
    }
   ],
   "source": [
    "model = pya.models.LinearModel(len(features))\n",
    "\n",
    "model.linear.weight.data = weights\n",
    "model.linear.bias.data = intercept\n",
    "\n",
    "model"
   ]
  },
  {
   "cell_type": "code",
   "execution_count": 8,
   "id": "233ff084-d00b-4d92-93ee-d13198d02a20",
   "metadata": {},
   "outputs": [],
   "source": [
    "weights_dict = {\n",
    "    'preprocessing': None, \n",
    "    'preprocessing_helper': None,\n",
    "    'postprocessing': None,\n",
    "    'postprocessing_helper': None,\n",
    "    'features': features,\n",
    "    'weight_dict': model.state_dict(),\n",
    "}\n",
    "\n",
    "metadata_dict = {\n",
    "    'species': 'Homo sapiens',\n",
    "    'data_type': 'methylation',\n",
    "    'year': 2022,\n",
    "    'citation': \"Belsky, Daniel W., et al. \\\"DunedinPACE, a DNA methylation biomarker of the pace of aging.\\\" Elife 11 (2022): e73420.\",\n",
    "    'doi': \"https://doi.org/10.7554/eLife.73420\"\n",
    "}"
   ]
  },
  {
   "cell_type": "code",
   "execution_count": 9,
   "id": "b8d84ac1-f6c4-43c3-85d8-5df6b3d7c27b",
   "metadata": {},
   "outputs": [],
   "source": [
    "torch.save(weights_dict, '../weights/dunedinpace.pt')\n",
    "torch.save(metadata_dict, '../metadata/dunedinpace.pt')"
   ]
  },
  {
   "cell_type": "code",
   "execution_count": 10,
   "id": "d408f882-cbad-4045-9169-dd5c23f1d2d0",
   "metadata": {},
   "outputs": [
    {
     "name": "stderr",
     "output_type": "stream",
     "text": [
      "rm: DunedinPACE.json: No such file or directory\n"
     ]
    },
    {
     "data": {
      "text/plain": [
       "256"
      ]
     },
     "execution_count": 10,
     "metadata": {},
     "output_type": "execute_result"
    }
   ],
   "source": [
    "os.system(\"rm DunedinPACE.json\")"
   ]
  },
  {
   "cell_type": "code",
   "execution_count": null,
   "id": "c881ed57-3cba-4ead-b3a0-0fd0ec4e7560",
   "metadata": {},
   "outputs": [],
   "source": []
  }
 ],
 "metadata": {
  "kernelspec": {
   "display_name": "Python 3 (ipykernel)",
   "language": "python",
   "name": "python3"
  },
  "language_info": {
   "codemirror_mode": {
    "name": "ipython",
    "version": 3
   },
   "file_extension": ".py",
   "mimetype": "text/x-python",
   "name": "python",
   "nbconvert_exporter": "python",
   "pygments_lexer": "ipython3",
   "version": "3.9.17"
  }
 },
 "nbformat": 4,
 "nbformat_minor": 5
}
