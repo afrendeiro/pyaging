{
 "cells": [
  {
   "cell_type": "code",
   "execution_count": 13,
   "id": "0c301d16-23f5-47fa-9e9e-d18dd60020e6",
   "metadata": {},
   "outputs": [],
   "source": [
    "import torch\n",
    "import pandas as pd\n",
    "import pyaging as pya\n",
    "import json\n",
    "import os"
   ]
  },
  {
   "cell_type": "code",
   "execution_count": 14,
   "id": "e02674dd-8aef-44ad-89f0-589667cddebb",
   "metadata": {},
   "outputs": [
    {
     "name": "stdout",
     "output_type": "stream",
     "text": [
      "Writing dunedinpace.r\n"
     ]
    }
   ],
   "source": [
    "%%writefile dunedinpace.r\n",
    "\n",
    "options(repos = c(CRAN = \"https://cloud.r-project.org/\"))\n",
    "\n",
    "install.packages(\"devtools\")\n",
    "\n",
    "devtools::install_github(\"danbelsky/DunedinPACE\", build_vignettes = FALSE)\n",
    "\n",
    "library(DunedinPACE)\n",
    "library(jsonlite)\n",
    "\n",
    "PACE_list = list(c(\n",
    "    mPACE_Models$model_names, \n",
    "    mPACE_Models$gold_standard_probes, \n",
    "    mPACE_Models$model_weights, \n",
    "    mPACE_Models$model_intercept,\n",
    "    mPACE_Models$model_means,\n",
    "    mPACE_Models$model_probes,\n",
    "    mPACE_Models$gold_standard_means    \n",
    "))\n",
    "\n",
    "write_json(PACE_list, \"DunedinPACE.json\")"
   ]
  },
  {
   "cell_type": "code",
   "execution_count": 6,
   "id": "3881d33a-5846-4258-82ad-2eec8be8ab8d",
   "metadata": {},
   "outputs": [
    {
     "data": {
      "text/plain": [
       "0"
      ]
     },
     "execution_count": 6,
     "metadata": {},
     "output_type": "execute_result"
    }
   ],
   "source": [
    "os.system(\"Rscript dunedinpace.r\")\n",
    "os.system(\"rm dunedinpace.r\")"
   ]
  },
  {
   "cell_type": "code",
   "execution_count": 16,
   "id": "0a889ccc-e6da-479d-b188-8cf43ef9f6f7",
   "metadata": {},
   "outputs": [],
   "source": [
    "with open('DunedinPACE.json', 'r') as f:\n",
    "    PACE_list = json.load(f)[0]"
   ]
  },
  {
   "cell_type": "code",
   "execution_count": 21,
   "id": "a284fe99-dc47-4f0c-b2ff-274e136e7020",
   "metadata": {},
   "outputs": [],
   "source": [
    "features = PACE_list['DunedinPACE.4']\n",
    "\n",
    "weights = torch.tensor(PACE_list['DunedinPACE.1']).unsqueeze(0)\n",
    "intercept = torch.tensor([PACE_list['DunedinPACE.2'][0]])"
   ]
  },
  {
   "cell_type": "code",
   "execution_count": 30,
   "id": "28a06843-779c-4351-83f1-9d99b616e23c",
   "metadata": {},
   "outputs": [
    {
     "data": {
      "text/plain": [
       "dict_keys(['1', 'DunedinPACE', 'DunedinPACE.1', 'DunedinPACE.2', 'DunedinPACE.3', 'DunedinPACE.4', 'DunedinPACE.5'])"
      ]
     },
     "execution_count": 30,
     "metadata": {},
     "output_type": "execute_result"
    }
   ],
   "source": [
    "PACE_list.keys()"
   ]
  },
  {
   "cell_type": "code",
   "execution_count": 22,
   "id": "7b4c3f6b-72af-4e99-84c4-65b8ef58c91d",
   "metadata": {},
   "outputs": [
    {
     "data": {
      "text/plain": [
       "LinearModel(\n",
       "  (linear): Linear(in_features=173, out_features=1, bias=True)\n",
       ")"
      ]
     },
     "execution_count": 22,
     "metadata": {},
     "output_type": "execute_result"
    }
   ],
   "source": [
    "model = pya.models.LinearModel(len(features))\n",
    "\n",
    "model.linear.weight.data = weights\n",
    "model.linear.bias.data = intercept\n",
    "\n",
    "model"
   ]
  },
  {
   "cell_type": "code",
   "execution_count": 54,
   "id": "303cc506-da69-4354-97f9-283875cfcdc2",
   "metadata": {},
   "outputs": [],
   "source": [
    "preprocessing_helper = {\n",
    "    'gold_standard_probes': PACE_list['DunedinPACE.5'],\n",
    "    'gold_standard_means': PACE_list['DunedinPACE.5'],\n",
    "}"
   ]
  },
  {
   "cell_type": "code",
   "execution_count": 55,
   "id": "233ff084-d00b-4d92-93ee-d13198d02a20",
   "metadata": {},
   "outputs": [],
   "source": [
    "weights_dict = {\n",
    "    'preprocessing': \"quantile_normalization_with_gold_standard\", \n",
    "    'preprocessing_helper': preprocessing_helper,\n",
    "    'postprocessing': None,\n",
    "    'postprocessing_helper': None,\n",
    "    'features': features,\n",
    "    'weight_dict': model.state_dict(),\n",
    "}\n",
    "\n",
    "metadata_dict = {\n",
    "    'species': 'Homo sapiens',\n",
    "    'data_type': 'methylation',\n",
    "    'year': 2022,\n",
    "    'preprocessing': weights_dict['preprocessing'], \n",
    "    'postprocessing': weights_dict['postprocessing'], \n",
    "    'citation': \"Belsky, Daniel W., et al. \\\"DunedinPACE, a DNA methylation biomarker of the pace of aging.\\\" Elife 11 (2022): e73420.\",\n",
    "    'doi': \"https://doi.org/10.7554/eLife.73420\",\n",
    "    \"notes\": \"The automatic failure if fewer than 80% of the CpG probes are available is not implemented and left to the user's discretion.\",\n",
    "}"
   ]
  },
  {
   "cell_type": "code",
   "execution_count": 56,
   "id": "b8d84ac1-f6c4-43c3-85d8-5df6b3d7c27b",
   "metadata": {},
   "outputs": [],
   "source": [
    "torch.save(weights_dict, '../weights/dunedinpace.pt')\n",
    "torch.save(metadata_dict, '../metadata/dunedinpace.pt')"
   ]
  },
  {
   "cell_type": "code",
   "execution_count": 28,
   "id": "d408f882-cbad-4045-9169-dd5c23f1d2d0",
   "metadata": {},
   "outputs": [
    {
     "data": {
      "text/plain": [
       "0"
      ]
     },
     "execution_count": 28,
     "metadata": {},
     "output_type": "execute_result"
    }
   ],
   "source": [
    "os.system(\"rm DunedinPACE.json\")"
   ]
  },
  {
   "cell_type": "code",
   "execution_count": null,
   "id": "c881ed57-3cba-4ead-b3a0-0fd0ec4e7560",
   "metadata": {},
   "outputs": [],
   "source": []
  }
 ],
 "metadata": {
  "kernelspec": {
   "display_name": "Python 3",
   "language": "python",
   "name": "python3"
  },
  "language_info": {
   "codemirror_mode": {
    "name": "ipython",
    "version": 3
   },
   "file_extension": ".py",
   "mimetype": "text/x-python",
   "name": "python",
   "nbconvert_exporter": "python",
   "pygments_lexer": "ipython3",
   "version": "3.9.17"
  }
 },
 "nbformat": 4,
 "nbformat_minor": 5
}
