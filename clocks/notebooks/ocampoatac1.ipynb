{
 "cells": [
  {
   "cell_type": "code",
   "execution_count": 1,
   "id": "fb157849-5454-4a60-8548-fff633fff764",
   "metadata": {},
   "outputs": [],
   "source": [
    "import torch\n",
    "import pandas as pd\n",
    "import pyaging as pya\n",
    "import os"
   ]
  },
  {
   "cell_type": "code",
   "execution_count": 15,
   "id": "ff718e71-ac36-4458-b987-9168635ba46c",
   "metadata": {},
   "outputs": [
    {
     "data": {
      "text/plain": [
       "0"
      ]
     },
     "execution_count": 15,
     "metadata": {},
     "output_type": "execute_result"
    }
   ],
   "source": [
    "os.system(\"curl -o coefficients.csv https://static-content.springer.com/esm/art%3A10.1007%2Fs11357-023-00986-0/MediaObjects/11357_2023_986_MOESM14_ESM.csv\")\n",
    "os.system(\"curl -o peaks.tsv https://static-content.springer.com/esm/art%3A10.1007%2Fs11357-023-00986-0/MediaObjects/11357_2023_986_MOESM9_ESM.tsv\")"
   ]
  },
  {
   "cell_type": "code",
   "execution_count": 3,
   "id": "c08b9dd0-e84e-42ec-bd58-03ad49b78782",
   "metadata": {},
   "outputs": [],
   "source": [
    "df = pd.read_csv('coefficients.csv')\n",
    "\n",
    "df['feature'] = df.desc.tolist()\n",
    "df['coefficient'] = df['coef']"
   ]
  },
  {
   "cell_type": "code",
   "execution_count": 4,
   "id": "9d6164e3-92b0-4294-bf87-e20356d8d660",
   "metadata": {},
   "outputs": [],
   "source": [
    "features = df['feature'][1::].tolist()\n",
    "\n",
    "weights = torch.tensor(df['coefficient'][1:].tolist()).unsqueeze(0)\n",
    "intercept = torch.tensor([df['coefficient'][0]])"
   ]
  },
  {
   "cell_type": "code",
   "execution_count": 5,
   "id": "7b4c3f6b-72af-4e99-84c4-65b8ef58c91d",
   "metadata": {},
   "outputs": [
    {
     "data": {
      "text/plain": [
       "LinearModel(\n",
       "  (linear): Linear(in_features=228, out_features=1, bias=True)\n",
       ")"
      ]
     },
     "execution_count": 5,
     "metadata": {},
     "output_type": "execute_result"
    }
   ],
   "source": [
    "model = pya.models.LinearModel(len(features))\n",
    "\n",
    "model.linear.weight.data = weights\n",
    "model.linear.bias.data = intercept\n",
    "\n",
    "model"
   ]
  },
  {
   "cell_type": "code",
   "execution_count": 16,
   "id": "f1aa31c2-a0d2-4b30-a5d8-fe3825dee5d5",
   "metadata": {},
   "outputs": [],
   "source": [
    "def parse_genomic_location(loc: str):\n",
    "    chrom, positions = loc.split(':')\n",
    "    start, end = map(int, positions.split('-'))\n",
    "    length = end - start\n",
    "    return length\n",
    "\n",
    "peaks = pd.read_table('peaks.tsv')\n",
    "preprocessing_helper = [parse_genomic_location(peak) for peak in peaks['desc'].tolist()]"
   ]
  },
  {
   "cell_type": "code",
   "execution_count": 19,
   "id": "f3e026e5-7a71-4271-9c67-ce71ae997341",
   "metadata": {},
   "outputs": [],
   "source": [
    "weights_dict = {\n",
    "    'preprocessing': 'tpm_norm_log1p', \n",
    "    'preprocessing_helper': preprocessing_helper,\n",
    "    'postprocessing': None,\n",
    "    'postprocessing_helper': None,\n",
    "    'features': features,\n",
    "    'weight_dict': model.state_dict(),\n",
    "    'model_class': 'LinearModel',\n",
    "}\n",
    "\n",
    "metadata_dict = {\n",
    "    'species': 'Homo sapiens',\n",
    "    'data_type': 'atac',\n",
    "    'year': 2023,\n",
    "    'implementation_approved_by_author(s)': '⌛',\n",
    "    'preprocessing': weights_dict['preprocessing'], \n",
    "    'postprocessing': weights_dict['postprocessing'], \n",
    "    'citation': \"Morandini, Francesco, et al. \\\"ATAC-clock: An aging clock based on chromatin accessibility.\\\" GeroScience (2023): 1-18.\",\n",
    "    'doi': \"https://doi.org/10.1007/s11357-023-00986-0\",\n",
    "    \"notes\": \"This is the model trained on the ATAC data produced by the Ocampo lab plus a public dataset\",\n",
    "}"
   ]
  },
  {
   "cell_type": "code",
   "execution_count": 20,
   "id": "34136f3c-92b8-4641-a103-381d3a7dd857",
   "metadata": {},
   "outputs": [],
   "source": [
    "torch.save(weights_dict, '../weights/ocampoatac1.pt')\n",
    "torch.save(metadata_dict, '../metadata/ocampoatac1.pt')"
   ]
  },
  {
   "cell_type": "code",
   "execution_count": 8,
   "id": "6eb79a16-bded-40d3-9d8c-4f30a34533ce",
   "metadata": {},
   "outputs": [
    {
     "data": {
      "text/plain": [
       "0"
      ]
     },
     "execution_count": 8,
     "metadata": {},
     "output_type": "execute_result"
    }
   ],
   "source": [
    "os.system(\"rm coefficients.csv\")\n",
    "os.system(\"rm peaks.tsv\")"
   ]
  }
 ],
 "metadata": {
  "kernelspec": {
   "display_name": "Python 3",
   "language": "python",
   "name": "python3"
  },
  "language_info": {
   "codemirror_mode": {
    "name": "ipython",
    "version": 3
   },
   "file_extension": ".py",
   "mimetype": "text/x-python",
   "name": "python",
   "nbconvert_exporter": "python",
   "pygments_lexer": "ipython3",
   "version": "3.9.17"
  }
 },
 "nbformat": 4,
 "nbformat_minor": 5
}
