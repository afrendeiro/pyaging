{
 "cells": [
  {
   "cell_type": "code",
   "execution_count": 1,
   "id": "fb157849-5454-4a60-8548-fff633fff764",
   "metadata": {},
   "outputs": [],
   "source": [
    "import torch\n",
    "import pandas as pd\n",
    "import pyaging as pya\n",
    "import os"
   ]
  },
  {
   "cell_type": "code",
   "execution_count": 2,
   "id": "a284fe99-dc47-4f0c-b2ff-274e136e7020",
   "metadata": {},
   "outputs": [],
   "source": [
    "features = [\n",
    "    'cg01612140',\n",
    "    'cg05575921',\n",
    "    'cg06126421',\n",
    "    'cg08362785',\n",
    "    'cg10321156',\n",
    "    'cg14975410',\n",
    "    'cg19572487',\n",
    "    'cg23665802',\n",
    "    'cg24704287',\n",
    "    'cg25983901'\n",
    "]\n",
    "\n",
    "coefficients = [\n",
    "    -0.38253,\n",
    "    -0.92224,\n",
    "    -1.70129,\n",
    "    2.71749,\n",
    "    -0.02073,\n",
    "    -0.04156,\n",
    "    -0.28069,\n",
    "    -0.89440,\n",
    "    -2.98637,\n",
    "    -1.80325,\n",
    "]\n",
    "\n",
    "weights = torch.tensor(coefficients).unsqueeze(0)\n",
    "intercept = torch.tensor([0.0])"
   ]
  },
  {
   "cell_type": "code",
   "execution_count": 3,
   "id": "7b4c3f6b-72af-4e99-84c4-65b8ef58c91d",
   "metadata": {},
   "outputs": [
    {
     "data": {
      "text/plain": [
       "LinearModel(\n",
       "  (linear): Linear(in_features=10, out_features=1, bias=True)\n",
       ")"
      ]
     },
     "execution_count": 3,
     "metadata": {},
     "output_type": "execute_result"
    }
   ],
   "source": [
    "model = pya.models.LinearModel(len(features))\n",
    "\n",
    "model.linear.weight.data = weights\n",
    "model.linear.bias.data = intercept\n",
    "\n",
    "model"
   ]
  },
  {
   "cell_type": "code",
   "execution_count": 4,
   "id": "803e6dcf-10a6-4792-804c-3c547b86ece7",
   "metadata": {},
   "outputs": [],
   "source": [
    "weights_dict = {\n",
    "    'preprocessing': None, \n",
    "    'preprocessing_helper': None,\n",
    "    'postprocessing': None,\n",
    "    'postprocessing_helper': None,\n",
    "    'features': features,\n",
    "    'weight_dict': model.state_dict(),\n",
    "    'model_class': 'LinearModel',\n",
    "}\n",
    "\n",
    "metadata_dict = {\n",
    "    'species': 'Homo sapiens',\n",
    "    'data_type': 'methylation',\n",
    "    'year': 2019,\n",
    "    'implementation_approved_by_author(s)': '⌛',\n",
    "    'preprocessing': weights_dict['preprocessing'], \n",
    "    'postprocessing': weights_dict['postprocessing'], \n",
    "    'citation': \"Zhang, Yan, et al. \\\"DNA methylation signatures in peripheral blood strongly predict all-cause mortality.\\\" Nature communications 8.1 (2017): 14617.\",\n",
    "    'doi': \"https://doi.org/10.1038/ncomms14617\",\n",
    "    \"notes\": None,\n",
    "}"
   ]
  },
  {
   "cell_type": "code",
   "execution_count": 5,
   "id": "34136f3c-92b8-4641-a103-381d3a7dd857",
   "metadata": {},
   "outputs": [],
   "source": [
    "torch.save(weights_dict, '../weights/zhangmortality.pt')\n",
    "torch.save(metadata_dict, '../metadata/zhangmortality.pt')"
   ]
  },
  {
   "cell_type": "code",
   "execution_count": null,
   "id": "c6862b82-e0d2-48b3-9f74-84b6713ebdd4",
   "metadata": {},
   "outputs": [],
   "source": []
  }
 ],
 "metadata": {
  "kernelspec": {
   "display_name": "Python 3",
   "language": "python",
   "name": "python3"
  },
  "language_info": {
   "codemirror_mode": {
    "name": "ipython",
    "version": 3
   },
   "file_extension": ".py",
   "mimetype": "text/x-python",
   "name": "python",
   "nbconvert_exporter": "python",
   "pygments_lexer": "ipython3",
   "version": "3.9.17"
  }
 },
 "nbformat": 4,
 "nbformat_minor": 5
}
