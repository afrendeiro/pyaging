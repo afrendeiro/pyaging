{
 "cells": [
  {
   "cell_type": "code",
   "execution_count": 1,
   "id": "0c301d16-23f5-47fa-9e9e-d18dd60020e6",
   "metadata": {},
   "outputs": [],
   "source": [
    "import torch\n",
    "import pandas as pd\n",
    "import pyaging as pya\n",
    "import json\n",
    "import os"
   ]
  },
  {
   "cell_type": "code",
   "execution_count": 2,
   "id": "b87c11b5-eed5-423f-8287-d7e72eca5c8b",
   "metadata": {},
   "outputs": [],
   "source": [
    "#download PCClock Rdata file from https://yale.app.box.com/s/kq0b0a7lxckxjvaz7x5n4keaug7tewry"
   ]
  },
  {
   "cell_type": "code",
   "execution_count": 3,
   "id": "e02674dd-8aef-44ad-89f0-589667cddebb",
   "metadata": {},
   "outputs": [
    {
     "name": "stdout",
     "output_type": "stream",
     "text": [
      "Writing pcclocks.r\n"
     ]
    }
   ],
   "source": [
    "%%writefile pcclocks.r\n",
    "\n",
    "library(dplyr)\n",
    "library(tibble)\n",
    "library(tidyr)\n",
    "library(jsonlite)\n",
    "\n",
    "load(file = \"CalcAllPCClocks.RData\")\n",
    "\n",
    "print(ls(all.names = TRUE))\n",
    "\n",
    "write_json(CalcPCHorvath1, \"CalcPCHorvath1.json\")\n",
    "write_json(CpGs, \"CpGs.json\")"
   ]
  },
  {
   "cell_type": "code",
   "execution_count": 4,
   "id": "3881d33a-5846-4258-82ad-2eec8be8ab8d",
   "metadata": {},
   "outputs": [
    {
     "data": {
      "text/plain": [
       "0"
      ]
     },
     "execution_count": 4,
     "metadata": {},
     "output_type": "execute_result"
    }
   ],
   "source": [
    "os.system(\"Rscript pcclocks.r\")\n",
    "os.system(\"rm pcclocks.r\")"
   ]
  },
  {
   "cell_type": "code",
   "execution_count": 5,
   "id": "3b2bdd21-868c-44ec-81ec-841c5af50b94",
   "metadata": {},
   "outputs": [],
   "source": [
    "with open('CpGs.json', 'r') as f:\n",
    "    features = json.load(f)\n",
    "\n",
    "with open('CalcPCHorvath1.json', 'r') as f:\n",
    "    weights_dict = json.load(f)\n",
    "\n",
    "model_weights = torch.tensor(weights_dict['model']).float()\n",
    "intercept = torch.tensor(weights_dict['intercept']).float()\n",
    "center = torch.tensor(weights_dict['center']).float()\n",
    "rotation = torch.tensor(weights_dict['rotation']).float()"
   ]
  },
  {
   "cell_type": "code",
   "execution_count": 6,
   "id": "0aa2daf8-a99b-49c6-8a7a-900cc4a7f904",
   "metadata": {},
   "outputs": [],
   "source": [
    "num_features = rotation.shape[0]\n",
    "num_components = rotation.shape[1]\n",
    "\n",
    "# Initialize the model\n",
    "model = pya.models.PCLinearModel(input_dim=num_features, pc_dim=num_components)\n",
    "\n",
    "model.center.data = center\n",
    "model.rotation.data = rotation\n",
    "model.linear.weight.data = model_weights.unsqueeze(0)\n",
    "model.linear.bias.data = intercept"
   ]
  },
  {
   "cell_type": "code",
   "execution_count": 7,
   "id": "23834500-399f-4195-888b-14de06826a3c",
   "metadata": {},
   "outputs": [],
   "source": [
    "weights_dict = {\n",
    "    'preprocessing': None, \n",
    "    'preprocessing_helper': None,\n",
    "    'postprocessing': 'anti_log_linear',\n",
    "    'postprocessing_helper': None,\n",
    "    'features': features,\n",
    "    'weight_dict': model.state_dict(),\n",
    "}\n",
    "\n",
    "metadata_dict = {\n",
    "    'species': 'Homo sapiens',\n",
    "    'data_type': 'methylation',\n",
    "    'year': 2022,\n",
    "    'implementation_approved_by_author(s)': '⌛',\n",
    "    'preprocessing': weights_dict['preprocessing'], \n",
    "    'postprocessing': weights_dict['postprocessing'], \n",
    "    'citation': \"Higgins-Chen, Albert T., et al. \\\"A computational solution for bolstering reliability of epigenetic clocks: Implications for clinical trials and longitudinal tracking.\\\" Nature aging 2.7 (2022): 644-661.\",\n",
    "    'doi': \"https://doi.org/10.1038/s43587-022-00248-2\",\n",
    "    \"notes\": None,\n",
    "}"
   ]
  },
  {
   "cell_type": "code",
   "execution_count": 8,
   "id": "b8d84ac1-f6c4-43c3-85d8-5df6b3d7c27b",
   "metadata": {},
   "outputs": [],
   "source": [
    "torch.save(weights_dict, '../weights/pchorvath2013.pt')\n",
    "torch.save(metadata_dict, '../metadata/pchorvath2013.pt')"
   ]
  },
  {
   "cell_type": "code",
   "execution_count": 9,
   "id": "d408f882-cbad-4045-9169-dd5c23f1d2d0",
   "metadata": {},
   "outputs": [
    {
     "data": {
      "text/plain": [
       "0"
      ]
     },
     "execution_count": 9,
     "metadata": {},
     "output_type": "execute_result"
    }
   ],
   "source": [
    "os.system(\"rm CalcPCHorvath1.json\")\n",
    "os.system(\"rm CpGs.json\")"
   ]
  },
  {
   "cell_type": "code",
   "execution_count": null,
   "id": "9ab284b1-75e8-48df-bfe3-695148738dcb",
   "metadata": {},
   "outputs": [],
   "source": []
  }
 ],
 "metadata": {
  "kernelspec": {
   "display_name": "Python 3",
   "language": "python",
   "name": "python3"
  },
  "language_info": {
   "codemirror_mode": {
    "name": "ipython",
    "version": 3
   },
   "file_extension": ".py",
   "mimetype": "text/x-python",
   "name": "python",
   "nbconvert_exporter": "python",
   "pygments_lexer": "ipython3",
   "version": "3.9.17"
  }
 },
 "nbformat": 4,
 "nbformat_minor": 5
}
