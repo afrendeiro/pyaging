{
 "cells": [
  {
   "cell_type": "code",
   "execution_count": 2,
   "id": "59eb29df-0597-4d45-b2e6-8825670effe2",
   "metadata": {},
   "outputs": [],
   "source": [
    "import os\n",
    "import torch\n",
    "\n",
    "def merge_pt_files():\n",
    "    combined_dict = {}\n",
    "\n",
    "    # Iterate through all files in the current directory\n",
    "    for filename in os.listdir('.'):\n",
    "        # Check if the file is a .pt file\n",
    "        if filename.endswith('.pt'):\n",
    "            file_path = os.path.join('.', filename)\n",
    "            try:\n",
    "                # Load the .pt file\n",
    "                file_data = torch.load(file_path)\n",
    "                # Check if the loaded data is a dictionary\n",
    "                if isinstance(file_data, dict):\n",
    "                    # Use the filename without '.pt' as the key\n",
    "                    key = filename[:-3]\n",
    "                    if key == 'all_clock_metadata':\n",
    "                        continue\n",
    "                    combined_dict[key] = file_data\n",
    "                else:\n",
    "                    print(f\"Warning: {filename} is not a dictionary.\")\n",
    "            except Exception as e:\n",
    "                print(f\"Error loading {filename}: {e}\")\n",
    "\n",
    "    return combined_dict\n",
    "\n",
    "# Use the function and get the combined dictionary\n",
    "combined_dictionary = merge_pt_files()\n",
    "\n",
    "torch.save(combined_dictionary, 'all_clock_metadata.pt')"
   ]
  }
 ],
 "metadata": {
  "kernelspec": {
   "display_name": "Python 3",
   "language": "python",
   "name": "python3"
  },
  "language_info": {
   "codemirror_mode": {
    "name": "ipython",
    "version": 3
   },
   "file_extension": ".py",
   "mimetype": "text/x-python",
   "name": "python",
   "nbconvert_exporter": "python",
   "pygments_lexer": "ipython3",
   "version": "3.9.17"
  }
 },
 "nbformat": 4,
 "nbformat_minor": 5
}
